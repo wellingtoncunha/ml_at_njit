{
 "cells": [
  {
   "cell_type": "markdown",
   "metadata": {},
   "source": [
    "### Midterm project - Kaggle exercise project\n",
    "\n",
    "https://www.kaggle.com/c/house-prices-advanced-regression-techniques\n",
    "\n",
    "Goals\n",
    "\n",
    "* Get familar with Kaggle competition since our final project may be a real Kaggle competition.\n",
    "* Practice on large data set\n",
    "* Data quality checking, missing data imputation\n",
    "* Feature selection. What's your rationals to choose those features.\n",
    "* Create at least 5 new features and explain your reason for every new features.\n",
    "* Use feature importance to help you choose 10 features\n",
    "* Choose 3 ML algorithms we covered in the class to build your prediction models\n",
    "* For each model you build, you will need to evaluate and show your effort to improve it.\n",
    "* Your jupyter submission should be in an article quality. Do NOT print huge data set in the notebook. Use head(). Use plotting to visualize your analysis and results. Use markdown to write your comments.\n",
    "* Your score is based on completeness on every step.\n",
    "* Submit in HTML and ipynb format on canvas"
   ]
  },
  {
   "cell_type": "code",
   "execution_count": 1,
   "metadata": {},
   "outputs": [],
   "source": [
    "import pandas as pd\n",
    "import numpy as np\n",
    "import matplotlib.pyplot as plt\n",
    "import itertools\n",
    "import datetime\n",
    "from sklearn.model_selection import train_test_split, cross_validate, RepeatedStratifiedKFold\n",
    "from sklearn.linear_model import LinearRegression\n",
    "from sklearn.tree import DecisionTreeRegressor\n",
    "from sklearn.ensemble import RandomForestRegressor\n",
    "from sklearn.svm import SVR\n",
    "from sklearn import metrics\n",
    "from sklearn.preprocessing import StandardScaler, MinMaxScaler, minmax_scale\n",
    "from IPython.display import clear_output\n",
    "# import warnings\n",
    "# warnings.filterwarnings('ignore')"
   ]
  },
  {
   "cell_type": "markdown",
   "metadata": {},
   "source": [
    "We are first going to load the training dataset on a Pandas Dataframe and do some initial cleansing. We will keep this initial cleansed dataset throughout the entire analysis as the baseline for other transformations and evaluations"
   ]
  },
  {
   "cell_type": "code",
   "execution_count": 2,
   "metadata": {},
   "outputs": [
    {
     "data": {
      "text/html": [
       "<div>\n",
       "<style scoped>\n",
       "    .dataframe tbody tr th:only-of-type {\n",
       "        vertical-align: middle;\n",
       "    }\n",
       "\n",
       "    .dataframe tbody tr th {\n",
       "        vertical-align: top;\n",
       "    }\n",
       "\n",
       "    .dataframe thead th {\n",
       "        text-align: right;\n",
       "    }\n",
       "</style>\n",
       "<table border=\"1\" class=\"dataframe\">\n",
       "  <thead>\n",
       "    <tr style=\"text-align: right;\">\n",
       "      <th></th>\n",
       "      <th>Id</th>\n",
       "      <th>MSSubClass</th>\n",
       "      <th>MSZoning</th>\n",
       "      <th>LotFrontage</th>\n",
       "      <th>LotArea</th>\n",
       "      <th>Street</th>\n",
       "      <th>Alley</th>\n",
       "      <th>LotShape</th>\n",
       "      <th>LandContour</th>\n",
       "      <th>Utilities</th>\n",
       "      <th>...</th>\n",
       "      <th>PoolArea</th>\n",
       "      <th>PoolQC</th>\n",
       "      <th>Fence</th>\n",
       "      <th>MiscFeature</th>\n",
       "      <th>MiscVal</th>\n",
       "      <th>MoSold</th>\n",
       "      <th>YrSold</th>\n",
       "      <th>SaleType</th>\n",
       "      <th>SaleCondition</th>\n",
       "      <th>SalePrice</th>\n",
       "    </tr>\n",
       "  </thead>\n",
       "  <tbody>\n",
       "    <tr>\n",
       "      <th>0</th>\n",
       "      <td>1</td>\n",
       "      <td>60</td>\n",
       "      <td>RL</td>\n",
       "      <td>65.0</td>\n",
       "      <td>8450</td>\n",
       "      <td>Pave</td>\n",
       "      <td>NaN</td>\n",
       "      <td>Reg</td>\n",
       "      <td>Lvl</td>\n",
       "      <td>AllPub</td>\n",
       "      <td>...</td>\n",
       "      <td>0</td>\n",
       "      <td>NaN</td>\n",
       "      <td>NaN</td>\n",
       "      <td>NaN</td>\n",
       "      <td>0</td>\n",
       "      <td>2</td>\n",
       "      <td>2008</td>\n",
       "      <td>WD</td>\n",
       "      <td>Normal</td>\n",
       "      <td>208500</td>\n",
       "    </tr>\n",
       "    <tr>\n",
       "      <th>1</th>\n",
       "      <td>2</td>\n",
       "      <td>20</td>\n",
       "      <td>RL</td>\n",
       "      <td>80.0</td>\n",
       "      <td>9600</td>\n",
       "      <td>Pave</td>\n",
       "      <td>NaN</td>\n",
       "      <td>Reg</td>\n",
       "      <td>Lvl</td>\n",
       "      <td>AllPub</td>\n",
       "      <td>...</td>\n",
       "      <td>0</td>\n",
       "      <td>NaN</td>\n",
       "      <td>NaN</td>\n",
       "      <td>NaN</td>\n",
       "      <td>0</td>\n",
       "      <td>5</td>\n",
       "      <td>2007</td>\n",
       "      <td>WD</td>\n",
       "      <td>Normal</td>\n",
       "      <td>181500</td>\n",
       "    </tr>\n",
       "    <tr>\n",
       "      <th>2</th>\n",
       "      <td>3</td>\n",
       "      <td>60</td>\n",
       "      <td>RL</td>\n",
       "      <td>68.0</td>\n",
       "      <td>11250</td>\n",
       "      <td>Pave</td>\n",
       "      <td>NaN</td>\n",
       "      <td>IR1</td>\n",
       "      <td>Lvl</td>\n",
       "      <td>AllPub</td>\n",
       "      <td>...</td>\n",
       "      <td>0</td>\n",
       "      <td>NaN</td>\n",
       "      <td>NaN</td>\n",
       "      <td>NaN</td>\n",
       "      <td>0</td>\n",
       "      <td>9</td>\n",
       "      <td>2008</td>\n",
       "      <td>WD</td>\n",
       "      <td>Normal</td>\n",
       "      <td>223500</td>\n",
       "    </tr>\n",
       "    <tr>\n",
       "      <th>3</th>\n",
       "      <td>4</td>\n",
       "      <td>70</td>\n",
       "      <td>RL</td>\n",
       "      <td>60.0</td>\n",
       "      <td>9550</td>\n",
       "      <td>Pave</td>\n",
       "      <td>NaN</td>\n",
       "      <td>IR1</td>\n",
       "      <td>Lvl</td>\n",
       "      <td>AllPub</td>\n",
       "      <td>...</td>\n",
       "      <td>0</td>\n",
       "      <td>NaN</td>\n",
       "      <td>NaN</td>\n",
       "      <td>NaN</td>\n",
       "      <td>0</td>\n",
       "      <td>2</td>\n",
       "      <td>2006</td>\n",
       "      <td>WD</td>\n",
       "      <td>Abnorml</td>\n",
       "      <td>140000</td>\n",
       "    </tr>\n",
       "    <tr>\n",
       "      <th>4</th>\n",
       "      <td>5</td>\n",
       "      <td>60</td>\n",
       "      <td>RL</td>\n",
       "      <td>84.0</td>\n",
       "      <td>14260</td>\n",
       "      <td>Pave</td>\n",
       "      <td>NaN</td>\n",
       "      <td>IR1</td>\n",
       "      <td>Lvl</td>\n",
       "      <td>AllPub</td>\n",
       "      <td>...</td>\n",
       "      <td>0</td>\n",
       "      <td>NaN</td>\n",
       "      <td>NaN</td>\n",
       "      <td>NaN</td>\n",
       "      <td>0</td>\n",
       "      <td>12</td>\n",
       "      <td>2008</td>\n",
       "      <td>WD</td>\n",
       "      <td>Normal</td>\n",
       "      <td>250000</td>\n",
       "    </tr>\n",
       "  </tbody>\n",
       "</table>\n",
       "<p>5 rows × 81 columns</p>\n",
       "</div>"
      ],
      "text/plain": [
       "   Id  MSSubClass MSZoning  LotFrontage  LotArea Street Alley LotShape  \\\n",
       "0   1          60       RL         65.0     8450   Pave   NaN      Reg   \n",
       "1   2          20       RL         80.0     9600   Pave   NaN      Reg   \n",
       "2   3          60       RL         68.0    11250   Pave   NaN      IR1   \n",
       "3   4          70       RL         60.0     9550   Pave   NaN      IR1   \n",
       "4   5          60       RL         84.0    14260   Pave   NaN      IR1   \n",
       "\n",
       "  LandContour Utilities  ... PoolArea PoolQC Fence MiscFeature MiscVal MoSold  \\\n",
       "0         Lvl    AllPub  ...        0    NaN   NaN         NaN       0      2   \n",
       "1         Lvl    AllPub  ...        0    NaN   NaN         NaN       0      5   \n",
       "2         Lvl    AllPub  ...        0    NaN   NaN         NaN       0      9   \n",
       "3         Lvl    AllPub  ...        0    NaN   NaN         NaN       0      2   \n",
       "4         Lvl    AllPub  ...        0    NaN   NaN         NaN       0     12   \n",
       "\n",
       "  YrSold  SaleType  SaleCondition  SalePrice  \n",
       "0   2008        WD         Normal     208500  \n",
       "1   2007        WD         Normal     181500  \n",
       "2   2008        WD         Normal     223500  \n",
       "3   2006        WD        Abnorml     140000  \n",
       "4   2008        WD         Normal     250000  \n",
       "\n",
       "[5 rows x 81 columns]"
      ]
     },
     "execution_count": 2,
     "metadata": {},
     "output_type": "execute_result"
    }
   ],
   "source": [
    "train_dataset = pd.read_csv(\"train.csv\")\n",
    "train_dataset.head(5)"
   ]
  },
  {
   "cell_type": "markdown",
   "metadata": {},
   "source": [
    "The first transformation that we are going to apply to the dataset is to set the Id column as the index. One of the reasons is for not have to remove it everytime that we need to do an analysis on features. Another one is that it will be used to join with other Dataframes."
   ]
  },
  {
   "cell_type": "code",
   "execution_count": 3,
   "metadata": {},
   "outputs": [],
   "source": [
    "train_dataset.set_index(\"Id\", inplace=True)"
   ]
  },
  {
   "cell_type": "markdown",
   "metadata": {},
   "source": [
    "Now, we take a look on our dataset to understand a little bit of the columns/features and their content."
   ]
  },
  {
   "cell_type": "code",
   "execution_count": 4,
   "metadata": {},
   "outputs": [
    {
     "name": "stdout",
     "output_type": "stream",
     "text": [
      "<class 'pandas.core.frame.DataFrame'>\n",
      "Int64Index: 1460 entries, 1 to 1460\n",
      "Data columns (total 80 columns):\n",
      " #   Column         Non-Null Count  Dtype  \n",
      "---  ------         --------------  -----  \n",
      " 0   MSSubClass     1460 non-null   int64  \n",
      " 1   MSZoning       1460 non-null   object \n",
      " 2   LotFrontage    1201 non-null   float64\n",
      " 3   LotArea        1460 non-null   int64  \n",
      " 4   Street         1460 non-null   object \n",
      " 5   Alley          91 non-null     object \n",
      " 6   LotShape       1460 non-null   object \n",
      " 7   LandContour    1460 non-null   object \n",
      " 8   Utilities      1460 non-null   object \n",
      " 9   LotConfig      1460 non-null   object \n",
      " 10  LandSlope      1460 non-null   object \n",
      " 11  Neighborhood   1460 non-null   object \n",
      " 12  Condition1     1460 non-null   object \n",
      " 13  Condition2     1460 non-null   object \n",
      " 14  BldgType       1460 non-null   object \n",
      " 15  HouseStyle     1460 non-null   object \n",
      " 16  OverallQual    1460 non-null   int64  \n",
      " 17  OverallCond    1460 non-null   int64  \n",
      " 18  YearBuilt      1460 non-null   int64  \n",
      " 19  YearRemodAdd   1460 non-null   int64  \n",
      " 20  RoofStyle      1460 non-null   object \n",
      " 21  RoofMatl       1460 non-null   object \n",
      " 22  Exterior1st    1460 non-null   object \n",
      " 23  Exterior2nd    1460 non-null   object \n",
      " 24  MasVnrType     1452 non-null   object \n",
      " 25  MasVnrArea     1452 non-null   float64\n",
      " 26  ExterQual      1460 non-null   object \n",
      " 27  ExterCond      1460 non-null   object \n",
      " 28  Foundation     1460 non-null   object \n",
      " 29  BsmtQual       1423 non-null   object \n",
      " 30  BsmtCond       1423 non-null   object \n",
      " 31  BsmtExposure   1422 non-null   object \n",
      " 32  BsmtFinType1   1423 non-null   object \n",
      " 33  BsmtFinSF1     1460 non-null   int64  \n",
      " 34  BsmtFinType2   1422 non-null   object \n",
      " 35  BsmtFinSF2     1460 non-null   int64  \n",
      " 36  BsmtUnfSF      1460 non-null   int64  \n",
      " 37  TotalBsmtSF    1460 non-null   int64  \n",
      " 38  Heating        1460 non-null   object \n",
      " 39  HeatingQC      1460 non-null   object \n",
      " 40  CentralAir     1460 non-null   object \n",
      " 41  Electrical     1459 non-null   object \n",
      " 42  1stFlrSF       1460 non-null   int64  \n",
      " 43  2ndFlrSF       1460 non-null   int64  \n",
      " 44  LowQualFinSF   1460 non-null   int64  \n",
      " 45  GrLivArea      1460 non-null   int64  \n",
      " 46  BsmtFullBath   1460 non-null   int64  \n",
      " 47  BsmtHalfBath   1460 non-null   int64  \n",
      " 48  FullBath       1460 non-null   int64  \n",
      " 49  HalfBath       1460 non-null   int64  \n",
      " 50  BedroomAbvGr   1460 non-null   int64  \n",
      " 51  KitchenAbvGr   1460 non-null   int64  \n",
      " 52  KitchenQual    1460 non-null   object \n",
      " 53  TotRmsAbvGrd   1460 non-null   int64  \n",
      " 54  Functional     1460 non-null   object \n",
      " 55  Fireplaces     1460 non-null   int64  \n",
      " 56  FireplaceQu    770 non-null    object \n",
      " 57  GarageType     1379 non-null   object \n",
      " 58  GarageYrBlt    1379 non-null   float64\n",
      " 59  GarageFinish   1379 non-null   object \n",
      " 60  GarageCars     1460 non-null   int64  \n",
      " 61  GarageArea     1460 non-null   int64  \n",
      " 62  GarageQual     1379 non-null   object \n",
      " 63  GarageCond     1379 non-null   object \n",
      " 64  PavedDrive     1460 non-null   object \n",
      " 65  WoodDeckSF     1460 non-null   int64  \n",
      " 66  OpenPorchSF    1460 non-null   int64  \n",
      " 67  EnclosedPorch  1460 non-null   int64  \n",
      " 68  3SsnPorch      1460 non-null   int64  \n",
      " 69  ScreenPorch    1460 non-null   int64  \n",
      " 70  PoolArea       1460 non-null   int64  \n",
      " 71  PoolQC         7 non-null      object \n",
      " 72  Fence          281 non-null    object \n",
      " 73  MiscFeature    54 non-null     object \n",
      " 74  MiscVal        1460 non-null   int64  \n",
      " 75  MoSold         1460 non-null   int64  \n",
      " 76  YrSold         1460 non-null   int64  \n",
      " 77  SaleType       1460 non-null   object \n",
      " 78  SaleCondition  1460 non-null   object \n",
      " 79  SalePrice      1460 non-null   int64  \n",
      "dtypes: float64(3), int64(34), object(43)\n",
      "memory usage: 923.9+ KB\n"
     ]
    }
   ],
   "source": [
    "train_dataset.info()"
   ]
  },
  {
   "cell_type": "markdown",
   "metadata": {},
   "source": [
    "Next step is to deal with the null values. Variables with too much null values will not contribute much to the model and can even reduce the performance. Also, it is hard to fill them using any method, because we will be creating biases anyway."
   ]
  },
  {
   "cell_type": "code",
   "execution_count": 5,
   "metadata": {},
   "outputs": [
    {
     "data": {
      "text/plain": [
       "LotFrontage     17.739726\n",
       "Alley           93.767123\n",
       "MasVnrType       0.547945\n",
       "MasVnrArea       0.547945\n",
       "BsmtQual         2.534247\n",
       "BsmtCond         2.534247\n",
       "BsmtExposure     2.602740\n",
       "BsmtFinType1     2.534247\n",
       "BsmtFinType2     2.602740\n",
       "Electrical       0.068493\n",
       "FireplaceQu     47.260274\n",
       "GarageType       5.547945\n",
       "GarageYrBlt      5.547945\n",
       "GarageFinish     5.547945\n",
       "GarageQual       5.547945\n",
       "GarageCond       5.547945\n",
       "PoolQC          99.520548\n",
       "Fence           80.753425\n",
       "MiscFeature     96.301370\n",
       "dtype: float64"
      ]
     },
     "execution_count": 5,
     "metadata": {},
     "output_type": "execute_result"
    }
   ],
   "source": [
    "null_percentage_per_column = train_dataset.isnull().sum() / len(train_dataset) * 100\n",
    "null_percentage_per_column[null_percentage_per_column > 0]"
   ]
  },
  {
   "cell_type": "markdown",
   "metadata": {},
   "source": [
    "There are four columns (Alley, PoolQC, Fence and MiscFeature) with too much null values (we are considering a threshold of 50%). We are going to remove them from our dataset."
   ]
  },
  {
   "cell_type": "code",
   "execution_count": 6,
   "metadata": {},
   "outputs": [],
   "source": [
    "train_dataset = train_dataset.drop([\"Alley\", \"PoolQC\", \"Fence\", \"MiscFeature\"], axis=1)"
   ]
  },
  {
   "cell_type": "markdown",
   "metadata": {},
   "source": [
    "Now let's take a look on some of the remaining columns with null values to decide the best strategy for each one of them, starting with LotFrontage, which is the linear feet of street connected to property.\n",
    "\n",
    "As we will do the same analysis for other columns, let's create a function that provide the same info."
   ]
  },
  {
   "cell_type": "code",
   "execution_count": 7,
   "metadata": {},
   "outputs": [],
   "source": [
    "def check_column_statistics(dataset, column):\n",
    "    print(\n",
    "        \"\\nTotal rows:\", len(dataset),\n",
    "        \"\\nTotal rows with values:\", dataset[column].count(),\n",
    "        \"\\nTotal rows with no values:\", dataset[column].isnull().sum(),\n",
    "        \"\\n% of rows with no values:\", round(dataset[column].isnull().sum() / len(dataset) * 100, 2),\n",
    "        \"\\nSamples values:\", list(dataset[column].drop_duplicates().head(10))\n",
    "    )\n",
    "    if str(dataset[column].dtypes) == \"object\":\n",
    "        print(\"Mode:\", dataset[column].mode()[0])\n",
    "    else:\n",
    "        print(\n",
    "            \"Median:\", dataset[column].median(),\n",
    "            \"\\nMean:\", dataset[column].mean()\n",
    "        )"
   ]
  },
  {
   "cell_type": "code",
   "execution_count": 8,
   "metadata": {},
   "outputs": [
    {
     "name": "stdout",
     "output_type": "stream",
     "text": [
      "\n",
      "Total rows: 1460 \n",
      "Total rows with values: 1201 \n",
      "Total rows with no values: 259 \n",
      "% of rows with no values: 17.74 \n",
      "Samples values: [65.0, 80.0, 68.0, 60.0, 84.0, 85.0, 75.0, nan, 51.0, 50.0]\n",
      "Median: 69.0 \n",
      "Mean: 70.04995836802665\n"
     ]
    }
   ],
   "source": [
    "check_column_statistics(train_dataset, \"LotFrontage\")"
   ]
  },
  {
   "cell_type": "markdown",
   "metadata": {},
   "source": [
    "Although we have only integer values on LotFrontage column, it seems to be a continuous variable (probably it is being rounded). We have less than 20% empty. Based on the description of the measure and the data it holds, we can use one of the centrality measures to fill up the gaps and for this case we will use the median. "
   ]
  },
  {
   "cell_type": "code",
   "execution_count": 9,
   "metadata": {},
   "outputs": [],
   "source": [
    "train_dataset[\"LotFrontage\"].fillna(train_dataset[\"LotFrontage\"].median(), inplace=True)"
   ]
  },
  {
   "cell_type": "markdown",
   "metadata": {},
   "source": [
    "As we are going to use the code to check the percentage of records with null values a couple more times, let's create a function for it."
   ]
  },
  {
   "cell_type": "code",
   "execution_count": 10,
   "metadata": {},
   "outputs": [],
   "source": [
    "def check_null_values(dataset):\n",
    "    null_percentage_per_column = dataset.isnull().sum()/len(dataset)*100\n",
    "    print(null_percentage_per_column[null_percentage_per_column > 0])"
   ]
  },
  {
   "cell_type": "code",
   "execution_count": 11,
   "metadata": {},
   "outputs": [
    {
     "name": "stdout",
     "output_type": "stream",
     "text": [
      "MasVnrType       0.547945\n",
      "MasVnrArea       0.547945\n",
      "BsmtQual         2.534247\n",
      "BsmtCond         2.534247\n",
      "BsmtExposure     2.602740\n",
      "BsmtFinType1     2.534247\n",
      "BsmtFinType2     2.602740\n",
      "Electrical       0.068493\n",
      "FireplaceQu     47.260274\n",
      "GarageType       5.547945\n",
      "GarageYrBlt      5.547945\n",
      "GarageFinish     5.547945\n",
      "GarageQual       5.547945\n",
      "GarageCond       5.547945\n",
      "dtype: float64\n"
     ]
    }
   ],
   "source": [
    "check_null_values(train_dataset)"
   ]
  },
  {
   "cell_type": "markdown",
   "metadata": {},
   "source": [
    "Next column is MasVnrType which is the Masonry veneer type for the property."
   ]
  },
  {
   "cell_type": "code",
   "execution_count": 12,
   "metadata": {},
   "outputs": [
    {
     "name": "stdout",
     "output_type": "stream",
     "text": [
      "\n",
      "Total rows: 1460 \n",
      "Total rows with values: 1452 \n",
      "Total rows with no values: 8 \n",
      "% of rows with no values: 0.55 \n",
      "Samples values: ['BrkFace', 'None', 'Stone', 'BrkCmn', nan]\n",
      "Mode: None\n"
     ]
    }
   ],
   "source": [
    "check_column_statistics(train_dataset, \"MasVnrType\")"
   ]
  },
  {
   "cell_type": "markdown",
   "metadata": {},
   "source": [
    "For MasVnrType category column we are going to use the mode to fill them (and we will use the same logic for cases alike from now on)"
   ]
  },
  {
   "cell_type": "code",
   "execution_count": 13,
   "metadata": {},
   "outputs": [
    {
     "name": "stdout",
     "output_type": "stream",
     "text": [
      "MasVnrArea       0.547945\n",
      "BsmtQual         2.534247\n",
      "BsmtCond         2.534247\n",
      "BsmtExposure     2.602740\n",
      "BsmtFinType1     2.534247\n",
      "BsmtFinType2     2.602740\n",
      "Electrical       0.068493\n",
      "FireplaceQu     47.260274\n",
      "GarageType       5.547945\n",
      "GarageYrBlt      5.547945\n",
      "GarageFinish     5.547945\n",
      "GarageQual       5.547945\n",
      "GarageCond       5.547945\n",
      "dtype: float64\n"
     ]
    }
   ],
   "source": [
    "train_dataset[\"MasVnrType\"].fillna(train_dataset[\"MasVnrType\"].mode()[0], inplace=True)\n",
    "check_null_values(train_dataset)"
   ]
  },
  {
   "cell_type": "markdown",
   "metadata": {},
   "source": [
    "We can create a loop to perform the same actions for the remaining columns, according to their types: \n",
    "\n",
    "* If categorial, use mode\n",
    "* If numeric, use median"
   ]
  },
  {
   "cell_type": "code",
   "execution_count": 14,
   "metadata": {},
   "outputs": [],
   "source": [
    "null_percentage_per_column = train_dataset.isnull().sum()/len(train_dataset)*100\n",
    "for index, each in pd.DataFrame(null_percentage_per_column[null_percentage_per_column > 0]).iterrows():\n",
    "    if str(train_dataset[index].dtypes) == \"object\":\n",
    "        train_dataset[index].fillna(train_dataset[index].mode()[0], inplace=True)\n",
    "    else:\n",
    "        train_dataset[index].fillna(train_dataset[index].median(), inplace=True)"
   ]
  },
  {
   "cell_type": "markdown",
   "metadata": {},
   "source": [
    "After we have executed, we can double check to be sure there is no longer any column with null values"
   ]
  },
  {
   "cell_type": "code",
   "execution_count": 15,
   "metadata": {},
   "outputs": [
    {
     "name": "stdout",
     "output_type": "stream",
     "text": [
      "Series([], dtype: float64)\n"
     ]
    }
   ],
   "source": [
    "check_null_values(train_dataset)"
   ]
  },
  {
   "cell_type": "markdown",
   "metadata": {},
   "source": [
    "As we are going to use the same transformation on our test dataset, let's build a function to apply the same cleansing actions to any dataset."
   ]
  },
  {
   "cell_type": "code",
   "execution_count": 16,
   "metadata": {},
   "outputs": [],
   "source": [
    "def null_columns_transformation(dataset, train_set=True):\n",
    "    # Set Id column as index\n",
    "    if \"Id\" in dataset.columns:\n",
    "        dataset.set_index(\"Id\", inplace=True)\n",
    "    \n",
    "    null_percentage_per_column = dataset.isnull().sum() / len(dataset) * 100\n",
    "    null_percentage_per_column = pd.DataFrame(\n",
    "        null_percentage_per_column[null_percentage_per_column > 0],\n",
    "        columns=[\"percentage_of_null\"]\n",
    "    )\n",
    "    for index, each in null_percentage_per_column.iterrows():\n",
    "        if each[\"percentage_of_null\"] > .5 and train_set == True:\n",
    "            dataset = dataset.drop([index], axis=1)\n",
    "        elif str(dataset[index].dtypes) == \"object\":\n",
    "            dataset[index].fillna(dataset[index].mode()[0], inplace=True)\n",
    "        else:\n",
    "            dataset[index].fillna(dataset[index].median(), inplace=True)\n",
    "    return dataset"
   ]
  },
  {
   "cell_type": "markdown",
   "metadata": {},
   "source": [
    "## First attempt\n",
    "\n",
    "As our first attempt, we are going to use all remaining columns without any further transformation."
   ]
  },
  {
   "cell_type": "code",
   "execution_count": 17,
   "metadata": {},
   "outputs": [
    {
     "name": "stdout",
     "output_type": "stream",
     "text": [
      "<class 'pandas.core.frame.DataFrame'>\n",
      "Int64Index: 1460 entries, 1 to 1460\n",
      "Data columns (total 76 columns):\n",
      " #   Column         Non-Null Count  Dtype  \n",
      "---  ------         --------------  -----  \n",
      " 0   MSSubClass     1460 non-null   int64  \n",
      " 1   MSZoning       1460 non-null   object \n",
      " 2   LotFrontage    1460 non-null   float64\n",
      " 3   LotArea        1460 non-null   int64  \n",
      " 4   Street         1460 non-null   object \n",
      " 5   LotShape       1460 non-null   object \n",
      " 6   LandContour    1460 non-null   object \n",
      " 7   Utilities      1460 non-null   object \n",
      " 8   LotConfig      1460 non-null   object \n",
      " 9   LandSlope      1460 non-null   object \n",
      " 10  Neighborhood   1460 non-null   object \n",
      " 11  Condition1     1460 non-null   object \n",
      " 12  Condition2     1460 non-null   object \n",
      " 13  BldgType       1460 non-null   object \n",
      " 14  HouseStyle     1460 non-null   object \n",
      " 15  OverallQual    1460 non-null   int64  \n",
      " 16  OverallCond    1460 non-null   int64  \n",
      " 17  YearBuilt      1460 non-null   int64  \n",
      " 18  YearRemodAdd   1460 non-null   int64  \n",
      " 19  RoofStyle      1460 non-null   object \n",
      " 20  RoofMatl       1460 non-null   object \n",
      " 21  Exterior1st    1460 non-null   object \n",
      " 22  Exterior2nd    1460 non-null   object \n",
      " 23  MasVnrType     1460 non-null   object \n",
      " 24  MasVnrArea     1460 non-null   float64\n",
      " 25  ExterQual      1460 non-null   object \n",
      " 26  ExterCond      1460 non-null   object \n",
      " 27  Foundation     1460 non-null   object \n",
      " 28  BsmtQual       1460 non-null   object \n",
      " 29  BsmtCond       1460 non-null   object \n",
      " 30  BsmtExposure   1460 non-null   object \n",
      " 31  BsmtFinType1   1460 non-null   object \n",
      " 32  BsmtFinSF1     1460 non-null   int64  \n",
      " 33  BsmtFinType2   1460 non-null   object \n",
      " 34  BsmtFinSF2     1460 non-null   int64  \n",
      " 35  BsmtUnfSF      1460 non-null   int64  \n",
      " 36  TotalBsmtSF    1460 non-null   int64  \n",
      " 37  Heating        1460 non-null   object \n",
      " 38  HeatingQC      1460 non-null   object \n",
      " 39  CentralAir     1460 non-null   object \n",
      " 40  Electrical     1460 non-null   object \n",
      " 41  1stFlrSF       1460 non-null   int64  \n",
      " 42  2ndFlrSF       1460 non-null   int64  \n",
      " 43  LowQualFinSF   1460 non-null   int64  \n",
      " 44  GrLivArea      1460 non-null   int64  \n",
      " 45  BsmtFullBath   1460 non-null   int64  \n",
      " 46  BsmtHalfBath   1460 non-null   int64  \n",
      " 47  FullBath       1460 non-null   int64  \n",
      " 48  HalfBath       1460 non-null   int64  \n",
      " 49  BedroomAbvGr   1460 non-null   int64  \n",
      " 50  KitchenAbvGr   1460 non-null   int64  \n",
      " 51  KitchenQual    1460 non-null   object \n",
      " 52  TotRmsAbvGrd   1460 non-null   int64  \n",
      " 53  Functional     1460 non-null   object \n",
      " 54  Fireplaces     1460 non-null   int64  \n",
      " 55  FireplaceQu    1460 non-null   object \n",
      " 56  GarageType     1460 non-null   object \n",
      " 57  GarageYrBlt    1460 non-null   float64\n",
      " 58  GarageFinish   1460 non-null   object \n",
      " 59  GarageCars     1460 non-null   int64  \n",
      " 60  GarageArea     1460 non-null   int64  \n",
      " 61  GarageQual     1460 non-null   object \n",
      " 62  GarageCond     1460 non-null   object \n",
      " 63  PavedDrive     1460 non-null   object \n",
      " 64  WoodDeckSF     1460 non-null   int64  \n",
      " 65  OpenPorchSF    1460 non-null   int64  \n",
      " 66  EnclosedPorch  1460 non-null   int64  \n",
      " 67  3SsnPorch      1460 non-null   int64  \n",
      " 68  ScreenPorch    1460 non-null   int64  \n",
      " 69  PoolArea       1460 non-null   int64  \n",
      " 70  MiscVal        1460 non-null   int64  \n",
      " 71  MoSold         1460 non-null   int64  \n",
      " 72  YrSold         1460 non-null   int64  \n",
      " 73  SaleType       1460 non-null   object \n",
      " 74  SaleCondition  1460 non-null   object \n",
      " 75  SalePrice      1460 non-null   int64  \n",
      "dtypes: float64(3), int64(34), object(39)\n",
      "memory usage: 878.3+ KB\n"
     ]
    }
   ],
   "source": [
    "train_dataset.info()"
   ]
  },
  {
   "cell_type": "markdown",
   "metadata": {},
   "source": [
    "We still have 75 columns (features) and we need to reduce the number of features being used, first because using too many features can cause overfitting and second because it is costly to try out all of them. We are going to use Random Forest to select the most important features for the dataset."
   ]
  },
  {
   "cell_type": "code",
   "execution_count": 18,
   "metadata": {},
   "outputs": [],
   "source": [
    "train_first_attempt = train_dataset.iloc[:,:]"
   ]
  },
  {
   "cell_type": "code",
   "execution_count": 19,
   "metadata": {},
   "outputs": [
    {
     "data": {
      "text/plain": [
       "RandomForestRegressor(max_depth=10, random_state=1)"
      ]
     },
     "execution_count": 19,
     "metadata": {},
     "output_type": "execute_result"
    }
   ],
   "source": [
    "RFRegressor = RandomForestRegressor(random_state=1, max_depth=10)\n",
    "train_first_attempt_dummy_features = pd.get_dummies(train_first_attempt.iloc[:,:-1])\n",
    "RFRegressor.fit(train_first_attempt_dummy_features, train_first_attempt.iloc[:,-1])"
   ]
  },
  {
   "cell_type": "code",
   "execution_count": 20,
   "metadata": {},
   "outputs": [
    {
     "data": {
      "image/png": "[encoded data removed]",
      "text/plain": [
       "<Figure size 432x288 with 1 Axes>"
      ]
     },
     "metadata": {
      "needs_background": "light"
     },
     "output_type": "display_data"
    }
   ],
   "source": [
    "features = train_first_attempt_dummy_features.columns\n",
    "importances = RFRegressor.feature_importances_\n",
    "indexes = np.argsort(importances)[-10:]  # top 10 features\n",
    "plt.title(\"Feature Importances\")\n",
    "plt.barh(range(len(indexes)), importances[indexes], color='b', align='center')\n",
    "plt.yticks(range(len(indexes)), [features[i] for i in indexes])\n",
    "plt.xlabel('Relative Importance')\n",
    "plt.show()"
   ]
  },
  {
   "cell_type": "markdown",
   "metadata": {},
   "source": [
    "As per the chart above, we can see that OverallQual is responsible for explaining almost 60% of the variance of our target variable. On the next plot we can see the cumulative variance being explained by the top 10 features."
   ]
  },
  {
   "cell_type": "code",
   "execution_count": 21,
   "metadata": {},
   "outputs": [
    {
     "data": {
      "image/png": "[encoded data removed]",
      "text/plain": [
       "<Figure size 432x288 with 1 Axes>"
      ]
     },
     "metadata": {
      "needs_background": "light"
     },
     "output_type": "display_data"
    }
   ],
   "source": [
    "feature_ranking = pd.DataFrame(\n",
    "    {\"Feature\": train_first_attempt_dummy_features.columns,\n",
    "     \"Weight\": RFRegressor.feature_importances_\n",
    "    }\n",
    ")\n",
    "feature_ranking = feature_ranking.sort_values(by=[\"Weight\"], ascending=False).reset_index()\n",
    "feature_ranking = feature_ranking.drop([\"index\"], axis=1)\n",
    "top_features = feature_ranking.head(10)\n",
    "plt.plot(top_features[\"Feature\"], np.cumsum(top_features[\"Weight\"]))\n",
    "plt.xticks(top_features[\"Feature\"], top_features[\"Feature\"], rotation='vertical')\n",
    "plt.xlabel('Feature')\n",
    "plt.ylabel('Cumulative Explained Variance');"
   ]
  },
  {
   "cell_type": "markdown",
   "metadata": {},
   "source": [
    "To evaluate our current dataset for several models and combinations of features, we will create a function to perform the evaluation.\n",
    "\n",
    "We will try with three regression models:\n",
    "\n",
    "* Linear Regression\n",
    "* Decision Tree Regression\n",
    "* Support Vector Machine Regression (we are going to test the three kernel)"
   ]
  },
  {
   "cell_type": "code",
   "execution_count": 22,
   "metadata": {},
   "outputs": [],
   "source": [
    "def evaluate_models(data_frame, features, target_column, initial_number_of_features = 1, \n",
    "                    max_number_of_features = 1):\n",
    "    evaluation_list = []\n",
    "    counter = 0\n",
    "    for number_of_features in range(initial_number_of_features, max_number_of_features + 1):\n",
    "        for each_combination_of_features in list(itertools.combinations(features, r=number_of_features)):\n",
    "            print(\"Features:\", list(each_combination_of_features))\n",
    "            X = data_frame[list(each_combination_of_features)]\n",
    "            y = data_frame[target_column]\n",
    "            \n",
    "            regressor = LinearRegression()\n",
    "            model = \"LinearRegression\"\n",
    "            scores = cross_validate(regressor, X, y, scoring=(\"r2\", \"neg_mean_squared_error\"))\n",
    "            evaluation_item = {\n",
    "                \"Features\": list(each_combination_of_features),\n",
    "                \"Model\": model,\n",
    "                \"MSE\": np.sqrt(- np.mean(scores[\"test_neg_mean_squared_error\"]))\n",
    "            }\n",
    "            evaluation_list.append(evaluation_item)\n",
    "\n",
    "            regressor = DecisionTreeRegressor()\n",
    "            model = \"DecisionTreeRegressor\"\n",
    "            scores = cross_validate(regressor, X, y, scoring=('r2', 'neg_mean_squared_error'))\n",
    "            evaluation_item = {\n",
    "                \"Features\": list(each_combination_of_features),\n",
    "                \"Model\": model,\n",
    "                \"MSE\": np.sqrt(- np.mean(scores[\"test_neg_mean_squared_error\"]))\n",
    "            }\n",
    "            evaluation_list.append(evaluation_item)\n",
    "            \n",
    "            kernels = [\n",
    "                SVR(kernel=\"linear\", gamma=\"scale\"), \n",
    "                SVR(kernel='poly', gamma=\"scale\"), \n",
    "                SVR(kernel=\"rbf\", gamma=\"scale\")\n",
    "            ]\n",
    "            for each_kernel in [\"linear\", \"poly\", \"rbf\"]:\n",
    "                regressor = SVR(kernel=each_kernel, gamma=\"scale\")\n",
    "                model = \"SVM (\" + each_kernel + \")\"\n",
    "                scores = cross_validate(regressor, X, y, scoring=('r2', 'neg_mean_squared_error'))\n",
    "                evaluation_item = {\n",
    "                    \"Features\": list(each_combination_of_features),\n",
    "                    \"Model\": model,\n",
    "                    \"MSE\": np.sqrt(- np.mean(scores[\"test_neg_mean_squared_error\"]))\n",
    "                }\n",
    "                evaluation_list.append(evaluation_item) \n",
    "            clear_output(wait=True)\n",
    "            counter += 5\n",
    "    print(\"Total of evaluations:\", counter)    \n",
    "    return pd.DataFrame(evaluation_list)"
   ]
  },
  {
   "cell_type": "markdown",
   "metadata": {},
   "source": [
    "As our 3 top features explain over 70% of our variability, we will start with them. Also, we are going to use Mean Squared Error (MSE) as the measure to compare the performance of our model."
   ]
  },
  {
   "cell_type": "code",
   "execution_count": 23,
   "metadata": {},
   "outputs": [
    {
     "name": "stdout",
     "output_type": "stream",
     "text": [
      "Total of evaluations: 35\n"
     ]
    },
    {
     "data": {
      "text/html": [
       "<div>\n",
       "<style scoped>\n",
       "    .dataframe tbody tr th:only-of-type {\n",
       "        vertical-align: middle;\n",
       "    }\n",
       "\n",
       "    .dataframe tbody tr th {\n",
       "        vertical-align: top;\n",
       "    }\n",
       "\n",
       "    .dataframe thead th {\n",
       "        text-align: right;\n",
       "    }\n",
       "</style>\n",
       "<table border=\"1\" class=\"dataframe\">\n",
       "  <thead>\n",
       "    <tr style=\"text-align: right;\">\n",
       "      <th></th>\n",
       "      <th>Features</th>\n",
       "      <th>Model</th>\n",
       "      <th>MSE</th>\n",
       "    </tr>\n",
       "  </thead>\n",
       "  <tbody>\n",
       "    <tr>\n",
       "      <th>30</th>\n",
       "      <td>[OverallQual, GrLivArea, TotalBsmtSF]</td>\n",
       "      <td>LinearRegression</td>\n",
       "      <td>41173.349591</td>\n",
       "    </tr>\n",
       "    <tr>\n",
       "      <th>15</th>\n",
       "      <td>[OverallQual, GrLivArea]</td>\n",
       "      <td>LinearRegression</td>\n",
       "      <td>42791.484493</td>\n",
       "    </tr>\n",
       "    <tr>\n",
       "      <th>31</th>\n",
       "      <td>[OverallQual, GrLivArea, TotalBsmtSF]</td>\n",
       "      <td>DecisionTreeRegressor</td>\n",
       "      <td>44212.608311</td>\n",
       "    </tr>\n",
       "    <tr>\n",
       "      <th>1</th>\n",
       "      <td>[OverallQual]</td>\n",
       "      <td>DecisionTreeRegressor</td>\n",
       "      <td>45114.652856</td>\n",
       "    </tr>\n",
       "    <tr>\n",
       "      <th>3</th>\n",
       "      <td>[OverallQual]</td>\n",
       "      <td>SVM (poly)</td>\n",
       "      <td>45266.150285</td>\n",
       "    </tr>\n",
       "  </tbody>\n",
       "</table>\n",
       "</div>"
      ],
      "text/plain": [
       "                                 Features                  Model           MSE\n",
       "30  [OverallQual, GrLivArea, TotalBsmtSF]       LinearRegression  41173.349591\n",
       "15               [OverallQual, GrLivArea]       LinearRegression  42791.484493\n",
       "31  [OverallQual, GrLivArea, TotalBsmtSF]  DecisionTreeRegressor  44212.608311\n",
       "1                           [OverallQual]  DecisionTreeRegressor  45114.652856\n",
       "3                           [OverallQual]             SVM (poly)  45266.150285"
      ]
     },
     "execution_count": 23,
     "metadata": {},
     "output_type": "execute_result"
    }
   ],
   "source": [
    "first_attempt_evaluation = evaluate_models(\n",
    "    data_frame = train_first_attempt, \n",
    "    features = list(top_features[\"Feature\"].head(3)),\n",
    "    target_column = \"SalePrice\",\n",
    "    initial_number_of_features = 1,\n",
    "    max_number_of_features = 3\n",
    ")\n",
    "(first_attempt_evaluation.sort_values(by=[\"MSE\"])).iloc[0:5,:]"
   ]
  },
  {
   "cell_type": "markdown",
   "metadata": {},
   "source": [
    "According to our evaluation, Linear Regression using the three features was the configuration that obtained the best score. We are now then predict our test set using it and then submit to get the score. As we are going to use the same steps from now on, let's also create a function for it"
   ]
  },
  {
   "cell_type": "code",
   "execution_count": 24,
   "metadata": {},
   "outputs": [],
   "source": [
    "def generate_predictions(evaluations, train_set, test_set):\n",
    "    choosen_features = (evaluations.sort_values(by=[\"MSE\"])).iloc[0][\"Features\"]\n",
    "    choosen_model = (evaluations.sort_values(by=[\"MSE\"])).iloc[0][\"Model\"]\n",
    "    \n",
    "    X = np.array(train_set[choosen_features])\n",
    "    y = train_set[\"SalePrice\"]\n",
    "    \n",
    "    if choosen_model == \"LinearRegression\":\n",
    "        regressor = LinearRegression()\n",
    "    elif choosen_model == \"DecisionTreeRegressor\":\n",
    "        regressor = DecisionTreeRegressor()\n",
    "    elif choosen_model == \"SVM (linear)\":\n",
    "        regressor = SVR(kernel=\"linear\", gamma=\"scale\")\n",
    "    elif choosen_model == \"SVM (poly)\":\n",
    "        regressor = SVR(kernel='poly', gamma=\"scale\")\n",
    "    elif choosen_model == \"SVM (rbf)\":\n",
    "        regressor = SVR(kernel=\"rbf\", gamma=\"scale\")\n",
    "    regressor.fit(X, y) \n",
    "    predictions = regressor.predict(test_set[choosen_features])\n",
    "    return predictions"
   ]
  },
  {
   "cell_type": "code",
   "execution_count": 25,
   "metadata": {},
   "outputs": [
    {
     "data": {
      "text/html": [
       "<div>\n",
       "<style scoped>\n",
       "    .dataframe tbody tr th:only-of-type {\n",
       "        vertical-align: middle;\n",
       "    }\n",
       "\n",
       "    .dataframe tbody tr th {\n",
       "        vertical-align: top;\n",
       "    }\n",
       "\n",
       "    .dataframe thead th {\n",
       "        text-align: right;\n",
       "    }\n",
       "</style>\n",
       "<table border=\"1\" class=\"dataframe\">\n",
       "  <thead>\n",
       "    <tr style=\"text-align: right;\">\n",
       "      <th></th>\n",
       "      <th>0</th>\n",
       "    </tr>\n",
       "  </thead>\n",
       "  <tbody>\n",
       "    <tr>\n",
       "      <th>0</th>\n",
       "      <td>113031.557672</td>\n",
       "    </tr>\n",
       "    <tr>\n",
       "      <th>1</th>\n",
       "      <td>178858.174490</td>\n",
       "    </tr>\n",
       "    <tr>\n",
       "      <th>2</th>\n",
       "      <td>150964.626164</td>\n",
       "    </tr>\n",
       "    <tr>\n",
       "      <th>3</th>\n",
       "      <td>177701.795711</td>\n",
       "    </tr>\n",
       "    <tr>\n",
       "      <th>4</th>\n",
       "      <td>230734.290431</td>\n",
       "    </tr>\n",
       "  </tbody>\n",
       "</table>\n",
       "</div>"
      ],
      "text/plain": [
       "               0\n",
       "0  113031.557672\n",
       "1  178858.174490\n",
       "2  150964.626164\n",
       "3  177701.795711\n",
       "4  230734.290431"
      ]
     },
     "execution_count": 25,
     "metadata": {},
     "output_type": "execute_result"
    }
   ],
   "source": [
    "test_set = pd.read_csv(\"test.csv\")\n",
    "test_set[\"SalePrice\"] = 0 ## Adding a dummy target variable\n",
    "test_set = null_columns_transformation(test_set, train_set=False)\n",
    "\n",
    "prediction_set = generate_predictions(first_attempt_evaluation, train_first_attempt, test_set)\n",
    "pd.DataFrame(prediction_set).head()"
   ]
  },
  {
   "cell_type": "markdown",
   "metadata": {},
   "source": [
    "Also, let's create a function that generates our submission file"
   ]
  },
  {
   "cell_type": "code",
   "execution_count": 26,
   "metadata": {},
   "outputs": [],
   "source": [
    "def generate_submission(test_set, predictions, name):\n",
    "    initial_index = test_set.index[0]\n",
    "    submission = pd.DataFrame({'SalePrice': prediction_set}).reset_index()\n",
    "    submission[\"Id\"] = submission[\"index\"] + initial_index\n",
    "\n",
    "    file_name = (\n",
    "        \"submission_\" + name + \"_\" + datetime.datetime.today().strftime('%Y%m%d') + \n",
    "        '_' + datetime.datetime.today().strftime('%H%M%S') + \"csv\"\n",
    "    )\n",
    "    submission[[\"Id\", \"SalePrice\"]].to_csv(file_name, index=False)    "
   ]
  },
  {
   "cell_type": "code",
   "execution_count": 27,
   "metadata": {},
   "outputs": [],
   "source": [
    "generate_submission(test_set, prediction_set, \"1st_attempt\")"
   ]
  },
  {
   "cell_type": "markdown",
   "metadata": {},
   "source": [
    "The score obtained with the first attempt was 0.87504, which would put us around position 4200 on the Kaggle leaderboard. \n",
    "\n",
    "## Second Attempt\n",
    "\n",
    "On our second attempt we are trying to remove the columns with low variance. Let's first take a look on them."
   ]
  },
  {
   "cell_type": "code",
   "execution_count": 28,
   "metadata": {},
   "outputs": [
    {
     "data": {
      "text/plain": [
       "MSSubClass          1789.338306402389\n",
       "LotFrontage          485.218557935159\n",
       "LotArea              99625649.6503417\n",
       "OverallQual        1.9126794482991698\n",
       "OverallCond        1.2383223637883065\n",
       "YearBuilt           912.2154126019892\n",
       "YearRemodAdd        426.2328222558136\n",
       "MasVnrArea         32663.829315912957\n",
       "BsmtFinSF1         208025.46846873628\n",
       "BsmtFinSF2         26023.907778831064\n",
       "BsmtUnfSF           195246.4061794061\n",
       "TotalBsmtSF         192462.3617090893\n",
       "1stFlrSF           149450.07920371392\n",
       "2ndFlrSF            190557.0753373038\n",
       "LowQualFinSF       2364.2040480906326\n",
       "GrLivArea          276129.63336259616\n",
       "BsmtFullBath      0.26926821711248283\n",
       "BsmtHalfBath      0.05700282610532444\n",
       "FullBath          0.30350822011698775\n",
       "HalfBath           0.2528937065169486\n",
       "BedroomAbvGr        0.665493817307771\n",
       "KitchenAbvGr     0.048548921667120055\n",
       "TotRmsAbvGrd       2.6419033490756916\n",
       "Fireplaces        0.41559474964087506\n",
       "GarageYrBlt          575.857042260131\n",
       "GarageCars         0.5584797243373708\n",
       "GarageArea          45712.51022890529\n",
       "WoodDeckSF         15709.813369543659\n",
       "OpenPorchSF         4389.861203488976\n",
       "EnclosedPorch       3735.550325800207\n",
       "3SsnPorch           859.5058709756354\n",
       "ScreenPorch        3108.8893589154113\n",
       "PoolArea            1614.215993315013\n",
       "MiscVal            246138.05539728492\n",
       "MoSold              7.309594674528473\n",
       "YrSold              1.763836649234308\n",
       "SalePrice           6311111264.297451\n",
       "dtype: object"
      ]
     },
     "execution_count": 28,
     "metadata": {},
     "output_type": "execute_result"
    }
   ],
   "source": [
    "train_second_attempt = train_dataset.iloc[:,:]\n",
    "train_second_attempt.var(numeric_only=True).astype(str)"
   ]
  },
  {
   "cell_type": "markdown",
   "metadata": {},
   "source": [
    "The columns with lowest variance are related to the number of rooms of the house (number of full baths, of bedrooms above ground, etc.). We can use a threshold of < 1 to remove all of them. Again, as we may need to do the same cleansing in next attemps, let's create a function for it"
   ]
  },
  {
   "cell_type": "code",
   "execution_count": 29,
   "metadata": {},
   "outputs": [],
   "source": [
    "def remove_low_variance_features(data_set, threshold):\n",
    "    numeric_features = data_set.iloc[:,:-1].select_dtypes([np.number]).columns\n",
    "    for each_feature in numeric_features:\n",
    "        if data_set[each_feature].var() < threshold:\n",
    "            data_set = data_set.drop(each_feature, axis=1)\n",
    "    return data_set"
   ]
  },
  {
   "cell_type": "code",
   "execution_count": 30,
   "metadata": {},
   "outputs": [],
   "source": [
    "train_second_attempt = remove_low_variance_features(train_second_attempt, 1)"
   ]
  },
  {
   "cell_type": "code",
   "execution_count": 31,
   "metadata": {},
   "outputs": [
    {
     "name": "stdout",
     "output_type": "stream",
     "text": [
      "<class 'pandas.core.frame.DataFrame'>\n",
      "Int64Index: 1460 entries, 1 to 1460\n",
      "Data columns (total 68 columns):\n",
      " #   Column         Non-Null Count  Dtype  \n",
      "---  ------         --------------  -----  \n",
      " 0   MSSubClass     1460 non-null   int64  \n",
      " 1   MSZoning       1460 non-null   object \n",
      " 2   LotFrontage    1460 non-null   float64\n",
      " 3   LotArea        1460 non-null   int64  \n",
      " 4   Street         1460 non-null   object \n",
      " 5   LotShape       1460 non-null   object \n",
      " 6   LandContour    1460 non-null   object \n",
      " 7   Utilities      1460 non-null   object \n",
      " 8   LotConfig      1460 non-null   object \n",
      " 9   LandSlope      1460 non-null   object \n",
      " 10  Neighborhood   1460 non-null   object \n",
      " 11  Condition1     1460 non-null   object \n",
      " 12  Condition2     1460 non-null   object \n",
      " 13  BldgType       1460 non-null   object \n",
      " 14  HouseStyle     1460 non-null   object \n",
      " 15  OverallQual    1460 non-null   int64  \n",
      " 16  OverallCond    1460 non-null   int64  \n",
      " 17  YearBuilt      1460 non-null   int64  \n",
      " 18  YearRemodAdd   1460 non-null   int64  \n",
      " 19  RoofStyle      1460 non-null   object \n",
      " 20  RoofMatl       1460 non-null   object \n",
      " 21  Exterior1st    1460 non-null   object \n",
      " 22  Exterior2nd    1460 non-null   object \n",
      " 23  MasVnrType     1460 non-null   object \n",
      " 24  MasVnrArea     1460 non-null   float64\n",
      " 25  ExterQual      1460 non-null   object \n",
      " 26  ExterCond      1460 non-null   object \n",
      " 27  Foundation     1460 non-null   object \n",
      " 28  BsmtQual       1460 non-null   object \n",
      " 29  BsmtCond       1460 non-null   object \n",
      " 30  BsmtExposure   1460 non-null   object \n",
      " 31  BsmtFinType1   1460 non-null   object \n",
      " 32  BsmtFinSF1     1460 non-null   int64  \n",
      " 33  BsmtFinType2   1460 non-null   object \n",
      " 34  BsmtFinSF2     1460 non-null   int64  \n",
      " 35  BsmtUnfSF      1460 non-null   int64  \n",
      " 36  TotalBsmtSF    1460 non-null   int64  \n",
      " 37  Heating        1460 non-null   object \n",
      " 38  HeatingQC      1460 non-null   object \n",
      " 39  CentralAir     1460 non-null   object \n",
      " 40  Electrical     1460 non-null   object \n",
      " 41  1stFlrSF       1460 non-null   int64  \n",
      " 42  2ndFlrSF       1460 non-null   int64  \n",
      " 43  LowQualFinSF   1460 non-null   int64  \n",
      " 44  GrLivArea      1460 non-null   int64  \n",
      " 45  KitchenQual    1460 non-null   object \n",
      " 46  TotRmsAbvGrd   1460 non-null   int64  \n",
      " 47  Functional     1460 non-null   object \n",
      " 48  FireplaceQu    1460 non-null   object \n",
      " 49  GarageType     1460 non-null   object \n",
      " 50  GarageYrBlt    1460 non-null   float64\n",
      " 51  GarageFinish   1460 non-null   object \n",
      " 52  GarageArea     1460 non-null   int64  \n",
      " 53  GarageQual     1460 non-null   object \n",
      " 54  GarageCond     1460 non-null   object \n",
      " 55  PavedDrive     1460 non-null   object \n",
      " 56  WoodDeckSF     1460 non-null   int64  \n",
      " 57  OpenPorchSF    1460 non-null   int64  \n",
      " 58  EnclosedPorch  1460 non-null   int64  \n",
      " 59  3SsnPorch      1460 non-null   int64  \n",
      " 60  ScreenPorch    1460 non-null   int64  \n",
      " 61  PoolArea       1460 non-null   int64  \n",
      " 62  MiscVal        1460 non-null   int64  \n",
      " 63  MoSold         1460 non-null   int64  \n",
      " 64  YrSold         1460 non-null   int64  \n",
      " 65  SaleType       1460 non-null   object \n",
      " 66  SaleCondition  1460 non-null   object \n",
      " 67  SalePrice      1460 non-null   int64  \n",
      "dtypes: float64(3), int64(26), object(39)\n",
      "memory usage: 787.0+ KB\n"
     ]
    }
   ],
   "source": [
    "train_second_attempt.info()"
   ]
  },
  {
   "cell_type": "markdown",
   "metadata": {},
   "source": [
    "We could reduce the number of features/dimensions from 75 to 67 with this transformation. Let's use Decision Tree regressor again to see how this affected the importance of the remaining features."
   ]
  },
  {
   "cell_type": "code",
   "execution_count": 32,
   "metadata": {},
   "outputs": [
    {
     "data": {
      "text/plain": [
       "RandomForestRegressor(max_depth=10, random_state=1)"
      ]
     },
     "execution_count": 32,
     "metadata": {},
     "output_type": "execute_result"
    }
   ],
   "source": [
    "RFRegressor = RandomForestRegressor(random_state=1, max_depth=10)\n",
    "train_second_attempt_dummy_features = pd.get_dummies(train_second_attempt.iloc[:,:-1])\n",
    "RFRegressor.fit(train_second_attempt_dummy_features, train_second_attempt.iloc[:,-1])"
   ]
  },
  {
   "cell_type": "code",
   "execution_count": 33,
   "metadata": {},
   "outputs": [
    {
     "data": {
      "image/png": "[encoded data removed]",
      "text/plain": [
       "<Figure size 432x288 with 1 Axes>"
      ]
     },
     "metadata": {
      "needs_background": "light"
     },
     "output_type": "display_data"
    }
   ],
   "source": [
    "features = train_second_attempt_dummy_features.columns\n",
    "importances = RFRegressor.feature_importances_\n",
    "indexes = np.argsort(importances)[-10:]  # top 10 features\n",
    "plt.title(\"Feature Importances - Second Attempt\")\n",
    "plt.barh(range(len(indexes)), importances[indexes], color='b', align='center')\n",
    "plt.yticks(range(len(indexes)), [features[i] for i in indexes])\n",
    "plt.xlabel('Relative Importance')\n",
    "plt.show()"
   ]
  },
  {
   "cell_type": "code",
   "execution_count": 34,
   "metadata": {},
   "outputs": [
    {
     "data": {
      "image/png": "[encoded data removed]",
      "text/plain": [
       "<Figure size 432x288 with 1 Axes>"
      ]
     },
     "metadata": {
      "needs_background": "light"
     },
     "output_type": "display_data"
    }
   ],
   "source": [
    "feature_ranking = pd.DataFrame(\n",
    "    {\"Feature\": train_second_attempt_dummy_features.columns,\n",
    "     \"Weight\": RFRegressor.feature_importances_\n",
    "    }\n",
    ")\n",
    "feature_ranking = feature_ranking.sort_values(by=[\"Weight\"], ascending=False).reset_index()\n",
    "feature_ranking = feature_ranking.drop([\"index\"], axis=1)\n",
    "top_features = feature_ranking.head(10)\n",
    "plt.plot(top_features[\"Feature\"], np.cumsum(top_features[\"Weight\"]))\n",
    "plt.xticks(top_features[\"Feature\"], top_features[\"Feature\"], rotation='vertical')\n",
    "plt.xlabel('Feature')\n",
    "plt.ylabel('Cumulative Explained Variance');"
   ]
  },
  {
   "cell_type": "markdown",
   "metadata": {},
   "source": [
    "Now our top 3 features are explaining almost 75% of the variance. Let try to run the same models but now with 4 features as the maximum features."
   ]
  },
  {
   "cell_type": "code",
   "execution_count": 35,
   "metadata": {},
   "outputs": [
    {
     "name": "stdout",
     "output_type": "stream",
     "text": [
      "Total of evaluations: 75\n"
     ]
    },
    {
     "data": {
      "text/html": [
       "<div>\n",
       "<style scoped>\n",
       "    .dataframe tbody tr th:only-of-type {\n",
       "        vertical-align: middle;\n",
       "    }\n",
       "\n",
       "    .dataframe tbody tr th {\n",
       "        vertical-align: top;\n",
       "    }\n",
       "\n",
       "    .dataframe thead th {\n",
       "        text-align: right;\n",
       "    }\n",
       "</style>\n",
       "<table border=\"1\" class=\"dataframe\">\n",
       "  <thead>\n",
       "    <tr style=\"text-align: right;\">\n",
       "      <th></th>\n",
       "      <th>Features</th>\n",
       "      <th>Model</th>\n",
       "      <th>MSE</th>\n",
       "    </tr>\n",
       "  </thead>\n",
       "  <tbody>\n",
       "    <tr>\n",
       "      <th>70</th>\n",
       "      <td>[OverallQual, GrLivArea, TotalBsmtSF, 2ndFlrSF]</td>\n",
       "      <td>LinearRegression</td>\n",
       "      <td>41136.951173</td>\n",
       "    </tr>\n",
       "    <tr>\n",
       "      <th>50</th>\n",
       "      <td>[OverallQual, GrLivArea, TotalBsmtSF]</td>\n",
       "      <td>LinearRegression</td>\n",
       "      <td>41173.349591</td>\n",
       "    </tr>\n",
       "    <tr>\n",
       "      <th>55</th>\n",
       "      <td>[OverallQual, GrLivArea, 2ndFlrSF]</td>\n",
       "      <td>LinearRegression</td>\n",
       "      <td>41348.028552</td>\n",
       "    </tr>\n",
       "    <tr>\n",
       "      <th>20</th>\n",
       "      <td>[OverallQual, GrLivArea]</td>\n",
       "      <td>LinearRegression</td>\n",
       "      <td>42791.484493</td>\n",
       "    </tr>\n",
       "    <tr>\n",
       "      <th>61</th>\n",
       "      <td>[OverallQual, TotalBsmtSF, 2ndFlrSF]</td>\n",
       "      <td>DecisionTreeRegressor</td>\n",
       "      <td>42848.925268</td>\n",
       "    </tr>\n",
       "  </tbody>\n",
       "</table>\n",
       "</div>"
      ],
      "text/plain": [
       "                                           Features                  Model  \\\n",
       "70  [OverallQual, GrLivArea, TotalBsmtSF, 2ndFlrSF]       LinearRegression   \n",
       "50            [OverallQual, GrLivArea, TotalBsmtSF]       LinearRegression   \n",
       "55               [OverallQual, GrLivArea, 2ndFlrSF]       LinearRegression   \n",
       "20                         [OverallQual, GrLivArea]       LinearRegression   \n",
       "61             [OverallQual, TotalBsmtSF, 2ndFlrSF]  DecisionTreeRegressor   \n",
       "\n",
       "             MSE  \n",
       "70  41136.951173  \n",
       "50  41173.349591  \n",
       "55  41348.028552  \n",
       "20  42791.484493  \n",
       "61  42848.925268  "
      ]
     },
     "execution_count": 35,
     "metadata": {},
     "output_type": "execute_result"
    }
   ],
   "source": [
    "second_attempt_evaluation = evaluate_models(\n",
    "    data_frame = train_second_attempt, \n",
    "    features = list(top_features[\"Feature\"].head(4)),\n",
    "    target_column = \"SalePrice\",\n",
    "    initial_number_of_features = 1,\n",
    "    max_number_of_features = 4\n",
    ")\n",
    "(second_attempt_evaluation.sort_values(by=[\"MSE\"])).iloc[0:5,:]"
   ]
  },
  {
   "cell_type": "markdown",
   "metadata": {},
   "source": [
    "We could reduce our MSE from 41173.35 to 41136.95 on our second attempt, still with Linear Regression and the max number of features evaluated (4). Not much, but let's generate predictions and submit again to see how it is scored in Kaggle."
   ]
  },
  {
   "cell_type": "code",
   "execution_count": 36,
   "metadata": {},
   "outputs": [
    {
     "data": {
      "text/html": [
       "<div>\n",
       "<style scoped>\n",
       "    .dataframe tbody tr th:only-of-type {\n",
       "        vertical-align: middle;\n",
       "    }\n",
       "\n",
       "    .dataframe tbody tr th {\n",
       "        vertical-align: top;\n",
       "    }\n",
       "\n",
       "    .dataframe thead th {\n",
       "        text-align: right;\n",
       "    }\n",
       "</style>\n",
       "<table border=\"1\" class=\"dataframe\">\n",
       "  <thead>\n",
       "    <tr style=\"text-align: right;\">\n",
       "      <th></th>\n",
       "      <th>0</th>\n",
       "    </tr>\n",
       "  </thead>\n",
       "  <tbody>\n",
       "    <tr>\n",
       "      <th>0</th>\n",
       "      <td>112447.853724</td>\n",
       "    </tr>\n",
       "    <tr>\n",
       "      <th>1</th>\n",
       "      <td>179167.409571</td>\n",
       "    </tr>\n",
       "    <tr>\n",
       "      <th>2</th>\n",
       "      <td>148399.824985</td>\n",
       "    </tr>\n",
       "    <tr>\n",
       "      <th>3</th>\n",
       "      <td>175549.538253</td>\n",
       "    </tr>\n",
       "    <tr>\n",
       "      <th>4</th>\n",
       "      <td>231675.212784</td>\n",
       "    </tr>\n",
       "  </tbody>\n",
       "</table>\n",
       "</div>"
      ],
      "text/plain": [
       "               0\n",
       "0  112447.853724\n",
       "1  179167.409571\n",
       "2  148399.824985\n",
       "3  175549.538253\n",
       "4  231675.212784"
      ]
     },
     "execution_count": 36,
     "metadata": {},
     "output_type": "execute_result"
    }
   ],
   "source": [
    "test_set = pd.read_csv(\"test.csv\")\n",
    "test_set[\"SalePrice\"] = 0 ## Adding a dummy target variable\n",
    "test_set = null_columns_transformation(test_set, train_set=False)\n",
    "\n",
    "prediction_set = generate_predictions(second_attempt_evaluation, train_second_attempt, test_set)\n",
    "pd.DataFrame(prediction_set).head()"
   ]
  },
  {
   "cell_type": "code",
   "execution_count": 37,
   "metadata": {},
   "outputs": [],
   "source": [
    "generate_submission(test_set, prediction_set, \"2nd_attempt\")"
   ]
  },
  {
   "cell_type": "markdown",
   "metadata": {},
   "source": [
    "The score on submission also presented litle improvement: with 0.87140 points it would put us still around the position 4200 on the leaderboard.\n",
    "\n",
    "## Third attempt\n",
    "\n",
    "On our third attempt, besides removing columns with low variance, we are going also to standardize all numeric columns."
   ]
  },
  {
   "cell_type": "code",
   "execution_count": 38,
   "metadata": {},
   "outputs": [],
   "source": [
    "train_third_attempt = train_dataset.iloc[:,:]\n",
    "train_third_attempt = remove_low_variance_features(train_third_attempt, 1)"
   ]
  },
  {
   "cell_type": "code",
   "execution_count": 39,
   "metadata": {},
   "outputs": [],
   "source": [
    "def standardize_numeric_features(data_set):\n",
    "    numeric_features = data_set.iloc[:,:-1].select_dtypes([np.number]).columns\n",
    "    initial_index = data_set.index[0]\n",
    "    std_metrics = data_set.loc[:, numeric_features].values\n",
    "    std_metrics = pd.DataFrame(StandardScaler().fit_transform(std_metrics), columns=numeric_features).reset_index()\n",
    "    std_metrics[\"index\"] = std_metrics[\"index\"] + initial_index\n",
    "    std_metrics.set_index(\"index\", inplace=True)\n",
    "    remaining_columns = data_set.drop(numeric_features, axis=1)\n",
    "    remaining_columns = data_set.iloc[:,-1]\n",
    "    standardized_dataset = pd.merge(std_metrics, remaining_columns, left_index=True, right_index=True)\n",
    "    return standardized_dataset"
   ]
  },
  {
   "cell_type": "code",
   "execution_count": 40,
   "metadata": {},
   "outputs": [
    {
     "data": {
      "text/html": [
       "<div>\n",
       "<style scoped>\n",
       "    .dataframe tbody tr th:only-of-type {\n",
       "        vertical-align: middle;\n",
       "    }\n",
       "\n",
       "    .dataframe tbody tr th {\n",
       "        vertical-align: top;\n",
       "    }\n",
       "\n",
       "    .dataframe thead th {\n",
       "        text-align: right;\n",
       "    }\n",
       "</style>\n",
       "<table border=\"1\" class=\"dataframe\">\n",
       "  <thead>\n",
       "    <tr style=\"text-align: right;\">\n",
       "      <th></th>\n",
       "      <th>MSSubClass</th>\n",
       "      <th>LotFrontage</th>\n",
       "      <th>LotArea</th>\n",
       "      <th>OverallQual</th>\n",
       "      <th>OverallCond</th>\n",
       "      <th>YearBuilt</th>\n",
       "      <th>YearRemodAdd</th>\n",
       "      <th>MasVnrArea</th>\n",
       "      <th>BsmtFinSF1</th>\n",
       "      <th>BsmtFinSF2</th>\n",
       "      <th>...</th>\n",
       "      <th>WoodDeckSF</th>\n",
       "      <th>OpenPorchSF</th>\n",
       "      <th>EnclosedPorch</th>\n",
       "      <th>3SsnPorch</th>\n",
       "      <th>ScreenPorch</th>\n",
       "      <th>PoolArea</th>\n",
       "      <th>MiscVal</th>\n",
       "      <th>MoSold</th>\n",
       "      <th>YrSold</th>\n",
       "      <th>SalePrice</th>\n",
       "    </tr>\n",
       "    <tr>\n",
       "      <th>index</th>\n",
       "      <th></th>\n",
       "      <th></th>\n",
       "      <th></th>\n",
       "      <th></th>\n",
       "      <th></th>\n",
       "      <th></th>\n",
       "      <th></th>\n",
       "      <th></th>\n",
       "      <th></th>\n",
       "      <th></th>\n",
       "      <th></th>\n",
       "      <th></th>\n",
       "      <th></th>\n",
       "      <th></th>\n",
       "      <th></th>\n",
       "      <th></th>\n",
       "      <th></th>\n",
       "      <th></th>\n",
       "      <th></th>\n",
       "      <th></th>\n",
       "      <th></th>\n",
       "    </tr>\n",
       "  </thead>\n",
       "  <tbody>\n",
       "    <tr>\n",
       "      <th>1</th>\n",
       "      <td>0.073375</td>\n",
       "      <td>-0.220875</td>\n",
       "      <td>-0.207142</td>\n",
       "      <td>0.651479</td>\n",
       "      <td>-0.517200</td>\n",
       "      <td>1.050994</td>\n",
       "      <td>0.878668</td>\n",
       "      <td>0.514104</td>\n",
       "      <td>0.575425</td>\n",
       "      <td>-0.288653</td>\n",
       "      <td>...</td>\n",
       "      <td>-0.752176</td>\n",
       "      <td>0.216503</td>\n",
       "      <td>-0.359325</td>\n",
       "      <td>-0.116339</td>\n",
       "      <td>-0.270208</td>\n",
       "      <td>-0.068692</td>\n",
       "      <td>-0.087688</td>\n",
       "      <td>-1.599111</td>\n",
       "      <td>0.138777</td>\n",
       "      <td>208500</td>\n",
       "    </tr>\n",
       "    <tr>\n",
       "      <th>2</th>\n",
       "      <td>-0.872563</td>\n",
       "      <td>0.460320</td>\n",
       "      <td>-0.091886</td>\n",
       "      <td>-0.071836</td>\n",
       "      <td>2.179628</td>\n",
       "      <td>0.156734</td>\n",
       "      <td>-0.429577</td>\n",
       "      <td>-0.570750</td>\n",
       "      <td>1.171992</td>\n",
       "      <td>-0.288653</td>\n",
       "      <td>...</td>\n",
       "      <td>1.626195</td>\n",
       "      <td>-0.704483</td>\n",
       "      <td>-0.359325</td>\n",
       "      <td>-0.116339</td>\n",
       "      <td>-0.270208</td>\n",
       "      <td>-0.068692</td>\n",
       "      <td>-0.087688</td>\n",
       "      <td>-0.489110</td>\n",
       "      <td>-0.614439</td>\n",
       "      <td>181500</td>\n",
       "    </tr>\n",
       "    <tr>\n",
       "      <th>3</th>\n",
       "      <td>0.073375</td>\n",
       "      <td>-0.084636</td>\n",
       "      <td>0.073480</td>\n",
       "      <td>0.651479</td>\n",
       "      <td>-0.517200</td>\n",
       "      <td>0.984752</td>\n",
       "      <td>0.830215</td>\n",
       "      <td>0.325915</td>\n",
       "      <td>0.092907</td>\n",
       "      <td>-0.288653</td>\n",
       "      <td>...</td>\n",
       "      <td>-0.752176</td>\n",
       "      <td>-0.070361</td>\n",
       "      <td>-0.359325</td>\n",
       "      <td>-0.116339</td>\n",
       "      <td>-0.270208</td>\n",
       "      <td>-0.068692</td>\n",
       "      <td>-0.087688</td>\n",
       "      <td>0.990891</td>\n",
       "      <td>0.138777</td>\n",
       "      <td>223500</td>\n",
       "    </tr>\n",
       "    <tr>\n",
       "      <th>4</th>\n",
       "      <td>0.309859</td>\n",
       "      <td>-0.447940</td>\n",
       "      <td>-0.096897</td>\n",
       "      <td>0.651479</td>\n",
       "      <td>-0.517200</td>\n",
       "      <td>-1.863632</td>\n",
       "      <td>-0.720298</td>\n",
       "      <td>-0.570750</td>\n",
       "      <td>-0.499274</td>\n",
       "      <td>-0.288653</td>\n",
       "      <td>...</td>\n",
       "      <td>-0.752176</td>\n",
       "      <td>-0.176048</td>\n",
       "      <td>4.092524</td>\n",
       "      <td>-0.116339</td>\n",
       "      <td>-0.270208</td>\n",
       "      <td>-0.068692</td>\n",
       "      <td>-0.087688</td>\n",
       "      <td>-1.599111</td>\n",
       "      <td>-1.367655</td>\n",
       "      <td>140000</td>\n",
       "    </tr>\n",
       "    <tr>\n",
       "      <th>5</th>\n",
       "      <td>0.073375</td>\n",
       "      <td>0.641972</td>\n",
       "      <td>0.375148</td>\n",
       "      <td>1.374795</td>\n",
       "      <td>-0.517200</td>\n",
       "      <td>0.951632</td>\n",
       "      <td>0.733308</td>\n",
       "      <td>1.366489</td>\n",
       "      <td>0.463568</td>\n",
       "      <td>-0.288653</td>\n",
       "      <td>...</td>\n",
       "      <td>0.780197</td>\n",
       "      <td>0.563760</td>\n",
       "      <td>-0.359325</td>\n",
       "      <td>-0.116339</td>\n",
       "      <td>-0.270208</td>\n",
       "      <td>-0.068692</td>\n",
       "      <td>-0.087688</td>\n",
       "      <td>2.100892</td>\n",
       "      <td>0.138777</td>\n",
       "      <td>250000</td>\n",
       "    </tr>\n",
       "  </tbody>\n",
       "</table>\n",
       "<p>5 rows × 29 columns</p>\n",
       "</div>"
      ],
      "text/plain": [
       "       MSSubClass  LotFrontage   LotArea  OverallQual  OverallCond  YearBuilt  \\\n",
       "index                                                                           \n",
       "1        0.073375    -0.220875 -0.207142     0.651479    -0.517200   1.050994   \n",
       "2       -0.872563     0.460320 -0.091886    -0.071836     2.179628   0.156734   \n",
       "3        0.073375    -0.084636  0.073480     0.651479    -0.517200   0.984752   \n",
       "4        0.309859    -0.447940 -0.096897     0.651479    -0.517200  -1.863632   \n",
       "5        0.073375     0.641972  0.375148     1.374795    -0.517200   0.951632   \n",
       "\n",
       "       YearRemodAdd  MasVnrArea  BsmtFinSF1  BsmtFinSF2  ...  WoodDeckSF  \\\n",
       "index                                                    ...               \n",
       "1          0.878668    0.514104    0.575425   -0.288653  ...   -0.752176   \n",
       "2         -0.429577   -0.570750    1.171992   -0.288653  ...    1.626195   \n",
       "3          0.830215    0.325915    0.092907   -0.288653  ...   -0.752176   \n",
       "4         -0.720298   -0.570750   -0.499274   -0.288653  ...   -0.752176   \n",
       "5          0.733308    1.366489    0.463568   -0.288653  ...    0.780197   \n",
       "\n",
       "       OpenPorchSF  EnclosedPorch  3SsnPorch  ScreenPorch  PoolArea   MiscVal  \\\n",
       "index                                                                           \n",
       "1         0.216503      -0.359325  -0.116339    -0.270208 -0.068692 -0.087688   \n",
       "2        -0.704483      -0.359325  -0.116339    -0.270208 -0.068692 -0.087688   \n",
       "3        -0.070361      -0.359325  -0.116339    -0.270208 -0.068692 -0.087688   \n",
       "4        -0.176048       4.092524  -0.116339    -0.270208 -0.068692 -0.087688   \n",
       "5         0.563760      -0.359325  -0.116339    -0.270208 -0.068692 -0.087688   \n",
       "\n",
       "         MoSold    YrSold  SalePrice  \n",
       "index                                 \n",
       "1     -1.599111  0.138777     208500  \n",
       "2     -0.489110 -0.614439     181500  \n",
       "3      0.990891  0.138777     223500  \n",
       "4     -1.599111 -1.367655     140000  \n",
       "5      2.100892  0.138777     250000  \n",
       "\n",
       "[5 rows x 29 columns]"
      ]
     },
     "execution_count": 40,
     "metadata": {},
     "output_type": "execute_result"
    }
   ],
   "source": [
    "train_third_attempt = standardize_numeric_features(train_third_attempt)\n",
    "train_third_attempt.head()"
   ]
  },
  {
   "cell_type": "markdown",
   "metadata": {},
   "source": [
    "And again we are going to use our Random Forest Regressor to check the importance of features"
   ]
  },
  {
   "cell_type": "code",
   "execution_count": 41,
   "metadata": {},
   "outputs": [
    {
     "data": {
      "text/plain": [
       "RandomForestRegressor(max_depth=10, random_state=1)"
      ]
     },
     "execution_count": 41,
     "metadata": {},
     "output_type": "execute_result"
    }
   ],
   "source": [
    "RFRegressor = RandomForestRegressor(random_state=1, max_depth=10)\n",
    "train_third_attempt_dummy_features = pd.get_dummies(train_third_attempt.iloc[:,:-1])\n",
    "RFRegressor.fit(train_third_attempt_dummy_features, train_third_attempt.iloc[:,-1])"
   ]
  },
  {
   "cell_type": "code",
   "execution_count": 42,
   "metadata": {},
   "outputs": [
    {
     "data": {
      "image/png": "[encoded data removed]",
      "text/plain": [
       "<Figure size 432x288 with 1 Axes>"
      ]
     },
     "metadata": {
      "needs_background": "light"
     },
     "output_type": "display_data"
    }
   ],
   "source": [
    "features = train_third_attempt_dummy_features.columns\n",
    "importances = RFRegressor.feature_importances_\n",
    "indexes = np.argsort(importances)[-10:]  # top 10 features\n",
    "plt.title(\"Feature Importances - Third Attempt\")\n",
    "plt.barh(range(len(indexes)), importances[indexes], color='b', align='center')\n",
    "plt.yticks(range(len(indexes)), [features[i] for i in indexes])\n",
    "plt.xlabel('Relative Importance')\n",
    "plt.show()"
   ]
  },
  {
   "cell_type": "code",
   "execution_count": 43,
   "metadata": {},
   "outputs": [
    {
     "data": {
      "image/png": "[encoded data removed]",
      "text/plain": [
       "<Figure size 432x288 with 1 Axes>"
      ]
     },
     "metadata": {
      "needs_background": "light"
     },
     "output_type": "display_data"
    }
   ],
   "source": [
    "feature_ranking = pd.DataFrame(\n",
    "    {\"Feature\": train_third_attempt_dummy_features.columns,\n",
    "     \"Weight\": RFRegressor.feature_importances_\n",
    "    }\n",
    ")\n",
    "feature_ranking = feature_ranking.sort_values(by=[\"Weight\"], ascending=False).reset_index()\n",
    "feature_ranking = feature_ranking.drop([\"index\"], axis=1)\n",
    "top_features = feature_ranking.head(10)\n",
    "plt.plot(top_features[\"Feature\"], np.cumsum(top_features[\"Weight\"]))\n",
    "plt.xticks(top_features[\"Feature\"], top_features[\"Feature\"], rotation='vertical')\n",
    "plt.xlabel('Feature')\n",
    "plt.ylabel('Cumulative Explained Variance');"
   ]
  },
  {
   "cell_type": "markdown",
   "metadata": {},
   "source": [
    "Not changed from the previous configuration. However, let's evaluate the model with one additional feature and now with the stardardized columns and check what happens."
   ]
  },
  {
   "cell_type": "code",
   "execution_count": 44,
   "metadata": {},
   "outputs": [
    {
     "name": "stdout",
     "output_type": "stream",
     "text": [
      "Total of evaluations: 155\n"
     ]
    },
    {
     "data": {
      "text/html": [
       "<div>\n",
       "<style scoped>\n",
       "    .dataframe tbody tr th:only-of-type {\n",
       "        vertical-align: middle;\n",
       "    }\n",
       "\n",
       "    .dataframe tbody tr th {\n",
       "        vertical-align: top;\n",
       "    }\n",
       "\n",
       "    .dataframe thead th {\n",
       "        text-align: right;\n",
       "    }\n",
       "</style>\n",
       "<table border=\"1\" class=\"dataframe\">\n",
       "  <thead>\n",
       "    <tr style=\"text-align: right;\">\n",
       "      <th></th>\n",
       "      <th>Features</th>\n",
       "      <th>Model</th>\n",
       "      <th>MSE</th>\n",
       "    </tr>\n",
       "  </thead>\n",
       "  <tbody>\n",
       "    <tr>\n",
       "      <th>151</th>\n",
       "      <td>[OverallQual, GrLivArea, TotalBsmtSF, 2ndFlrSF...</td>\n",
       "      <td>DecisionTreeRegressor</td>\n",
       "      <td>40225.969342</td>\n",
       "    </tr>\n",
       "    <tr>\n",
       "      <th>135</th>\n",
       "      <td>[OverallQual, GrLivArea, 2ndFlrSF, BsmtFinSF1]</td>\n",
       "      <td>LinearRegression</td>\n",
       "      <td>40270.381600</td>\n",
       "    </tr>\n",
       "    <tr>\n",
       "      <th>150</th>\n",
       "      <td>[OverallQual, GrLivArea, TotalBsmtSF, 2ndFlrSF...</td>\n",
       "      <td>LinearRegression</td>\n",
       "      <td>40404.604456</td>\n",
       "    </tr>\n",
       "    <tr>\n",
       "      <th>130</th>\n",
       "      <td>[OverallQual, GrLivArea, TotalBsmtSF, BsmtFinSF1]</td>\n",
       "      <td>LinearRegression</td>\n",
       "      <td>40414.908054</td>\n",
       "    </tr>\n",
       "    <tr>\n",
       "      <th>85</th>\n",
       "      <td>[OverallQual, GrLivArea, BsmtFinSF1]</td>\n",
       "      <td>LinearRegression</td>\n",
       "      <td>40738.318380</td>\n",
       "    </tr>\n",
       "  </tbody>\n",
       "</table>\n",
       "</div>"
      ],
      "text/plain": [
       "                                              Features                  Model  \\\n",
       "151  [OverallQual, GrLivArea, TotalBsmtSF, 2ndFlrSF...  DecisionTreeRegressor   \n",
       "135     [OverallQual, GrLivArea, 2ndFlrSF, BsmtFinSF1]       LinearRegression   \n",
       "150  [OverallQual, GrLivArea, TotalBsmtSF, 2ndFlrSF...       LinearRegression   \n",
       "130  [OverallQual, GrLivArea, TotalBsmtSF, BsmtFinSF1]       LinearRegression   \n",
       "85                [OverallQual, GrLivArea, BsmtFinSF1]       LinearRegression   \n",
       "\n",
       "              MSE  \n",
       "151  40225.969342  \n",
       "135  40270.381600  \n",
       "150  40404.604456  \n",
       "130  40414.908054  \n",
       "85   40738.318380  "
      ]
     },
     "execution_count": 44,
     "metadata": {},
     "output_type": "execute_result"
    }
   ],
   "source": [
    "third_attempt_evaluation = evaluate_models(\n",
    "    data_frame = train_third_attempt, \n",
    "    features = list(top_features[\"Feature\"].head(5)),\n",
    "    target_column = \"SalePrice\",\n",
    "    initial_number_of_features = 1,\n",
    "    max_number_of_features = 5\n",
    ")\n",
    "(third_attempt_evaluation.sort_values(by=[\"MSE\"])).iloc[0:5,:]"
   ]
  },
  {
   "cell_type": "markdown",
   "metadata": {},
   "source": [
    "We could reduce our MSE from 41136.95 to 40225.96. Still not much increase, but at least it increased more than when compared with our previous attempt and now the model with best performance was Decision Tree Regressor. Let's again generate and submit to Kaggle to see how it is evaluated there."
   ]
  },
  {
   "cell_type": "code",
   "execution_count": 45,
   "metadata": {},
   "outputs": [
    {
     "data": {
      "text/html": [
       "<div>\n",
       "<style scoped>\n",
       "    .dataframe tbody tr th:only-of-type {\n",
       "        vertical-align: middle;\n",
       "    }\n",
       "\n",
       "    .dataframe tbody tr th {\n",
       "        vertical-align: top;\n",
       "    }\n",
       "\n",
       "    .dataframe thead th {\n",
       "        text-align: right;\n",
       "    }\n",
       "</style>\n",
       "<table border=\"1\" class=\"dataframe\">\n",
       "  <thead>\n",
       "    <tr style=\"text-align: right;\">\n",
       "      <th></th>\n",
       "      <th>0</th>\n",
       "    </tr>\n",
       "  </thead>\n",
       "  <tbody>\n",
       "    <tr>\n",
       "      <th>0</th>\n",
       "      <td>100000.0</td>\n",
       "    </tr>\n",
       "    <tr>\n",
       "      <th>1</th>\n",
       "      <td>196000.0</td>\n",
       "    </tr>\n",
       "    <tr>\n",
       "      <th>2</th>\n",
       "      <td>152000.0</td>\n",
       "    </tr>\n",
       "    <tr>\n",
       "      <th>3</th>\n",
       "      <td>192000.0</td>\n",
       "    </tr>\n",
       "    <tr>\n",
       "      <th>4</th>\n",
       "      <td>192000.0</td>\n",
       "    </tr>\n",
       "  </tbody>\n",
       "</table>\n",
       "</div>"
      ],
      "text/plain": [
       "          0\n",
       "0  100000.0\n",
       "1  196000.0\n",
       "2  152000.0\n",
       "3  192000.0\n",
       "4  192000.0"
      ]
     },
     "execution_count": 45,
     "metadata": {},
     "output_type": "execute_result"
    }
   ],
   "source": [
    "test_set = pd.read_csv(\"test.csv\")\n",
    "test_set[\"SalePrice\"] = 0 ## Adding a dummy target variable\n",
    "test_set = null_columns_transformation(test_set)\n",
    "test_set = standardize_numeric_features(test_set)\n",
    "\n",
    "prediction_set = generate_predictions(third_attempt_evaluation, train_third_attempt, test_set)\n",
    "pd.DataFrame(prediction_set).head()"
   ]
  },
  {
   "cell_type": "code",
   "execution_count": 46,
   "metadata": {},
   "outputs": [],
   "source": [
    "generate_submission(test_set, prediction_set, \"3rd_attempt\")"
   ]
  },
  {
   "cell_type": "markdown",
   "metadata": {},
   "source": [
    "0.23260 was way better than our second attempt (0.87140), but would still put us around position 3700 on leaderboard. A good improvement from one attemp to another. \n",
    "\n",
    "## Fourth attempt\n",
    "\n",
    "For our fourth attemp, besides removing low variance columns and standardize every numeric variable, we are going also to twerk some parameters on models being attempted, as below:\n",
    "\n",
    "* Linear Regression: forcing coeficients to be positive (positive=True)\n",
    "* Decision Tree Regression: limiting the depth of our tree (max_depth=10) and also \"pin\" our randomness (random_state=1)\n",
    "* Support Vector Machine Regression: increase the regularization parameter (C=2)\n",
    "\n",
    "\n",
    "To start we will be loading a new DataFrame for this attempt, then re-define our function used to generate estimates as well our function to generate the predictions (it also also should consider the parameters above).\n",
    "\n",
    "We do not need to reasses the most important features, as we will be using the same transformations from our third attempt."
   ]
  },
  {
   "cell_type": "code",
   "execution_count": 47,
   "metadata": {},
   "outputs": [
    {
     "data": {
      "text/html": [
       "<div>\n",
       "<style scoped>\n",
       "    .dataframe tbody tr th:only-of-type {\n",
       "        vertical-align: middle;\n",
       "    }\n",
       "\n",
       "    .dataframe tbody tr th {\n",
       "        vertical-align: top;\n",
       "    }\n",
       "\n",
       "    .dataframe thead th {\n",
       "        text-align: right;\n",
       "    }\n",
       "</style>\n",
       "<table border=\"1\" class=\"dataframe\">\n",
       "  <thead>\n",
       "    <tr style=\"text-align: right;\">\n",
       "      <th></th>\n",
       "      <th>MSSubClass</th>\n",
       "      <th>LotFrontage</th>\n",
       "      <th>LotArea</th>\n",
       "      <th>OverallQual</th>\n",
       "      <th>OverallCond</th>\n",
       "      <th>YearBuilt</th>\n",
       "      <th>YearRemodAdd</th>\n",
       "      <th>MasVnrArea</th>\n",
       "      <th>BsmtFinSF1</th>\n",
       "      <th>BsmtFinSF2</th>\n",
       "      <th>...</th>\n",
       "      <th>WoodDeckSF</th>\n",
       "      <th>OpenPorchSF</th>\n",
       "      <th>EnclosedPorch</th>\n",
       "      <th>3SsnPorch</th>\n",
       "      <th>ScreenPorch</th>\n",
       "      <th>PoolArea</th>\n",
       "      <th>MiscVal</th>\n",
       "      <th>MoSold</th>\n",
       "      <th>YrSold</th>\n",
       "      <th>SalePrice</th>\n",
       "    </tr>\n",
       "    <tr>\n",
       "      <th>index</th>\n",
       "      <th></th>\n",
       "      <th></th>\n",
       "      <th></th>\n",
       "      <th></th>\n",
       "      <th></th>\n",
       "      <th></th>\n",
       "      <th></th>\n",
       "      <th></th>\n",
       "      <th></th>\n",
       "      <th></th>\n",
       "      <th></th>\n",
       "      <th></th>\n",
       "      <th></th>\n",
       "      <th></th>\n",
       "      <th></th>\n",
       "      <th></th>\n",
       "      <th></th>\n",
       "      <th></th>\n",
       "      <th></th>\n",
       "      <th></th>\n",
       "      <th></th>\n",
       "    </tr>\n",
       "  </thead>\n",
       "  <tbody>\n",
       "    <tr>\n",
       "      <th>1</th>\n",
       "      <td>0.073375</td>\n",
       "      <td>-0.220875</td>\n",
       "      <td>-0.207142</td>\n",
       "      <td>0.651479</td>\n",
       "      <td>-0.517200</td>\n",
       "      <td>1.050994</td>\n",
       "      <td>0.878668</td>\n",
       "      <td>0.514104</td>\n",
       "      <td>0.575425</td>\n",
       "      <td>-0.288653</td>\n",
       "      <td>...</td>\n",
       "      <td>-0.752176</td>\n",
       "      <td>0.216503</td>\n",
       "      <td>-0.359325</td>\n",
       "      <td>-0.116339</td>\n",
       "      <td>-0.270208</td>\n",
       "      <td>-0.068692</td>\n",
       "      <td>-0.087688</td>\n",
       "      <td>-1.599111</td>\n",
       "      <td>0.138777</td>\n",
       "      <td>208500</td>\n",
       "    </tr>\n",
       "    <tr>\n",
       "      <th>2</th>\n",
       "      <td>-0.872563</td>\n",
       "      <td>0.460320</td>\n",
       "      <td>-0.091886</td>\n",
       "      <td>-0.071836</td>\n",
       "      <td>2.179628</td>\n",
       "      <td>0.156734</td>\n",
       "      <td>-0.429577</td>\n",
       "      <td>-0.570750</td>\n",
       "      <td>1.171992</td>\n",
       "      <td>-0.288653</td>\n",
       "      <td>...</td>\n",
       "      <td>1.626195</td>\n",
       "      <td>-0.704483</td>\n",
       "      <td>-0.359325</td>\n",
       "      <td>-0.116339</td>\n",
       "      <td>-0.270208</td>\n",
       "      <td>-0.068692</td>\n",
       "      <td>-0.087688</td>\n",
       "      <td>-0.489110</td>\n",
       "      <td>-0.614439</td>\n",
       "      <td>181500</td>\n",
       "    </tr>\n",
       "    <tr>\n",
       "      <th>3</th>\n",
       "      <td>0.073375</td>\n",
       "      <td>-0.084636</td>\n",
       "      <td>0.073480</td>\n",
       "      <td>0.651479</td>\n",
       "      <td>-0.517200</td>\n",
       "      <td>0.984752</td>\n",
       "      <td>0.830215</td>\n",
       "      <td>0.325915</td>\n",
       "      <td>0.092907</td>\n",
       "      <td>-0.288653</td>\n",
       "      <td>...</td>\n",
       "      <td>-0.752176</td>\n",
       "      <td>-0.070361</td>\n",
       "      <td>-0.359325</td>\n",
       "      <td>-0.116339</td>\n",
       "      <td>-0.270208</td>\n",
       "      <td>-0.068692</td>\n",
       "      <td>-0.087688</td>\n",
       "      <td>0.990891</td>\n",
       "      <td>0.138777</td>\n",
       "      <td>223500</td>\n",
       "    </tr>\n",
       "    <tr>\n",
       "      <th>4</th>\n",
       "      <td>0.309859</td>\n",
       "      <td>-0.447940</td>\n",
       "      <td>-0.096897</td>\n",
       "      <td>0.651479</td>\n",
       "      <td>-0.517200</td>\n",
       "      <td>-1.863632</td>\n",
       "      <td>-0.720298</td>\n",
       "      <td>-0.570750</td>\n",
       "      <td>-0.499274</td>\n",
       "      <td>-0.288653</td>\n",
       "      <td>...</td>\n",
       "      <td>-0.752176</td>\n",
       "      <td>-0.176048</td>\n",
       "      <td>4.092524</td>\n",
       "      <td>-0.116339</td>\n",
       "      <td>-0.270208</td>\n",
       "      <td>-0.068692</td>\n",
       "      <td>-0.087688</td>\n",
       "      <td>-1.599111</td>\n",
       "      <td>-1.367655</td>\n",
       "      <td>140000</td>\n",
       "    </tr>\n",
       "    <tr>\n",
       "      <th>5</th>\n",
       "      <td>0.073375</td>\n",
       "      <td>0.641972</td>\n",
       "      <td>0.375148</td>\n",
       "      <td>1.374795</td>\n",
       "      <td>-0.517200</td>\n",
       "      <td>0.951632</td>\n",
       "      <td>0.733308</td>\n",
       "      <td>1.366489</td>\n",
       "      <td>0.463568</td>\n",
       "      <td>-0.288653</td>\n",
       "      <td>...</td>\n",
       "      <td>0.780197</td>\n",
       "      <td>0.563760</td>\n",
       "      <td>-0.359325</td>\n",
       "      <td>-0.116339</td>\n",
       "      <td>-0.270208</td>\n",
       "      <td>-0.068692</td>\n",
       "      <td>-0.087688</td>\n",
       "      <td>2.100892</td>\n",
       "      <td>0.138777</td>\n",
       "      <td>250000</td>\n",
       "    </tr>\n",
       "  </tbody>\n",
       "</table>\n",
       "<p>5 rows × 29 columns</p>\n",
       "</div>"
      ],
      "text/plain": [
       "       MSSubClass  LotFrontage   LotArea  OverallQual  OverallCond  YearBuilt  \\\n",
       "index                                                                           \n",
       "1        0.073375    -0.220875 -0.207142     0.651479    -0.517200   1.050994   \n",
       "2       -0.872563     0.460320 -0.091886    -0.071836     2.179628   0.156734   \n",
       "3        0.073375    -0.084636  0.073480     0.651479    -0.517200   0.984752   \n",
       "4        0.309859    -0.447940 -0.096897     0.651479    -0.517200  -1.863632   \n",
       "5        0.073375     0.641972  0.375148     1.374795    -0.517200   0.951632   \n",
       "\n",
       "       YearRemodAdd  MasVnrArea  BsmtFinSF1  BsmtFinSF2  ...  WoodDeckSF  \\\n",
       "index                                                    ...               \n",
       "1          0.878668    0.514104    0.575425   -0.288653  ...   -0.752176   \n",
       "2         -0.429577   -0.570750    1.171992   -0.288653  ...    1.626195   \n",
       "3          0.830215    0.325915    0.092907   -0.288653  ...   -0.752176   \n",
       "4         -0.720298   -0.570750   -0.499274   -0.288653  ...   -0.752176   \n",
       "5          0.733308    1.366489    0.463568   -0.288653  ...    0.780197   \n",
       "\n",
       "       OpenPorchSF  EnclosedPorch  3SsnPorch  ScreenPorch  PoolArea   MiscVal  \\\n",
       "index                                                                           \n",
       "1         0.216503      -0.359325  -0.116339    -0.270208 -0.068692 -0.087688   \n",
       "2        -0.704483      -0.359325  -0.116339    -0.270208 -0.068692 -0.087688   \n",
       "3        -0.070361      -0.359325  -0.116339    -0.270208 -0.068692 -0.087688   \n",
       "4        -0.176048       4.092524  -0.116339    -0.270208 -0.068692 -0.087688   \n",
       "5         0.563760      -0.359325  -0.116339    -0.270208 -0.068692 -0.087688   \n",
       "\n",
       "         MoSold    YrSold  SalePrice  \n",
       "index                                 \n",
       "1     -1.599111  0.138777     208500  \n",
       "2     -0.489110 -0.614439     181500  \n",
       "3      0.990891  0.138777     223500  \n",
       "4     -1.599111 -1.367655     140000  \n",
       "5      2.100892  0.138777     250000  \n",
       "\n",
       "[5 rows x 29 columns]"
      ]
     },
     "execution_count": 47,
     "metadata": {},
     "output_type": "execute_result"
    }
   ],
   "source": [
    "train_fourth_attempt = train_dataset.iloc[:,:]\n",
    "train_fourth_attempt = remove_low_variance_features(train_fourth_attempt, 1)\n",
    "train_fourth_attempt = standardize_numeric_features(train_fourth_attempt)\n",
    "train_fourth_attempt.head()"
   ]
  },
  {
   "cell_type": "code",
   "execution_count": 48,
   "metadata": {},
   "outputs": [],
   "source": [
    "def evaluate_models(data_frame, features, target_column, initial_number_of_features = 1, \n",
    "                    max_number_of_features = 1):\n",
    "    evaluation_list = []\n",
    "    counter = 0\n",
    "    for number_of_features in range(initial_number_of_features, max_number_of_features + 1):\n",
    "        for each_combination_of_features in list(itertools.combinations(features, r=number_of_features)):\n",
    "            print(\"Features:\", list(each_combination_of_features))\n",
    "            X = data_frame[list(each_combination_of_features)]\n",
    "            y = data_frame[target_column]\n",
    "            cv = RepeatedStratifiedKFold(n_splits=10, n_repeats=3, random_state=2210)\n",
    "            \n",
    "            regressor = LinearRegression(positive=True)\n",
    "            model = \"LinearRegression\"\n",
    "            scores = cross_validate(regressor, X, y, scoring=('r2', 'neg_mean_squared_error'))\n",
    "\n",
    "            evaluation_item = {\n",
    "                \"Features\": list(each_combination_of_features),\n",
    "                \"Model\": model,\n",
    "                \"MSE\": np.sqrt(- np.mean(scores[\"test_neg_mean_squared_error\"]))\n",
    "            }\n",
    "            evaluation_list.append(evaluation_item)\n",
    "\n",
    "            regressor = DecisionTreeRegressor(max_depth=10, random_state=1)\n",
    "            model = \"DecisionTreeRegressor\"\n",
    "            scores = cross_validate(regressor, X, y, scoring=('r2', 'neg_mean_squared_error'))\n",
    "            evaluation_item = {\n",
    "                \"Features\": list(each_combination_of_features),\n",
    "                \"Model\": model,\n",
    "                \"MSE\": np.sqrt(- np.mean(scores[\"test_neg_mean_squared_error\"]))\n",
    "            }\n",
    "            evaluation_list.append(evaluation_item)\n",
    "            \n",
    "            kernels = [\n",
    "                SVR(kernel=\"linear\", gamma=\"scale\"), \n",
    "                SVR(kernel='poly', gamma=\"scale\"), \n",
    "                SVR(kernel=\"rbf\", gamma=\"scale\")\n",
    "            ]\n",
    "            for each_kernel in [\"linear\", \"poly\", \"rbf\"]:\n",
    "                regressor = SVR(kernel=each_kernel, gamma=\"scale\", C=2)\n",
    "                model = \"SVM (\" + each_kernel + \")\"\n",
    "                scores = cross_validate(regressor, X, y, scoring=('r2', 'neg_mean_squared_error'))\n",
    "                evaluation_item = {\n",
    "                    \"Features\": list(each_combination_of_features),\n",
    "                    \"Model\": model,\n",
    "                    \"MSE\": np.sqrt(- np.mean(scores[\"test_neg_mean_squared_error\"]))\n",
    "                }\n",
    "                evaluation_list.append(evaluation_item) \n",
    "            clear_output(wait=True)\n",
    "            counter += 5\n",
    "    print(\"Total of evaluations:\", counter) \n",
    "    return pd.DataFrame(evaluation_list)"
   ]
  },
  {
   "cell_type": "code",
   "execution_count": 49,
   "metadata": {},
   "outputs": [
    {
     "name": "stdout",
     "output_type": "stream",
     "text": [
      "Total of evaluations: 155\n"
     ]
    },
    {
     "data": {
      "text/html": [
       "<div>\n",
       "<style scoped>\n",
       "    .dataframe tbody tr th:only-of-type {\n",
       "        vertical-align: middle;\n",
       "    }\n",
       "\n",
       "    .dataframe tbody tr th {\n",
       "        vertical-align: top;\n",
       "    }\n",
       "\n",
       "    .dataframe thead th {\n",
       "        text-align: right;\n",
       "    }\n",
       "</style>\n",
       "<table border=\"1\" class=\"dataframe\">\n",
       "  <thead>\n",
       "    <tr style=\"text-align: right;\">\n",
       "      <th></th>\n",
       "      <th>Features</th>\n",
       "      <th>Model</th>\n",
       "      <th>MSE</th>\n",
       "    </tr>\n",
       "  </thead>\n",
       "  <tbody>\n",
       "    <tr>\n",
       "      <th>151</th>\n",
       "      <td>[OverallQual, GrLivArea, TotalBsmtSF, 2ndFlrSF...</td>\n",
       "      <td>DecisionTreeRegressor</td>\n",
       "      <td>38095.353761</td>\n",
       "    </tr>\n",
       "    <tr>\n",
       "      <th>136</th>\n",
       "      <td>[OverallQual, GrLivArea, 2ndFlrSF, BsmtFinSF1]</td>\n",
       "      <td>DecisionTreeRegressor</td>\n",
       "      <td>40122.096939</td>\n",
       "    </tr>\n",
       "    <tr>\n",
       "      <th>126</th>\n",
       "      <td>[OverallQual, GrLivArea, TotalBsmtSF, 2ndFlrSF]</td>\n",
       "      <td>DecisionTreeRegressor</td>\n",
       "      <td>40279.753869</td>\n",
       "    </tr>\n",
       "    <tr>\n",
       "      <th>130</th>\n",
       "      <td>[OverallQual, GrLivArea, TotalBsmtSF, BsmtFinSF1]</td>\n",
       "      <td>LinearRegression</td>\n",
       "      <td>40414.908054</td>\n",
       "    </tr>\n",
       "    <tr>\n",
       "      <th>150</th>\n",
       "      <td>[OverallQual, GrLivArea, TotalBsmtSF, 2ndFlrSF...</td>\n",
       "      <td>LinearRegression</td>\n",
       "      <td>40414.908054</td>\n",
       "    </tr>\n",
       "  </tbody>\n",
       "</table>\n",
       "</div>"
      ],
      "text/plain": [
       "                                              Features                  Model  \\\n",
       "151  [OverallQual, GrLivArea, TotalBsmtSF, 2ndFlrSF...  DecisionTreeRegressor   \n",
       "136     [OverallQual, GrLivArea, 2ndFlrSF, BsmtFinSF1]  DecisionTreeRegressor   \n",
       "126    [OverallQual, GrLivArea, TotalBsmtSF, 2ndFlrSF]  DecisionTreeRegressor   \n",
       "130  [OverallQual, GrLivArea, TotalBsmtSF, BsmtFinSF1]       LinearRegression   \n",
       "150  [OverallQual, GrLivArea, TotalBsmtSF, 2ndFlrSF...       LinearRegression   \n",
       "\n",
       "              MSE  \n",
       "151  38095.353761  \n",
       "136  40122.096939  \n",
       "126  40279.753869  \n",
       "130  40414.908054  \n",
       "150  40414.908054  "
      ]
     },
     "execution_count": 49,
     "metadata": {},
     "output_type": "execute_result"
    }
   ],
   "source": [
    "fourth_attempt_evaluation = evaluate_models(\n",
    "    data_frame = train_fourth_attempt, \n",
    "    features = list(top_features[\"Feature\"].head(5)),\n",
    "    target_column = \"SalePrice\",\n",
    "    initial_number_of_features = 1,\n",
    "    max_number_of_features = 5\n",
    ")\n",
    "(fourth_attempt_evaluation.sort_values(by=[\"MSE\"])).iloc[0:5,:]"
   ]
  },
  {
   "cell_type": "markdown",
   "metadata": {},
   "source": [
    "We got a good improvement in relation to our last attempt: 38095.35 vs 40225.96. \n",
    "\n",
    "Now we re-define the function that generate the predictions to consider the same parameters as our evaluation."
   ]
  },
  {
   "cell_type": "code",
   "execution_count": 50,
   "metadata": {},
   "outputs": [],
   "source": [
    "def generate_predictions(evaluations, train_set, test_set):\n",
    "    choosen_features = (evaluations.sort_values(by=[\"MSE\"])).iloc[0][\"Features\"]\n",
    "    choosen_model = (evaluations.sort_values(by=[\"MSE\"])).iloc[0][\"Model\"]\n",
    "    \n",
    "    X = np.array(train_set[choosen_features])\n",
    "    y = train_set[\"SalePrice\"]\n",
    "    \n",
    "    if choosen_model == \"LinearRegression\":\n",
    "        regressor = LinearRegression(positive=True)\n",
    "    elif choosen_model == \"DecisionTreeRegressor\":\n",
    "        regressor = DecisionTreeRegressor(max_depth=10, random_state=1)\n",
    "    elif choosen_model == \"SVM (linear)\":\n",
    "        regressor = SVR(kernel=\"linear\", gamma=\"scale\", C=2)\n",
    "    elif choosen_model == \"SVM (poly)\":\n",
    "        regressor = SVR(kernel='poly', gamma=\"scale\", C=2)\n",
    "    elif choosen_model == \"SVM (rbf)\":\n",
    "        regressor = SVR(kernel=\"rbf\", gamma=\"scale\", C=2)\n",
    "    regressor.fit(X, y) \n",
    "    predictions = regressor.predict(test_set[choosen_features])\n",
    "    return predictions"
   ]
  },
  {
   "cell_type": "code",
   "execution_count": 51,
   "metadata": {},
   "outputs": [
    {
     "data": {
      "text/html": [
       "<div>\n",
       "<style scoped>\n",
       "    .dataframe tbody tr th:only-of-type {\n",
       "        vertical-align: middle;\n",
       "    }\n",
       "\n",
       "    .dataframe tbody tr th {\n",
       "        vertical-align: top;\n",
       "    }\n",
       "\n",
       "    .dataframe thead th {\n",
       "        text-align: right;\n",
       "    }\n",
       "</style>\n",
       "<table border=\"1\" class=\"dataframe\">\n",
       "  <thead>\n",
       "    <tr style=\"text-align: right;\">\n",
       "      <th></th>\n",
       "      <th>0</th>\n",
       "    </tr>\n",
       "  </thead>\n",
       "  <tbody>\n",
       "    <tr>\n",
       "      <th>0</th>\n",
       "      <td>121243.396226</td>\n",
       "    </tr>\n",
       "    <tr>\n",
       "      <th>1</th>\n",
       "      <td>166773.421053</td>\n",
       "    </tr>\n",
       "    <tr>\n",
       "      <th>2</th>\n",
       "      <td>147000.000000</td>\n",
       "    </tr>\n",
       "    <tr>\n",
       "      <th>3</th>\n",
       "      <td>191890.000000</td>\n",
       "    </tr>\n",
       "    <tr>\n",
       "      <th>4</th>\n",
       "      <td>200666.666667</td>\n",
       "    </tr>\n",
       "  </tbody>\n",
       "</table>\n",
       "</div>"
      ],
      "text/plain": [
       "               0\n",
       "0  121243.396226\n",
       "1  166773.421053\n",
       "2  147000.000000\n",
       "3  191890.000000\n",
       "4  200666.666667"
      ]
     },
     "execution_count": 51,
     "metadata": {},
     "output_type": "execute_result"
    }
   ],
   "source": [
    "test_set = pd.read_csv(\"test.csv\")\n",
    "test_set[\"SalePrice\"] = 0 ## Adding a dummy target variable\n",
    "test_set = null_columns_transformation(test_set, train_set=False)\n",
    "test_set = standardize_numeric_features(test_set)\n",
    "\n",
    "prediction_set = generate_predictions(fourth_attempt_evaluation, train_fourth_attempt, test_set)\n",
    "pd.DataFrame(prediction_set).head()"
   ]
  },
  {
   "cell_type": "code",
   "execution_count": 52,
   "metadata": {},
   "outputs": [],
   "source": [
    "generate_submission(test_set, prediction_set, \"4th_attempt\")"
   ]
  },
  {
   "cell_type": "markdown",
   "metadata": {},
   "source": [
    "The fourth attemp was scored with 0.21564 points (against 0.23260 of the third attempt) which made us climb around 100 positions on the leaderboard.\n",
    "\n",
    "## Fifth attempt\n",
    " \n",
    "On our fifth and last attempt we are going to apply other techniques for reducing the number of dimension and create additional features, as well evaluate for every combination up to 10 features, using the top 10 features after we have re-assessed using Random Forrest."
   ]
  },
  {
   "cell_type": "code",
   "execution_count": 54,
   "metadata": {},
   "outputs": [],
   "source": [
    "train_fifth_attempt = train_dataset.iloc[:,:]\n",
    "train_fifth_attempt = remove_low_variance_features(train_fifth_attempt, 1)"
   ]
  },
  {
   "cell_type": "markdown",
   "metadata": {},
   "source": [
    "Before standardize the numeric variables, we are going to convert some categorial variables into numeric ones. We have several categorical variables (as ExterQual and GarageQual) that, although are text and categorical, represent a ranking (or rating). We are going to convert them to numerical categories, according to their ranking, from the worst (low values) to the best (high values) in one unit intervals."
   ]
  },
  {
   "cell_type": "code",
   "execution_count": 55,
   "metadata": {},
   "outputs": [],
   "source": [
    "def replace_ranking_by_rate(dataset):\n",
    "    rating_columns = [\n",
    "        \"ExterQual\", \"ExterCond\", \"BsmtQual\", \"BsmtCond\", \"BsmtExposure\", \"BsmtFinType1\", \"BsmtFinType2\",\n",
    "        \"HeatingQC\", \"KitchenQual\", \"GarageFinish\", \"GarageQual\", \"GarageCond\"\n",
    "    ]\n",
    "    ranking_to_rating = pd.DataFrame(\n",
    "        [\n",
    "            [\"NA\", 0], [\"Po\", 1], [\"Fa\", 2], [\"TA\", 3], [\"Gd\", 4], [\"Ex\", 5],\n",
    "            [\"Unf\", 1], [\"LwQ\", 2], [\"Rec\", 3], [\"BLQ\", 4], [\"ALQ\", 5], [\"GLQ\", 6],\n",
    "            [\"No\", 1], [\"Mn\", 2], [\"Av\", 3],\n",
    "            [\"Unf\", 1], [\"RFn\", 2], [\"Fin\", 3]\n",
    "        ], columns=[\"label\", \"value\"]\n",
    "    )\n",
    "\n",
    "    dataset = dataset.reset_index()\n",
    "    for each_column in rating_columns:\n",
    "        dataset[each_column] = pd.merge(\n",
    "            dataset, ranking_to_rating, how=\"left\", left_on=each_column, right_on=\"label\"\n",
    "        )[\"value\"]\n",
    "    return dataset.set_index(\"Id\")"
   ]
  },
  {
   "cell_type": "code",
   "execution_count": 56,
   "metadata": {},
   "outputs": [],
   "source": [
    "train_fifth_attempt = replace_ranking_by_rate(train_fifth_attempt)"
   ]
  },
  {
   "cell_type": "markdown",
   "metadata": {},
   "source": [
    "Columns with high correlation may be performance killers when training a model, as they have will have close performance on explaining variance on our target variable when analyzed alone, but together they will compete for the level of explanation they have among all variables. \n",
    "\n",
    "We are going to drop one column from a pair with more than 0.5 of correlation. The criteria that we are going to use to pick which column from the pair we are going to drop is the one with less variance. So, our logic will be: if the correlation between two columns is greater than 0.5, drop the one with less variance."
   ]
  },
  {
   "cell_type": "code",
   "execution_count": 57,
   "metadata": {},
   "outputs": [
    {
     "data": {
      "text/html": [
       "<div>\n",
       "<style scoped>\n",
       "    .dataframe tbody tr th:only-of-type {\n",
       "        vertical-align: middle;\n",
       "    }\n",
       "\n",
       "    .dataframe tbody tr th {\n",
       "        vertical-align: top;\n",
       "    }\n",
       "\n",
       "    .dataframe thead th {\n",
       "        text-align: right;\n",
       "    }\n",
       "</style>\n",
       "<table border=\"1\" class=\"dataframe\">\n",
       "  <thead>\n",
       "    <tr style=\"text-align: right;\">\n",
       "      <th></th>\n",
       "      <th>Feature1</th>\n",
       "      <th>Feature2</th>\n",
       "      <th>Corr</th>\n",
       "      <th>Drop Column</th>\n",
       "    </tr>\n",
       "  </thead>\n",
       "  <tbody>\n",
       "    <tr>\n",
       "      <th>645</th>\n",
       "      <td>GrLivArea</td>\n",
       "      <td>TotRmsAbvGrd</td>\n",
       "      <td>0.825489</td>\n",
       "      <td>TotRmsAbvGrd</td>\n",
       "    </tr>\n",
       "    <tr>\n",
       "      <th>550</th>\n",
       "      <td>TotalBsmtSF</td>\n",
       "      <td>1stFlrSF</td>\n",
       "      <td>0.819530</td>\n",
       "      <td>1stFlrSF</td>\n",
       "    </tr>\n",
       "    <tr>\n",
       "      <th>205</th>\n",
       "      <td>YearBuilt</td>\n",
       "      <td>GarageYrBlt</td>\n",
       "      <td>0.777182</td>\n",
       "      <td>GarageYrBlt</td>\n",
       "    </tr>\n",
       "    <tr>\n",
       "      <th>118</th>\n",
       "      <td>OverallQual</td>\n",
       "      <td>ExterQual</td>\n",
       "      <td>0.726278</td>\n",
       "      <td>ExterQual</td>\n",
       "    </tr>\n",
       "    <tr>\n",
       "      <th>189</th>\n",
       "      <td>YearBuilt</td>\n",
       "      <td>BsmtQual</td>\n",
       "      <td>0.724570</td>\n",
       "      <td>BsmtQual</td>\n",
       "    </tr>\n",
       "    <tr>\n",
       "      <th>299</th>\n",
       "      <td>ExterQual</td>\n",
       "      <td>KitchenQual</td>\n",
       "      <td>0.716122</td>\n",
       "      <td>ExterQual</td>\n",
       "    </tr>\n",
       "    <tr>\n",
       "      <th>610</th>\n",
       "      <td>2ndFlrSF</td>\n",
       "      <td>GrLivArea</td>\n",
       "      <td>0.687501</td>\n",
       "      <td>2ndFlrSF</td>\n",
       "    </tr>\n",
       "    <tr>\n",
       "      <th>134</th>\n",
       "      <td>OverallQual</td>\n",
       "      <td>KitchenQual</td>\n",
       "      <td>0.673331</td>\n",
       "      <td>KitchenQual</td>\n",
       "    </tr>\n",
       "    <tr>\n",
       "      <th>120</th>\n",
       "      <td>OverallQual</td>\n",
       "      <td>BsmtQual</td>\n",
       "      <td>0.667345</td>\n",
       "      <td>BsmtQual</td>\n",
       "    </tr>\n",
       "    <tr>\n",
       "      <th>360</th>\n",
       "      <td>BsmtQual</td>\n",
       "      <td>GarageYrBlt</td>\n",
       "      <td>0.652435</td>\n",
       "      <td>BsmtQual</td>\n",
       "    </tr>\n",
       "  </tbody>\n",
       "</table>\n",
       "</div>"
      ],
      "text/plain": [
       "        Feature1      Feature2      Corr   Drop Column\n",
       "645    GrLivArea  TotRmsAbvGrd  0.825489  TotRmsAbvGrd\n",
       "550  TotalBsmtSF      1stFlrSF  0.819530      1stFlrSF\n",
       "205    YearBuilt   GarageYrBlt  0.777182   GarageYrBlt\n",
       "118  OverallQual     ExterQual  0.726278     ExterQual\n",
       "189    YearBuilt      BsmtQual  0.724570      BsmtQual\n",
       "299    ExterQual   KitchenQual  0.716122     ExterQual\n",
       "610     2ndFlrSF     GrLivArea  0.687501      2ndFlrSF\n",
       "134  OverallQual   KitchenQual  0.673331   KitchenQual\n",
       "120  OverallQual      BsmtQual  0.667345      BsmtQual\n",
       "360     BsmtQual   GarageYrBlt  0.652435      BsmtQual"
      ]
     },
     "execution_count": 57,
     "metadata": {},
     "output_type": "execute_result"
    }
   ],
   "source": [
    "numeric_features = train_fifth_attempt.iloc[:,:-1].select_dtypes([np.number]).columns\n",
    "li = []\n",
    "for each_pair in list(itertools.combinations(numeric_features, r=2)):\n",
    "    corr = train_fifth_attempt[each_pair[0]].corr(train_fifth_attempt[each_pair[1]])\n",
    "    if train_fifth_attempt[each_pair[0]].var() > train_fifth_attempt[each_pair[1]].var():\n",
    "        column_to_drop = each_pair[1]\n",
    "    else:\n",
    "        column_to_drop = each_pair[0]\n",
    "    li.append(\n",
    "        {\n",
    "            \"Feature1\": each_pair[0],\n",
    "            \"Feature2\": each_pair[1],\n",
    "            \"Corr\": abs(corr),\n",
    "            \"Drop Column\": column_to_drop\n",
    "        }\n",
    "    )\n",
    "correlation_list = pd.DataFrame(li)\n",
    "correlation_list.sort_values(by=[\"Corr\"], ascending=False).head(10)"
   ]
  },
  {
   "cell_type": "code",
   "execution_count": 58,
   "metadata": {},
   "outputs": [
    {
     "name": "stdout",
     "output_type": "stream",
     "text": [
      "<class 'pandas.core.frame.DataFrame'>\n",
      "Int64Index: 1460 entries, 1 to 1460\n",
      "Data columns (total 56 columns):\n",
      " #   Column         Non-Null Count  Dtype  \n",
      "---  ------         --------------  -----  \n",
      " 0   MSSubClass     1460 non-null   int64  \n",
      " 1   MSZoning       1460 non-null   object \n",
      " 2   LotFrontage    1460 non-null   float64\n",
      " 3   LotArea        1460 non-null   int64  \n",
      " 4   Street         1460 non-null   object \n",
      " 5   LotShape       1460 non-null   object \n",
      " 6   LandContour    1460 non-null   object \n",
      " 7   Utilities      1460 non-null   object \n",
      " 8   LotConfig      1460 non-null   object \n",
      " 9   LandSlope      1460 non-null   object \n",
      " 10  Neighborhood   1460 non-null   object \n",
      " 11  Condition1     1460 non-null   object \n",
      " 12  Condition2     1460 non-null   object \n",
      " 13  BldgType       1460 non-null   object \n",
      " 14  HouseStyle     1460 non-null   object \n",
      " 15  OverallCond    1460 non-null   int64  \n",
      " 16  YearBuilt      1460 non-null   int64  \n",
      " 17  RoofStyle      1460 non-null   object \n",
      " 18  RoofMatl       1460 non-null   object \n",
      " 19  Exterior1st    1460 non-null   object \n",
      " 20  Exterior2nd    1460 non-null   object \n",
      " 21  MasVnrType     1460 non-null   object \n",
      " 22  MasVnrArea     1460 non-null   float64\n",
      " 23  ExterCond      1460 non-null   int64  \n",
      " 24  Foundation     1460 non-null   object \n",
      " 25  BsmtCond       1460 non-null   int64  \n",
      " 26  BsmtExposure   1460 non-null   int64  \n",
      " 27  BsmtFinType1   1460 non-null   int64  \n",
      " 28  BsmtFinSF1     1460 non-null   int64  \n",
      " 29  BsmtFinType2   1460 non-null   int64  \n",
      " 30  BsmtFinSF2     1460 non-null   int64  \n",
      " 31  BsmtUnfSF      1460 non-null   int64  \n",
      " 32  Heating        1460 non-null   object \n",
      " 33  CentralAir     1460 non-null   object \n",
      " 34  Electrical     1460 non-null   object \n",
      " 35  LowQualFinSF   1460 non-null   int64  \n",
      " 36  GrLivArea      1460 non-null   int64  \n",
      " 37  Functional     1460 non-null   object \n",
      " 38  FireplaceQu    1460 non-null   object \n",
      " 39  GarageType     1460 non-null   object \n",
      " 40  GarageFinish   1460 non-null   int64  \n",
      " 41  GarageArea     1460 non-null   int64  \n",
      " 42  GarageQual     1460 non-null   int64  \n",
      " 43  PavedDrive     1460 non-null   object \n",
      " 44  WoodDeckSF     1460 non-null   int64  \n",
      " 45  OpenPorchSF    1460 non-null   int64  \n",
      " 46  EnclosedPorch  1460 non-null   int64  \n",
      " 47  3SsnPorch      1460 non-null   int64  \n",
      " 48  ScreenPorch    1460 non-null   int64  \n",
      " 49  PoolArea       1460 non-null   int64  \n",
      " 50  MiscVal        1460 non-null   int64  \n",
      " 51  MoSold         1460 non-null   int64  \n",
      " 52  YrSold         1460 non-null   int64  \n",
      " 53  SaleType       1460 non-null   object \n",
      " 54  SaleCondition  1460 non-null   object \n",
      " 55  SalePrice      1460 non-null   int64  \n",
      "dtypes: float64(2), int64(27), object(27)\n",
      "memory usage: 650.2+ KB\n"
     ]
    }
   ],
   "source": [
    "train_fifth_attempt = train_fifth_attempt.drop(\n",
    "    list(correlation_list[correlation_list[\"Corr\"] > .50][\"Drop Column\"]), \n",
    "    axis=1\n",
    ")\n",
    "train_fifth_attempt.info()"
   ]
  },
  {
   "cell_type": "markdown",
   "metadata": {},
   "source": [
    "With all the dimension reduction techniques applied (variance and correlation), we could reduce the number if variables from 75 to 55. It is still to much for a Regression model, so, we are going to use Random Forrest again to determine the most important features to explain our target variable variance."
   ]
  },
  {
   "cell_type": "code",
   "execution_count": 59,
   "metadata": {},
   "outputs": [
    {
     "data": {
      "text/html": [
       "<div>\n",
       "<style scoped>\n",
       "    .dataframe tbody tr th:only-of-type {\n",
       "        vertical-align: middle;\n",
       "    }\n",
       "\n",
       "    .dataframe tbody tr th {\n",
       "        vertical-align: top;\n",
       "    }\n",
       "\n",
       "    .dataframe thead th {\n",
       "        text-align: right;\n",
       "    }\n",
       "</style>\n",
       "<table border=\"1\" class=\"dataframe\">\n",
       "  <thead>\n",
       "    <tr style=\"text-align: right;\">\n",
       "      <th></th>\n",
       "      <th>MSSubClass</th>\n",
       "      <th>LotFrontage</th>\n",
       "      <th>LotArea</th>\n",
       "      <th>OverallCond</th>\n",
       "      <th>YearBuilt</th>\n",
       "      <th>MasVnrArea</th>\n",
       "      <th>ExterCond</th>\n",
       "      <th>BsmtCond</th>\n",
       "      <th>BsmtExposure</th>\n",
       "      <th>BsmtFinType1</th>\n",
       "      <th>...</th>\n",
       "      <th>WoodDeckSF</th>\n",
       "      <th>OpenPorchSF</th>\n",
       "      <th>EnclosedPorch</th>\n",
       "      <th>3SsnPorch</th>\n",
       "      <th>ScreenPorch</th>\n",
       "      <th>PoolArea</th>\n",
       "      <th>MiscVal</th>\n",
       "      <th>MoSold</th>\n",
       "      <th>YrSold</th>\n",
       "      <th>SalePrice</th>\n",
       "    </tr>\n",
       "    <tr>\n",
       "      <th>index</th>\n",
       "      <th></th>\n",
       "      <th></th>\n",
       "      <th></th>\n",
       "      <th></th>\n",
       "      <th></th>\n",
       "      <th></th>\n",
       "      <th></th>\n",
       "      <th></th>\n",
       "      <th></th>\n",
       "      <th></th>\n",
       "      <th></th>\n",
       "      <th></th>\n",
       "      <th></th>\n",
       "      <th></th>\n",
       "      <th></th>\n",
       "      <th></th>\n",
       "      <th></th>\n",
       "      <th></th>\n",
       "      <th></th>\n",
       "      <th></th>\n",
       "      <th></th>\n",
       "    </tr>\n",
       "  </thead>\n",
       "  <tbody>\n",
       "    <tr>\n",
       "      <th>1</th>\n",
       "      <td>0.073375</td>\n",
       "      <td>-0.220875</td>\n",
       "      <td>-0.207142</td>\n",
       "      <td>-0.517200</td>\n",
       "      <td>1.050994</td>\n",
       "      <td>0.514104</td>\n",
       "      <td>-0.238112</td>\n",
       "      <td>-0.038577</td>\n",
       "      <td>-0.631676</td>\n",
       "      <td>1.418317</td>\n",
       "      <td>...</td>\n",
       "      <td>-0.752176</td>\n",
       "      <td>0.216503</td>\n",
       "      <td>-0.359325</td>\n",
       "      <td>-0.116339</td>\n",
       "      <td>-0.270208</td>\n",
       "      <td>-0.068692</td>\n",
       "      <td>-0.087688</td>\n",
       "      <td>-1.599111</td>\n",
       "      <td>0.138777</td>\n",
       "      <td>208500</td>\n",
       "    </tr>\n",
       "    <tr>\n",
       "      <th>2</th>\n",
       "      <td>-0.872563</td>\n",
       "      <td>0.460320</td>\n",
       "      <td>-0.091886</td>\n",
       "      <td>2.179628</td>\n",
       "      <td>0.156734</td>\n",
       "      <td>-0.570750</td>\n",
       "      <td>-0.238112</td>\n",
       "      <td>-0.038577</td>\n",
       "      <td>2.256363</td>\n",
       "      <td>0.947051</td>\n",
       "      <td>...</td>\n",
       "      <td>1.626195</td>\n",
       "      <td>-0.704483</td>\n",
       "      <td>-0.359325</td>\n",
       "      <td>-0.116339</td>\n",
       "      <td>-0.270208</td>\n",
       "      <td>-0.068692</td>\n",
       "      <td>-0.087688</td>\n",
       "      <td>-0.489110</td>\n",
       "      <td>-0.614439</td>\n",
       "      <td>181500</td>\n",
       "    </tr>\n",
       "    <tr>\n",
       "      <th>3</th>\n",
       "      <td>0.073375</td>\n",
       "      <td>-0.084636</td>\n",
       "      <td>0.073480</td>\n",
       "      <td>-0.517200</td>\n",
       "      <td>0.984752</td>\n",
       "      <td>0.325915</td>\n",
       "      <td>-0.238112</td>\n",
       "      <td>-0.038577</td>\n",
       "      <td>0.331004</td>\n",
       "      <td>1.418317</td>\n",
       "      <td>...</td>\n",
       "      <td>-0.752176</td>\n",
       "      <td>-0.070361</td>\n",
       "      <td>-0.359325</td>\n",
       "      <td>-0.116339</td>\n",
       "      <td>-0.270208</td>\n",
       "      <td>-0.068692</td>\n",
       "      <td>-0.087688</td>\n",
       "      <td>0.990891</td>\n",
       "      <td>0.138777</td>\n",
       "      <td>223500</td>\n",
       "    </tr>\n",
       "    <tr>\n",
       "      <th>4</th>\n",
       "      <td>0.309859</td>\n",
       "      <td>-0.447940</td>\n",
       "      <td>-0.096897</td>\n",
       "      <td>-0.517200</td>\n",
       "      <td>-1.863632</td>\n",
       "      <td>-0.570750</td>\n",
       "      <td>-0.238112</td>\n",
       "      <td>3.481550</td>\n",
       "      <td>-0.631676</td>\n",
       "      <td>0.947051</td>\n",
       "      <td>...</td>\n",
       "      <td>-0.752176</td>\n",
       "      <td>-0.176048</td>\n",
       "      <td>4.092524</td>\n",
       "      <td>-0.116339</td>\n",
       "      <td>-0.270208</td>\n",
       "      <td>-0.068692</td>\n",
       "      <td>-0.087688</td>\n",
       "      <td>-1.599111</td>\n",
       "      <td>-1.367655</td>\n",
       "      <td>140000</td>\n",
       "    </tr>\n",
       "    <tr>\n",
       "      <th>5</th>\n",
       "      <td>0.073375</td>\n",
       "      <td>0.641972</td>\n",
       "      <td>0.375148</td>\n",
       "      <td>-0.517200</td>\n",
       "      <td>0.951632</td>\n",
       "      <td>1.366489</td>\n",
       "      <td>-0.238112</td>\n",
       "      <td>-0.038577</td>\n",
       "      <td>1.293683</td>\n",
       "      <td>1.418317</td>\n",
       "      <td>...</td>\n",
       "      <td>0.780197</td>\n",
       "      <td>0.563760</td>\n",
       "      <td>-0.359325</td>\n",
       "      <td>-0.116339</td>\n",
       "      <td>-0.270208</td>\n",
       "      <td>-0.068692</td>\n",
       "      <td>-0.087688</td>\n",
       "      <td>2.100892</td>\n",
       "      <td>0.138777</td>\n",
       "      <td>250000</td>\n",
       "    </tr>\n",
       "  </tbody>\n",
       "</table>\n",
       "<p>5 rows × 29 columns</p>\n",
       "</div>"
      ],
      "text/plain": [
       "       MSSubClass  LotFrontage   LotArea  OverallCond  YearBuilt  MasVnrArea  \\\n",
       "index                                                                          \n",
       "1        0.073375    -0.220875 -0.207142    -0.517200   1.050994    0.514104   \n",
       "2       -0.872563     0.460320 -0.091886     2.179628   0.156734   -0.570750   \n",
       "3        0.073375    -0.084636  0.073480    -0.517200   0.984752    0.325915   \n",
       "4        0.309859    -0.447940 -0.096897    -0.517200  -1.863632   -0.570750   \n",
       "5        0.073375     0.641972  0.375148    -0.517200   0.951632    1.366489   \n",
       "\n",
       "       ExterCond  BsmtCond  BsmtExposure  BsmtFinType1  ...  WoodDeckSF  \\\n",
       "index                                                   ...               \n",
       "1      -0.238112 -0.038577     -0.631676      1.418317  ...   -0.752176   \n",
       "2      -0.238112 -0.038577      2.256363      0.947051  ...    1.626195   \n",
       "3      -0.238112 -0.038577      0.331004      1.418317  ...   -0.752176   \n",
       "4      -0.238112  3.481550     -0.631676      0.947051  ...   -0.752176   \n",
       "5      -0.238112 -0.038577      1.293683      1.418317  ...    0.780197   \n",
       "\n",
       "       OpenPorchSF  EnclosedPorch  3SsnPorch  ScreenPorch  PoolArea   MiscVal  \\\n",
       "index                                                                           \n",
       "1         0.216503      -0.359325  -0.116339    -0.270208 -0.068692 -0.087688   \n",
       "2        -0.704483      -0.359325  -0.116339    -0.270208 -0.068692 -0.087688   \n",
       "3        -0.070361      -0.359325  -0.116339    -0.270208 -0.068692 -0.087688   \n",
       "4        -0.176048       4.092524  -0.116339    -0.270208 -0.068692 -0.087688   \n",
       "5         0.563760      -0.359325  -0.116339    -0.270208 -0.068692 -0.087688   \n",
       "\n",
       "         MoSold    YrSold  SalePrice  \n",
       "index                                 \n",
       "1     -1.599111  0.138777     208500  \n",
       "2     -0.489110 -0.614439     181500  \n",
       "3      0.990891  0.138777     223500  \n",
       "4     -1.599111 -1.367655     140000  \n",
       "5      2.100892  0.138777     250000  \n",
       "\n",
       "[5 rows x 29 columns]"
      ]
     },
     "execution_count": 59,
     "metadata": {},
     "output_type": "execute_result"
    }
   ],
   "source": [
    "train_fifth_attempt = standardize_numeric_features(train_fifth_attempt)\n",
    "train_fifth_attempt.head()"
   ]
  },
  {
   "cell_type": "code",
   "execution_count": 60,
   "metadata": {},
   "outputs": [
    {
     "data": {
      "text/plain": [
       "RandomForestRegressor(max_depth=10, random_state=1)"
      ]
     },
     "execution_count": 60,
     "metadata": {},
     "output_type": "execute_result"
    }
   ],
   "source": [
    "RFRegressor = RandomForestRegressor(random_state=1, max_depth=10)\n",
    "train_fifth_attempt_dummy_features = pd.get_dummies(train_fifth_attempt.iloc[:,:-1])\n",
    "RFRegressor.fit(train_fifth_attempt_dummy_features, train_fifth_attempt.iloc[:,-1])"
   ]
  },
  {
   "cell_type": "code",
   "execution_count": 61,
   "metadata": {},
   "outputs": [
    {
     "data": {
      "image/png": "[encoded data removed]",
      "text/plain": [
       "<Figure size 432x288 with 1 Axes>"
      ]
     },
     "metadata": {
      "needs_background": "light"
     },
     "output_type": "display_data"
    }
   ],
   "source": [
    "features = train_fifth_attempt_dummy_features.columns\n",
    "importances = RFRegressor.feature_importances_\n",
    "indexes = np.argsort(importances)[-10:]  # top 10 features\n",
    "plt.title(\"Feature Importances - Fifth Attempt\")\n",
    "plt.barh(range(len(indexes)), importances[indexes], color='b', align='center')\n",
    "plt.yticks(range(len(indexes)), [features[i] for i in indexes])\n",
    "plt.xlabel('Relative Importance')\n",
    "plt.show()"
   ]
  },
  {
   "cell_type": "code",
   "execution_count": 62,
   "metadata": {},
   "outputs": [
    {
     "data": {
      "image/png": "[encoded data removed]",
      "text/plain": [
       "<Figure size 432x288 with 1 Axes>"
      ]
     },
     "metadata": {
      "needs_background": "light"
     },
     "output_type": "display_data"
    }
   ],
   "source": [
    "feature_ranking = pd.DataFrame(\n",
    "    {\"Feature\": train_fifth_attempt_dummy_features.columns,\n",
    "     \"Weight\": RFRegressor.feature_importances_\n",
    "    }\n",
    ")\n",
    "feature_ranking = feature_ranking.sort_values(by=[\"Weight\"], ascending=False).reset_index()\n",
    "feature_ranking = feature_ranking.drop([\"index\"], axis=1)\n",
    "top_features = feature_ranking.head(10)\n",
    "plt.plot(top_features[\"Feature\"], np.cumsum(top_features[\"Weight\"]))\n",
    "plt.xticks(top_features[\"Feature\"], top_features[\"Feature\"], rotation='vertical')\n",
    "plt.xlabel('Feature')\n",
    "plt.ylabel('Cumulative Explained Variance');"
   ]
  },
  {
   "cell_type": "markdown",
   "metadata": {},
   "source": [
    "Now we have a totally new configuration of important variables that will be evaluated in all possible combinations (for top 10 most important)"
   ]
  },
  {
   "cell_type": "code",
   "execution_count": 63,
   "metadata": {},
   "outputs": [
    {
     "name": "stdout",
     "output_type": "stream",
     "text": [
      "Total of evaluations: 5115\n"
     ]
    },
    {
     "data": {
      "text/html": [
       "<div>\n",
       "<style scoped>\n",
       "    .dataframe tbody tr th:only-of-type {\n",
       "        vertical-align: middle;\n",
       "    }\n",
       "\n",
       "    .dataframe tbody tr th {\n",
       "        vertical-align: top;\n",
       "    }\n",
       "\n",
       "    .dataframe thead th {\n",
       "        text-align: right;\n",
       "    }\n",
       "</style>\n",
       "<table border=\"1\" class=\"dataframe\">\n",
       "  <thead>\n",
       "    <tr style=\"text-align: right;\">\n",
       "      <th></th>\n",
       "      <th>Features</th>\n",
       "      <th>Model</th>\n",
       "      <th>MSE</th>\n",
       "    </tr>\n",
       "  </thead>\n",
       "  <tbody>\n",
       "    <tr>\n",
       "      <th>3451</th>\n",
       "      <td>[GrLivArea, YearBuilt, BsmtFinSF1, LotFrontage...</td>\n",
       "      <td>DecisionTreeRegressor</td>\n",
       "      <td>40004.946430</td>\n",
       "    </tr>\n",
       "    <tr>\n",
       "      <th>2091</th>\n",
       "      <td>[GrLivArea, YearBuilt, BsmtFinSF1, BsmtUnfSF, ...</td>\n",
       "      <td>DecisionTreeRegressor</td>\n",
       "      <td>40016.234398</td>\n",
       "    </tr>\n",
       "    <tr>\n",
       "      <th>2036</th>\n",
       "      <td>[GrLivArea, YearBuilt, BsmtFinSF1, LotArea, Lo...</td>\n",
       "      <td>DecisionTreeRegressor</td>\n",
       "      <td>40501.624419</td>\n",
       "    </tr>\n",
       "    <tr>\n",
       "      <th>3386</th>\n",
       "      <td>[GrLivArea, YearBuilt, BsmtFinSF1, LotArea, Lo...</td>\n",
       "      <td>DecisionTreeRegressor</td>\n",
       "      <td>40537.430897</td>\n",
       "    </tr>\n",
       "    <tr>\n",
       "      <th>4481</th>\n",
       "      <td>[GrLivArea, YearBuilt, BsmtFinSF1, LotFrontage...</td>\n",
       "      <td>DecisionTreeRegressor</td>\n",
       "      <td>40860.228250</td>\n",
       "    </tr>\n",
       "  </tbody>\n",
       "</table>\n",
       "</div>"
      ],
      "text/plain": [
       "                                               Features  \\\n",
       "3451  [GrLivArea, YearBuilt, BsmtFinSF1, LotFrontage...   \n",
       "2091  [GrLivArea, YearBuilt, BsmtFinSF1, BsmtUnfSF, ...   \n",
       "2036  [GrLivArea, YearBuilt, BsmtFinSF1, LotArea, Lo...   \n",
       "3386  [GrLivArea, YearBuilt, BsmtFinSF1, LotArea, Lo...   \n",
       "4481  [GrLivArea, YearBuilt, BsmtFinSF1, LotFrontage...   \n",
       "\n",
       "                      Model           MSE  \n",
       "3451  DecisionTreeRegressor  40004.946430  \n",
       "2091  DecisionTreeRegressor  40016.234398  \n",
       "2036  DecisionTreeRegressor  40501.624419  \n",
       "3386  DecisionTreeRegressor  40537.430897  \n",
       "4481  DecisionTreeRegressor  40860.228250  "
      ]
     },
     "execution_count": 63,
     "metadata": {},
     "output_type": "execute_result"
    }
   ],
   "source": [
    "fifth_attempt_evaluation = evaluate_models(\n",
    "    data_frame = train_fifth_attempt, \n",
    "    features = list(top_features[\"Feature\"].head(10)),\n",
    "    target_column = \"SalePrice\",\n",
    "    initial_number_of_features = 1,\n",
    "    max_number_of_features = 10\n",
    ")\n",
    "(fifth_attempt_evaluation.sort_values(by=[\"MSE\"])).iloc[0:5,:]"
   ]
  },
  {
   "cell_type": "markdown",
   "metadata": {},
   "source": [
    "In this final attemp, we got a MSE of 40004.95, a little bit over our fourth and best attempt (38095.35). We are going to submit anyway, to get the score from Kaggle. "
   ]
  },
  {
   "cell_type": "code",
   "execution_count": 64,
   "metadata": {},
   "outputs": [
    {
     "data": {
      "text/html": [
       "<div>\n",
       "<style scoped>\n",
       "    .dataframe tbody tr th:only-of-type {\n",
       "        vertical-align: middle;\n",
       "    }\n",
       "\n",
       "    .dataframe tbody tr th {\n",
       "        vertical-align: top;\n",
       "    }\n",
       "\n",
       "    .dataframe thead th {\n",
       "        text-align: right;\n",
       "    }\n",
       "</style>\n",
       "<table border=\"1\" class=\"dataframe\">\n",
       "  <thead>\n",
       "    <tr style=\"text-align: right;\">\n",
       "      <th></th>\n",
       "      <th>0</th>\n",
       "    </tr>\n",
       "  </thead>\n",
       "  <tbody>\n",
       "    <tr>\n",
       "      <th>0</th>\n",
       "      <td>121280.642857</td>\n",
       "    </tr>\n",
       "    <tr>\n",
       "      <th>1</th>\n",
       "      <td>156128.571429</td>\n",
       "    </tr>\n",
       "    <tr>\n",
       "      <th>2</th>\n",
       "      <td>216380.000000</td>\n",
       "    </tr>\n",
       "    <tr>\n",
       "      <th>3</th>\n",
       "      <td>190711.805556</td>\n",
       "    </tr>\n",
       "    <tr>\n",
       "      <th>4</th>\n",
       "      <td>180056.358974</td>\n",
       "    </tr>\n",
       "  </tbody>\n",
       "</table>\n",
       "</div>"
      ],
      "text/plain": [
       "               0\n",
       "0  121280.642857\n",
       "1  156128.571429\n",
       "2  216380.000000\n",
       "3  190711.805556\n",
       "4  180056.358974"
      ]
     },
     "execution_count": 64,
     "metadata": {},
     "output_type": "execute_result"
    }
   ],
   "source": [
    "test_set = pd.read_csv(\"test.csv\")\n",
    "test_set[\"SalePrice\"] = 0 ## Adding a dummy target variable\n",
    "test_set = null_columns_transformation(test_set, train_set = False)\n",
    "test_set = replace_ranking_by_rate(test_set)\n",
    "test_set = standardize_numeric_features(test_set)\n",
    "\n",
    "prediction_set = generate_predictions(fifth_attempt_evaluation, train_fifth_attempt, test_set)\n",
    "pd.DataFrame(prediction_set).head()"
   ]
  },
  {
   "cell_type": "code",
   "execution_count": 65,
   "metadata": {},
   "outputs": [],
   "source": [
    "generate_submission(test_set, prediction_set, \"5th_attempt\")"
   ]
  },
  {
   "cell_type": "markdown",
   "metadata": {},
   "source": [
    "The score of fifth attemp was 0.21245, still around position 3600 of the leaderboard.\n",
    "\n",
    "## Conclusion\n",
    "\n",
    "With five attemps of cleansing, standardizing and reducing dimensionality we were able to increase the performance of our project five times (from 0.87504 to 0.21245), which would make us climb around 600 positions on the leaderboard.\n",
    "\n",
    "<img src=\"kaggle_submissions.png\"> "
   ]
  },
  {
   "cell_type": "code",
   "execution_count": null,
   "metadata": {},
   "outputs": [],
   "source": []
  }
 ],
 "metadata": {
  "kernelspec": {
   "display_name": "Python 3",
   "language": "python",
   "name": "python3"
  },
  "language_info": {
   "codemirror_mode": {
    "name": "ipython",
    "version": 3
   },
   "file_extension": ".py",
   "mimetype": "text/x-python",
   "name": "python",
   "nbconvert_exporter": "python",
   "pygments_lexer": "ipython3",
   "version": "3.8.8"
  }
 },
 "nbformat": 4,
 "nbformat_minor": 4
}
