{
 "cells": [
  {
   "cell_type": "code",
   "execution_count": 1,
   "id": "6badfc26",
   "metadata": {},
   "outputs": [],
   "source": [
    "suppressMessages(suppressWarnings(library(dplyr)))\n",
    "suppressMessages(suppressWarnings(library(reshape2)))\n",
    "suppressMessages(suppressWarnings(library(stringr)))\n",
    "suppressMessages(suppressWarnings(library(anytime)))\n",
    "suppressMessages(suppressWarnings(library(tidyverse)))\n",
    "suppressMessages(suppressWarnings(library(plotly)))\n",
    "options(repr.plot.width=16, repr.plot.height=7)\n",
    "options(scipen = 999) # Disabling scientific notation"
   ]
  },
  {
   "cell_type": "markdown",
   "id": "dbf359c0",
   "metadata": {},
   "source": [
    "# Final Project: Predict Future Sales\n",
    "\n",
    "https://www.kaggle.com/c/competitive-data-science-predict-future-sales/data\n",
    "\n",
    "Goals\n",
    "\n",
    "1. We are not competing with other teams on kaggle\n",
    "2. This project is a playground to practice the knowledge of this class and prepare for the final exam.\n",
    "3. Group project, 1-4 people per team\n",
    "4. You can use R or Python\n",
    "5. Use dataframe to process data\n",
    "6. Build one prediction model using the ML algorithms of this course\n",
    "7. Evaluate your prediction model\n",
    "8. Try different ways to improve your model and show the improvements.\n",
    "9. Submit code and results in Jupyter and HTML formats on canvas"
   ]
  },
  {
   "cell_type": "markdown",
   "id": "f4567a92",
   "metadata": {},
   "source": [
    "## Challenge\n",
    "\n",
    "This challenge serves as final project for the \"How to win a data science competition\" Coursera course.\n",
    "\n",
    "In this competition you will work with a challenging time-series dataset consisting of daily sales data, kindly provided by one of the largest Russian software firms - 1C Company. \n",
    "\n",
    "We are asking you to predict total sales for every product and store in the next month. By solving this competition you will be able to apply and enhance your data science skills.\n",
    "\n",
    "You are provided with daily historical sales data. The task is to forecast the total amount of products sold in every shop for the test set. Note that the list of shops and products slightly changes every month. Creating a robust model that can handle such situations is part of the challenge."
   ]
  },
  {
   "cell_type": "markdown",
   "id": "c3980099",
   "metadata": {},
   "source": [
    "## File descriptions\n",
    "\n",
    "* sales_train.csv - the training set. Daily historical data from January 2013 to October 2015.\n",
    "* test.csv - the test set. You need to forecast the sales for these shops and products for November 2015.\n",
    "* sample_submission.csv - a sample submission file in the correct format.\n",
    "* items.csv - supplemental information about the items/products.\n",
    "* item_categories.csv  - supplemental information about the items categories.\n",
    "* shops.csv- supplemental information about the shops.\n",
    "\n",
    "\n",
    "## Data fields\n",
    "\n",
    "* ID - an Id that represents a (Shop, Item) tuple within the test set\n",
    "* shop_id - unique identifier of a shop\n",
    "* item_id - unique identifier of a product\n",
    "* item_category_id - unique identifier of item category\n",
    "* item_cnt_day - number of products sold. You are predicting a monthly amount of this measure\n",
    "* item_price - current price of an item\n",
    "* date - date in format dd/mm/yyyy\n",
    "* date_block_num - a consecutive month number, used for convenience. January 2013 is 0, February 2013 is 1,..., October 2015 is 33\n",
    "* item_name - name of item\n",
    "* shop_name - name of shop\n",
    "* item_category_name - name of item category"
   ]
  },
  {
   "cell_type": "markdown",
   "id": "742b77f3",
   "metadata": {},
   "source": [
    "First step is to load the train dataset and do an initial analysis on how it looks like"
   ]
  },
  {
   "cell_type": "code",
   "execution_count": 2,
   "id": "dbd49f0d",
   "metadata": {},
   "outputs": [
    {
     "data": {
      "text/html": [
       "2935849"
      ],
      "text/latex": [
       "2935849"
      ],
      "text/markdown": [
       "2935849"
      ],
      "text/plain": [
       "[1] 2935849"
      ]
     },
     "metadata": {},
     "output_type": "display_data"
    },
    {
     "data": {
      "text/html": [
       "<table class=\"dataframe\">\n",
       "<caption>A data.frame: 6 × 6</caption>\n",
       "<thead>\n",
       "\t<tr><th></th><th scope=col>date</th><th scope=col>date_block_num</th><th scope=col>shop_id</th><th scope=col>item_id</th><th scope=col>item_price</th><th scope=col>item_cnt_day</th></tr>\n",
       "\t<tr><th></th><th scope=col>&lt;chr&gt;</th><th scope=col>&lt;int&gt;</th><th scope=col>&lt;int&gt;</th><th scope=col>&lt;int&gt;</th><th scope=col>&lt;dbl&gt;</th><th scope=col>&lt;dbl&gt;</th></tr>\n",
       "</thead>\n",
       "<tbody>\n",
       "\t<tr><th scope=row>1</th><td>02.01.2013</td><td>0</td><td>59</td><td>22154</td><td> 999.00</td><td> 1</td></tr>\n",
       "\t<tr><th scope=row>2</th><td>03.01.2013</td><td>0</td><td>25</td><td> 2552</td><td> 899.00</td><td> 1</td></tr>\n",
       "\t<tr><th scope=row>3</th><td>05.01.2013</td><td>0</td><td>25</td><td> 2552</td><td> 899.00</td><td>-1</td></tr>\n",
       "\t<tr><th scope=row>4</th><td>06.01.2013</td><td>0</td><td>25</td><td> 2554</td><td>1709.05</td><td> 1</td></tr>\n",
       "\t<tr><th scope=row>5</th><td>15.01.2013</td><td>0</td><td>25</td><td> 2555</td><td>1099.00</td><td> 1</td></tr>\n",
       "\t<tr><th scope=row>6</th><td>10.01.2013</td><td>0</td><td>25</td><td> 2564</td><td> 349.00</td><td> 1</td></tr>\n",
       "</tbody>\n",
       "</table>\n"
      ],
      "text/latex": [
       "A data.frame: 6 × 6\n",
       "\\begin{tabular}{r|llllll}\n",
       "  & date & date\\_block\\_num & shop\\_id & item\\_id & item\\_price & item\\_cnt\\_day\\\\\n",
       "  & <chr> & <int> & <int> & <int> & <dbl> & <dbl>\\\\\n",
       "\\hline\n",
       "\t1 & 02.01.2013 & 0 & 59 & 22154 &  999.00 &  1\\\\\n",
       "\t2 & 03.01.2013 & 0 & 25 &  2552 &  899.00 &  1\\\\\n",
       "\t3 & 05.01.2013 & 0 & 25 &  2552 &  899.00 & -1\\\\\n",
       "\t4 & 06.01.2013 & 0 & 25 &  2554 & 1709.05 &  1\\\\\n",
       "\t5 & 15.01.2013 & 0 & 25 &  2555 & 1099.00 &  1\\\\\n",
       "\t6 & 10.01.2013 & 0 & 25 &  2564 &  349.00 &  1\\\\\n",
       "\\end{tabular}\n"
      ],
      "text/markdown": [
       "\n",
       "A data.frame: 6 × 6\n",
       "\n",
       "| <!--/--> | date &lt;chr&gt; | date_block_num &lt;int&gt; | shop_id &lt;int&gt; | item_id &lt;int&gt; | item_price &lt;dbl&gt; | item_cnt_day &lt;dbl&gt; |\n",
       "|---|---|---|---|---|---|---|\n",
       "| 1 | 02.01.2013 | 0 | 59 | 22154 |  999.00 |  1 |\n",
       "| 2 | 03.01.2013 | 0 | 25 |  2552 |  899.00 |  1 |\n",
       "| 3 | 05.01.2013 | 0 | 25 |  2552 |  899.00 | -1 |\n",
       "| 4 | 06.01.2013 | 0 | 25 |  2554 | 1709.05 |  1 |\n",
       "| 5 | 15.01.2013 | 0 | 25 |  2555 | 1099.00 |  1 |\n",
       "| 6 | 10.01.2013 | 0 | 25 |  2564 |  349.00 |  1 |\n",
       "\n"
      ],
      "text/plain": [
       "  date       date_block_num shop_id item_id item_price item_cnt_day\n",
       "1 02.01.2013 0              59      22154    999.00     1          \n",
       "2 03.01.2013 0              25       2552    899.00     1          \n",
       "3 05.01.2013 0              25       2552    899.00    -1          \n",
       "4 06.01.2013 0              25       2554   1709.05     1          \n",
       "5 15.01.2013 0              25       2555   1099.00     1          \n",
       "6 10.01.2013 0              25       2564    349.00     1          "
      ]
     },
     "metadata": {},
     "output_type": "display_data"
    }
   ],
   "source": [
    "sales_train = read.csv(\"sales_train.csv\")\n",
    "nrow(sales_train)\n",
    "head(sales_train)"
   ]
  },
  {
   "cell_type": "markdown",
   "id": "4fb86be6",
   "metadata": {},
   "source": [
    "Let's see how the test set looks like:"
   ]
  },
  {
   "cell_type": "code",
   "execution_count": 3,
   "id": "0c3b4620",
   "metadata": {},
   "outputs": [
    {
     "data": {
      "text/html": [
       "214200"
      ],
      "text/latex": [
       "214200"
      ],
      "text/markdown": [
       "214200"
      ],
      "text/plain": [
       "[1] 214200"
      ]
     },
     "metadata": {},
     "output_type": "display_data"
    },
    {
     "data": {
      "text/html": [
       "<table class=\"dataframe\">\n",
       "<caption>A data.frame: 6 × 3</caption>\n",
       "<thead>\n",
       "\t<tr><th></th><th scope=col>ID</th><th scope=col>shop_id</th><th scope=col>item_id</th></tr>\n",
       "\t<tr><th></th><th scope=col>&lt;int&gt;</th><th scope=col>&lt;int&gt;</th><th scope=col>&lt;int&gt;</th></tr>\n",
       "</thead>\n",
       "<tbody>\n",
       "\t<tr><th scope=row>1</th><td>0</td><td>5</td><td>5037</td></tr>\n",
       "\t<tr><th scope=row>2</th><td>1</td><td>5</td><td>5320</td></tr>\n",
       "\t<tr><th scope=row>3</th><td>2</td><td>5</td><td>5233</td></tr>\n",
       "\t<tr><th scope=row>4</th><td>3</td><td>5</td><td>5232</td></tr>\n",
       "\t<tr><th scope=row>5</th><td>4</td><td>5</td><td>5268</td></tr>\n",
       "\t<tr><th scope=row>6</th><td>5</td><td>5</td><td>5039</td></tr>\n",
       "</tbody>\n",
       "</table>\n"
      ],
      "text/latex": [
       "A data.frame: 6 × 3\n",
       "\\begin{tabular}{r|lll}\n",
       "  & ID & shop\\_id & item\\_id\\\\\n",
       "  & <int> & <int> & <int>\\\\\n",
       "\\hline\n",
       "\t1 & 0 & 5 & 5037\\\\\n",
       "\t2 & 1 & 5 & 5320\\\\\n",
       "\t3 & 2 & 5 & 5233\\\\\n",
       "\t4 & 3 & 5 & 5232\\\\\n",
       "\t5 & 4 & 5 & 5268\\\\\n",
       "\t6 & 5 & 5 & 5039\\\\\n",
       "\\end{tabular}\n"
      ],
      "text/markdown": [
       "\n",
       "A data.frame: 6 × 3\n",
       "\n",
       "| <!--/--> | ID &lt;int&gt; | shop_id &lt;int&gt; | item_id &lt;int&gt; |\n",
       "|---|---|---|---|\n",
       "| 1 | 0 | 5 | 5037 |\n",
       "| 2 | 1 | 5 | 5320 |\n",
       "| 3 | 2 | 5 | 5233 |\n",
       "| 4 | 3 | 5 | 5232 |\n",
       "| 5 | 4 | 5 | 5268 |\n",
       "| 6 | 5 | 5 | 5039 |\n",
       "\n"
      ],
      "text/plain": [
       "  ID shop_id item_id\n",
       "1 0  5       5037   \n",
       "2 1  5       5320   \n",
       "3 2  5       5233   \n",
       "4 3  5       5232   \n",
       "5 4  5       5268   \n",
       "6 5  5       5039   "
      ]
     },
     "metadata": {},
     "output_type": "display_data"
    }
   ],
   "source": [
    "sales_test = read.csv(\"test.csv\")\n",
    "nrow(sales_test)\n",
    "head(sales_test)"
   ]
  },
  {
   "cell_type": "markdown",
   "id": "d9f4c472",
   "metadata": {},
   "source": [
    "We have less information on test set than we have on train. Let's check how the \"domain\" tables (shops.csv and items.csv) look like. Let's start with shop:"
   ]
  },
  {
   "cell_type": "code",
   "execution_count": 4,
   "id": "948f7db1",
   "metadata": {},
   "outputs": [
    {
     "data": {
      "text/html": [
       "<table class=\"dataframe\">\n",
       "<caption>A data.frame: 6 × 2</caption>\n",
       "<thead>\n",
       "\t<tr><th></th><th scope=col>shop_name</th><th scope=col>shop_id</th></tr>\n",
       "\t<tr><th></th><th scope=col>&lt;chr&gt;</th><th scope=col>&lt;int&gt;</th></tr>\n",
       "</thead>\n",
       "<tbody>\n",
       "\t<tr><th scope=row>1</th><td>!Ð¯ÐºÑƒÑ‚ÑÐº ÐžÑ€Ð´Ð¶Ð¾Ð½Ð¸ÐºÐ¸Ð´Ð·Ðµ, 56 Ñ„Ñ€Ð°Ð½    </td><td>0</td></tr>\n",
       "\t<tr><th scope=row>2</th><td>!Ð¯ÐºÑƒÑ‚ÑÐº Ð¢Ð¦ \"Ð¦ÐµÐ½Ñ‚Ñ€Ð°Ð»ÑŒÐ½Ñ‹Ð¹\" Ñ„Ñ€Ð°Ð½   </td><td>1</td></tr>\n",
       "\t<tr><th scope=row>3</th><td>ÐÐ´Ñ‹Ð³ÐµÑ Ð¢Ð¦ \"ÐœÐµÐ³Ð°\"                           </td><td>2</td></tr>\n",
       "\t<tr><th scope=row>4</th><td>Ð‘Ð°Ð»Ð°ÑˆÐ¸Ñ…Ð° Ð¢Ð Ðš \"ÐžÐºÑ‚ÑÐ±Ñ€ÑŒ-ÐšÐ¸Ð½Ð¾Ð¼Ð¸Ñ€\"</td><td>3</td></tr>\n",
       "\t<tr><th scope=row>5</th><td>Ð’Ð¾Ð»Ð¶ÑÐºÐ¸Ð¹ Ð¢Ð¦ \"Ð’Ð¾Ð»Ð³Ð° ÐœÐ¾Ð»Ð»\"            </td><td>4</td></tr>\n",
       "\t<tr><th scope=row>6</th><td>Ð’Ð¾Ð»Ð¾Ð³Ð´Ð° Ð¢Ð Ð¦ \"ÐœÐ°Ñ€Ð¼ÐµÐ»Ð°Ð´\"               </td><td>5</td></tr>\n",
       "</tbody>\n",
       "</table>\n"
      ],
      "text/latex": [
       "A data.frame: 6 × 2\n",
       "\\begin{tabular}{r|ll}\n",
       "  & shop\\_name & shop\\_id\\\\\n",
       "  & <chr> & <int>\\\\\n",
       "\\hline\n",
       "\t1 & !Ð¯ÐºÑƒÑ‚ÑÐº ÐžÑ€Ð´Ð¶Ð¾Ð½Ð¸ÐºÐ¸Ð´Ð·Ðµ, 56 Ñ„Ñ€Ð°Ð½     & 0\\\\\n",
       "\t2 & !Ð¯ÐºÑƒÑ‚ÑÐº Ð¢Ð¦ \"Ð¦ÐµÐ½Ñ‚Ñ€Ð°Ð»ÑŒÐ½Ñ‹Ð¹\" Ñ„Ñ€Ð°Ð½    & 1\\\\\n",
       "\t3 & ÐÐ´Ñ‹Ð³ÐµÑ Ð¢Ð¦ \"ÐœÐµÐ³Ð°\"                            & 2\\\\\n",
       "\t4 & Ð‘Ð°Ð»Ð°ÑˆÐ¸Ñ…Ð° Ð¢Ð Ðš \"ÐžÐºÑ‚ÑÐ±Ñ€ÑŒ-ÐšÐ¸Ð½Ð¾Ð¼Ð¸Ñ€\" & 3\\\\\n",
       "\t5 & Ð’Ð¾Ð»Ð¶ÑÐºÐ¸Ð¹ Ð¢Ð¦ \"Ð’Ð¾Ð»Ð³Ð° ÐœÐ¾Ð»Ð»\"             & 4\\\\\n",
       "\t6 & Ð’Ð¾Ð»Ð¾Ð³Ð´Ð° Ð¢Ð Ð¦ \"ÐœÐ°Ñ€Ð¼ÐµÐ»Ð°Ð´\"                & 5\\\\\n",
       "\\end{tabular}\n"
      ],
      "text/markdown": [
       "\n",
       "A data.frame: 6 × 2\n",
       "\n",
       "| <!--/--> | shop_name &lt;chr&gt; | shop_id &lt;int&gt; |\n",
       "|---|---|---|\n",
       "| 1 | !Ð¯ÐºÑƒÑ‚ÑÐº ÐžÑ€Ð´Ð¶Ð¾Ð½Ð¸ÐºÐ¸Ð´Ð·Ðµ, 56 Ñ„Ñ€Ð°Ð½     | 0 |\n",
       "| 2 | !Ð¯ÐºÑƒÑ‚ÑÐº Ð¢Ð¦ \"Ð¦ÐµÐ½Ñ‚Ñ€Ð°Ð»ÑŒÐ½Ñ‹Ð¹\" Ñ„Ñ€Ð°Ð½    | 1 |\n",
       "| 3 | ÐÐ´Ñ‹Ð³ÐµÑ Ð¢Ð¦ \"ÐœÐµÐ³Ð°\"                            | 2 |\n",
       "| 4 | Ð‘Ð°Ð»Ð°ÑˆÐ¸Ñ…Ð° Ð¢Ð Ðš \"ÐžÐºÑ‚ÑÐ±Ñ€ÑŒ-ÐšÐ¸Ð½Ð¾Ð¼Ð¸Ñ€\" | 3 |\n",
       "| 5 | Ð’Ð¾Ð»Ð¶ÑÐºÐ¸Ð¹ Ð¢Ð¦ \"Ð’Ð¾Ð»Ð³Ð° ÐœÐ¾Ð»Ð»\"             | 4 |\n",
       "| 6 | Ð’Ð¾Ð»Ð¾Ð³Ð´Ð° Ð¢Ð Ð¦ \"ÐœÐ°Ñ€Ð¼ÐµÐ»Ð°Ð´\"                | 5 |\n",
       "\n"
      ],
      "text/plain": [
       "  shop_name                                               shop_id\n",
       "1 !Ð¯ÐºÑƒÑ‚Ñ\\201Ðº ÐžÑ\\200Ð´Ð¶Ð¾Ð½Ð¸ÐºÐ¸Ð´Ð·Ðµ, 56 Ñ„Ñ\\200Ð°Ð½     0      \n",
       "2 !Ð¯ÐºÑƒÑ‚Ñ\\201Ðº Ð¢Ð¦ \"Ð¦ÐµÐ½Ñ‚Ñ\\200Ð°Ð»ÑŒÐ½Ñ‹Ð¹\" Ñ„Ñ\\200Ð°Ð½    1      \n",
       "3 Ð\\220Ð´Ñ‹Ð³ÐµÑ\\217 Ð¢Ð¦ \"ÐœÐµÐ³Ð°\"                            2      \n",
       "4 Ð‘Ð°Ð»Ð°Ñ\\210Ð¸Ñ…Ð° Ð¢Ð Ðš \"ÐžÐºÑ‚Ñ\\217Ð±Ñ\\200ÑŒ-ÐšÐ¸Ð½Ð¾Ð¼Ð¸Ñ\\200\" 3      \n",
       "5 Ð’Ð¾Ð»Ð¶Ñ\\201ÐºÐ¸Ð¹ Ð¢Ð¦ \"Ð’Ð¾Ð»Ð³Ð° ÐœÐ¾Ð»Ð»\"             4      \n",
       "6 Ð’Ð¾Ð»Ð¾Ð³Ð´Ð° Ð¢Ð Ð¦ \"ÐœÐ°Ñ\\200Ð¼ÐµÐ»Ð°Ð´\"                5      "
      ]
     },
     "metadata": {},
     "output_type": "display_data"
    }
   ],
   "source": [
    "shops = read.csv(\"shops.csv\")\n",
    "head(shops)"
   ]
  },
  {
   "cell_type": "markdown",
   "id": "2aff4140",
   "metadata": {},
   "source": [
    "Not much information from it, as we already have a shop id, which reflects the different categories for this feature, we do not need to worry about the shop name, so, we won't be using this table. Let's now check items.csv:"
   ]
  },
  {
   "cell_type": "code",
   "execution_count": 5,
   "id": "44f24316",
   "metadata": {},
   "outputs": [
    {
     "data": {
      "text/html": [
       "<table class=\"dataframe\">\n",
       "<caption>A data.frame: 6 × 3</caption>\n",
       "<thead>\n",
       "\t<tr><th></th><th scope=col>item_name</th><th scope=col>item_id</th><th scope=col>item_category_id</th></tr>\n",
       "\t<tr><th></th><th scope=col>&lt;chr&gt;</th><th scope=col>&lt;int&gt;</th><th scope=col>&lt;int&gt;</th></tr>\n",
       "</thead>\n",
       "<tbody>\n",
       "\t<tr><th scope=row>1</th><td>! Ð’Ðž Ð’Ð›ÐÐ¡Ð¢Ð˜ ÐÐÐ’ÐÐ–Ð”Ð•ÐÐ˜Ð¯ (ÐŸÐ›ÐÐ¡Ð¢.)         D                  </td><td>0</td><td>40</td></tr>\n",
       "\t<tr><th scope=row>2</th><td>!ABBYY FineReader 12 Professional Edition Full [PC, Ð¦Ð¸Ñ„Ñ€Ð¾Ð²Ð°Ñ Ð²ÐµÑ€ÑÐ¸Ñ]</td><td>1</td><td>76</td></tr>\n",
       "\t<tr><th scope=row>3</th><td>***Ð’ Ð›Ð£Ð§ÐÐ¥ Ð¡Ð›ÐÐ’Ð«   (UNV)                    D                          </td><td>2</td><td>40</td></tr>\n",
       "\t<tr><th scope=row>4</th><td>***Ð“ÐžÐ›Ð£Ð‘ÐÐ¯ Ð’ÐžÐ›ÐÐ  (Univ)                      D                       </td><td>3</td><td>40</td></tr>\n",
       "\t<tr><th scope=row>5</th><td>***ÐšÐžÐ ÐžÐ‘ÐšÐ (Ð¡Ð¢Ð•ÐšÐ›Ðž)                       D                          </td><td>4</td><td>40</td></tr>\n",
       "\t<tr><th scope=row>6</th><td>***ÐÐžÐ’Ð«Ð• ÐÐœÐ•Ð Ð˜ÐšÐÐÐ¡ÐšÐ˜Ð• Ð“Ð ÐÐ¤Ð¤Ð˜Ð¢Ð˜  (UNI)             D      </td><td>5</td><td>40</td></tr>\n",
       "</tbody>\n",
       "</table>\n"
      ],
      "text/latex": [
       "A data.frame: 6 × 3\n",
       "\\begin{tabular}{r|lll}\n",
       "  & item\\_name & item\\_id & item\\_category\\_id\\\\\n",
       "  & <chr> & <int> & <int>\\\\\n",
       "\\hline\n",
       "\t1 & ! Ð’Ðž Ð’Ð›ÐÐ¡Ð¢Ð˜ ÐÐÐ’ÐÐ–Ð”Ð•ÐÐ˜Ð¯ (ÐŸÐ›ÐÐ¡Ð¢.)         D                   & 0 & 40\\\\\n",
       "\t2 & !ABBYY FineReader 12 Professional Edition Full {[}PC, Ð¦Ð¸Ñ„Ñ€Ð¾Ð²Ð°Ñ Ð²ÐµÑ€ÑÐ¸Ñ{]} & 1 & 76\\\\\n",
       "\t3 & ***Ð’ Ð›Ð£Ð§ÐÐ¥ Ð¡Ð›ÐÐ’Ð«   (UNV)                    D                           & 2 & 40\\\\\n",
       "\t4 & ***Ð“ÐžÐ›Ð£Ð‘ÐÐ¯ Ð’ÐžÐ›ÐÐ  (Univ)                      D                        & 3 & 40\\\\\n",
       "\t5 & ***ÐšÐžÐ ÐžÐ‘ÐšÐ (Ð¡Ð¢Ð•ÐšÐ›Ðž)                       D                           & 4 & 40\\\\\n",
       "\t6 & ***ÐÐžÐ’Ð«Ð• ÐÐœÐ•Ð Ð˜ÐšÐÐÐ¡ÐšÐ˜Ð• Ð“Ð ÐÐ¤Ð¤Ð˜Ð¢Ð˜  (UNI)             D       & 5 & 40\\\\\n",
       "\\end{tabular}\n"
      ],
      "text/markdown": [
       "\n",
       "A data.frame: 6 × 3\n",
       "\n",
       "| <!--/--> | item_name &lt;chr&gt; | item_id &lt;int&gt; | item_category_id &lt;int&gt; |\n",
       "|---|---|---|---|\n",
       "| 1 | ! Ð’Ðž Ð’Ð›ÐÐ¡Ð¢Ð˜ ÐÐÐ’ÐÐ–Ð”Ð•ÐÐ˜Ð¯ (ÐŸÐ›ÐÐ¡Ð¢.)         D                   | 0 | 40 |\n",
       "| 2 | !ABBYY FineReader 12 Professional Edition Full [PC, Ð¦Ð¸Ñ„Ñ€Ð¾Ð²Ð°Ñ Ð²ÐµÑ€ÑÐ¸Ñ] | 1 | 76 |\n",
       "| 3 | ***Ð’ Ð›Ð£Ð§ÐÐ¥ Ð¡Ð›ÐÐ’Ð«   (UNV)                    D                           | 2 | 40 |\n",
       "| 4 | ***Ð“ÐžÐ›Ð£Ð‘ÐÐ¯ Ð’ÐžÐ›ÐÐ  (Univ)                      D                        | 3 | 40 |\n",
       "| 5 | ***ÐšÐžÐ ÐžÐ‘ÐšÐ (Ð¡Ð¢Ð•ÐšÐ›Ðž)                       D                           | 4 | 40 |\n",
       "| 6 | ***ÐÐžÐ’Ð«Ð• ÐÐœÐ•Ð Ð˜ÐšÐÐÐ¡ÐšÐ˜Ð• Ð“Ð ÐÐ¤Ð¤Ð˜Ð¢Ð˜  (UNI)             D       | 5 | 40 |\n",
       "\n"
      ],
      "text/plain": [
       "  item_name                                                                         \n",
       "1 ! Ð’Ðž Ð’Ð›Ð\\220Ð¡Ð¢Ð\\230 Ð\\235Ð\\220Ð’Ð\\220Ð–Ð”Ð•Ð\\235Ð\\230Ð¯ (ÐŸÐ›Ð\\220Ð¡Ð¢.)         D                  \n",
       "2 !ABBYY FineReader 12 Professional Edition Full [PC, Ð¦Ð¸Ñ„Ñ\\200Ð¾Ð²Ð°Ñ\\217 Ð²ÐµÑ\\200Ñ\\201Ð¸Ñ\\217]\n",
       "3 ***Ð’ Ð›Ð£Ð§Ð\\220Ð¥ Ð¡Ð›Ð\\220Ð’Ð«   (UNV)                    D                          \n",
       "4 ***Ð“ÐžÐ›Ð£Ð‘Ð\\220Ð¯ Ð’ÐžÐ›Ð\\235Ð\\220  (Univ)                      D                       \n",
       "5 ***ÐšÐžÐ ÐžÐ‘ÐšÐ\\220 (Ð¡Ð¢Ð•ÐšÐ›Ðž)                       D                          \n",
       "6 ***Ð\\235ÐžÐ’Ð«Ð• Ð\\220ÐœÐ•Ð Ð\\230ÐšÐ\\220Ð\\235Ð¡ÐšÐ\\230Ð• Ð“Ð Ð\\220Ð¤Ð¤Ð\\230Ð¢Ð\\230  (UNI)             D      \n",
       "  item_id item_category_id\n",
       "1 0       40              \n",
       "2 1       76              \n",
       "3 2       40              \n",
       "4 3       40              \n",
       "5 4       40              \n",
       "6 5       40              "
      ]
     },
     "metadata": {},
     "output_type": "display_data"
    }
   ],
   "source": [
    "items = read.csv(\"items.csv\")\n",
    "head(items)"
   ]
  },
  {
   "cell_type": "markdown",
   "id": "056dd6fc",
   "metadata": {},
   "source": [
    "We have one additional information that may be useful, which is item_category_id. Let's just make sure we don't have duplicities on this table:"
   ]
  },
  {
   "cell_type": "code",
   "execution_count": 6,
   "id": "ca3f723d",
   "metadata": {},
   "outputs": [
    {
     "data": {
      "text/html": [
       "<table class=\"dataframe\">\n",
       "<caption>A data.frame: 0 × 2</caption>\n",
       "<thead>\n",
       "\t<tr><th scope=col>item_id</th><th scope=col>n</th></tr>\n",
       "\t<tr><th scope=col>&lt;int&gt;</th><th scope=col>&lt;int&gt;</th></tr>\n",
       "</thead>\n",
       "<tbody>\n",
       "</tbody>\n",
       "</table>\n"
      ],
      "text/latex": [
       "A data.frame: 0 × 2\n",
       "\\begin{tabular}{ll}\n",
       " item\\_id & n\\\\\n",
       " <int> & <int>\\\\\n",
       "\\hline\n",
       "\\end{tabular}\n"
      ],
      "text/markdown": [
       "\n",
       "A data.frame: 0 × 2\n",
       "\n",
       "| item_id &lt;int&gt; | n &lt;int&gt; |\n",
       "|---|---|\n",
       "\n"
      ],
      "text/plain": [
       "     item_id n"
      ]
     },
     "metadata": {},
     "output_type": "display_data"
    }
   ],
   "source": [
    "items %>% count(item_id) %>% arrange(desc(n)) %>% filter(n > 1)"
   ]
  },
  {
   "cell_type": "markdown",
   "id": "e1b60489",
   "metadata": {},
   "source": [
    "We don't have duplicities, so, we can use it to enhance our train set (and later our test set) with item_category_id: "
   ]
  },
  {
   "cell_type": "code",
   "execution_count": 7,
   "id": "1fb0482e",
   "metadata": {},
   "outputs": [
    {
     "data": {
      "text/html": [
       "2935849"
      ],
      "text/latex": [
       "2935849"
      ],
      "text/markdown": [
       "2935849"
      ],
      "text/plain": [
       "[1] 2935849"
      ]
     },
     "metadata": {},
     "output_type": "display_data"
    },
    {
     "data": {
      "text/html": [
       "2935849"
      ],
      "text/latex": [
       "2935849"
      ],
      "text/markdown": [
       "2935849"
      ],
      "text/plain": [
       "[1] 2935849"
      ]
     },
     "metadata": {},
     "output_type": "display_data"
    },
    {
     "data": {
      "text/html": [
       "<table class=\"dataframe\">\n",
       "<caption>A data.frame: 6 × 6</caption>\n",
       "<thead>\n",
       "\t<tr><th></th><th scope=col>date_block_num</th><th scope=col>shop_id</th><th scope=col>item_id</th><th scope=col>item_category_id</th><th scope=col>item_price</th><th scope=col>item_cnt_day</th></tr>\n",
       "\t<tr><th></th><th scope=col>&lt;int&gt;</th><th scope=col>&lt;int&gt;</th><th scope=col>&lt;int&gt;</th><th scope=col>&lt;int&gt;</th><th scope=col>&lt;dbl&gt;</th><th scope=col>&lt;dbl&gt;</th></tr>\n",
       "</thead>\n",
       "<tbody>\n",
       "\t<tr><th scope=row>1</th><td>0</td><td>59</td><td>22154</td><td>37</td><td> 999.00</td><td> 1</td></tr>\n",
       "\t<tr><th scope=row>2</th><td>0</td><td>25</td><td> 2552</td><td>58</td><td> 899.00</td><td> 1</td></tr>\n",
       "\t<tr><th scope=row>3</th><td>0</td><td>25</td><td> 2552</td><td>58</td><td> 899.00</td><td>-1</td></tr>\n",
       "\t<tr><th scope=row>4</th><td>0</td><td>25</td><td> 2554</td><td>58</td><td>1709.05</td><td> 1</td></tr>\n",
       "\t<tr><th scope=row>5</th><td>0</td><td>25</td><td> 2555</td><td>56</td><td>1099.00</td><td> 1</td></tr>\n",
       "\t<tr><th scope=row>6</th><td>0</td><td>25</td><td> 2564</td><td>59</td><td> 349.00</td><td> 1</td></tr>\n",
       "</tbody>\n",
       "</table>\n"
      ],
      "text/latex": [
       "A data.frame: 6 × 6\n",
       "\\begin{tabular}{r|llllll}\n",
       "  & date\\_block\\_num & shop\\_id & item\\_id & item\\_category\\_id & item\\_price & item\\_cnt\\_day\\\\\n",
       "  & <int> & <int> & <int> & <int> & <dbl> & <dbl>\\\\\n",
       "\\hline\n",
       "\t1 & 0 & 59 & 22154 & 37 &  999.00 &  1\\\\\n",
       "\t2 & 0 & 25 &  2552 & 58 &  899.00 &  1\\\\\n",
       "\t3 & 0 & 25 &  2552 & 58 &  899.00 & -1\\\\\n",
       "\t4 & 0 & 25 &  2554 & 58 & 1709.05 &  1\\\\\n",
       "\t5 & 0 & 25 &  2555 & 56 & 1099.00 &  1\\\\\n",
       "\t6 & 0 & 25 &  2564 & 59 &  349.00 &  1\\\\\n",
       "\\end{tabular}\n"
      ],
      "text/markdown": [
       "\n",
       "A data.frame: 6 × 6\n",
       "\n",
       "| <!--/--> | date_block_num &lt;int&gt; | shop_id &lt;int&gt; | item_id &lt;int&gt; | item_category_id &lt;int&gt; | item_price &lt;dbl&gt; | item_cnt_day &lt;dbl&gt; |\n",
       "|---|---|---|---|---|---|---|\n",
       "| 1 | 0 | 59 | 22154 | 37 |  999.00 |  1 |\n",
       "| 2 | 0 | 25 |  2552 | 58 |  899.00 |  1 |\n",
       "| 3 | 0 | 25 |  2552 | 58 |  899.00 | -1 |\n",
       "| 4 | 0 | 25 |  2554 | 58 | 1709.05 |  1 |\n",
       "| 5 | 0 | 25 |  2555 | 56 | 1099.00 |  1 |\n",
       "| 6 | 0 | 25 |  2564 | 59 |  349.00 |  1 |\n",
       "\n"
      ],
      "text/plain": [
       "  date_block_num shop_id item_id item_category_id item_price item_cnt_day\n",
       "1 0              59      22154   37                999.00     1          \n",
       "2 0              25       2552   58                899.00     1          \n",
       "3 0              25       2552   58                899.00    -1          \n",
       "4 0              25       2554   58               1709.05     1          \n",
       "5 0              25       2555   56               1099.00     1          \n",
       "6 0              25       2564   59                349.00     1          "
      ]
     },
     "metadata": {},
     "output_type": "display_data"
    }
   ],
   "source": [
    "nrow(sales_train)\n",
    "sales_train_enhanced = sales_train %>%\n",
    "    inner_join(items, by = \"item_id\") %>%\n",
    "    select(date_block_num, shop_id, item_id, item_category_id, item_price, item_cnt_day)\n",
    "nrow(sales_train_enhanced)\n",
    "head(sales_train_enhanced)"
   ]
  },
  {
   "cell_type": "markdown",
   "id": "0b5ad287",
   "metadata": {},
   "source": [
    "We can see above that we had exactly matches when joining and we didn't miss any product or sale. As stated on the challenge, that we should predict the product sales for the next month, we are going to group the sales per store, item and month (using date_block_num). \n",
    "\n",
    "But before that we are going to generate another column named total_price, which is the multiplication of item_price per item_cnt_day (it probably won't be used, but let's add anyway)\n",
    "\n",
    "Let's start with adding the new column \"total_price\":"
   ]
  },
  {
   "cell_type": "code",
   "execution_count": 8,
   "id": "7bb8f6ac",
   "metadata": {},
   "outputs": [
    {
     "data": {
      "text/html": [
       "<table class=\"dataframe\">\n",
       "<caption>A data.frame: 6 × 7</caption>\n",
       "<thead>\n",
       "\t<tr><th></th><th scope=col>date_block_num</th><th scope=col>shop_id</th><th scope=col>item_id</th><th scope=col>item_category_id</th><th scope=col>item_price</th><th scope=col>item_cnt_day</th><th scope=col>total_price</th></tr>\n",
       "\t<tr><th></th><th scope=col>&lt;int&gt;</th><th scope=col>&lt;int&gt;</th><th scope=col>&lt;int&gt;</th><th scope=col>&lt;int&gt;</th><th scope=col>&lt;dbl&gt;</th><th scope=col>&lt;dbl&gt;</th><th scope=col>&lt;dbl&gt;</th></tr>\n",
       "</thead>\n",
       "<tbody>\n",
       "\t<tr><th scope=row>1</th><td>0</td><td>59</td><td>22154</td><td>37</td><td> 999.00</td><td> 1</td><td> 999.00</td></tr>\n",
       "\t<tr><th scope=row>2</th><td>0</td><td>25</td><td> 2552</td><td>58</td><td> 899.00</td><td> 1</td><td> 899.00</td></tr>\n",
       "\t<tr><th scope=row>3</th><td>0</td><td>25</td><td> 2552</td><td>58</td><td> 899.00</td><td>-1</td><td>-899.00</td></tr>\n",
       "\t<tr><th scope=row>4</th><td>0</td><td>25</td><td> 2554</td><td>58</td><td>1709.05</td><td> 1</td><td>1709.05</td></tr>\n",
       "\t<tr><th scope=row>5</th><td>0</td><td>25</td><td> 2555</td><td>56</td><td>1099.00</td><td> 1</td><td>1099.00</td></tr>\n",
       "\t<tr><th scope=row>6</th><td>0</td><td>25</td><td> 2564</td><td>59</td><td> 349.00</td><td> 1</td><td> 349.00</td></tr>\n",
       "</tbody>\n",
       "</table>\n"
      ],
      "text/latex": [
       "A data.frame: 6 × 7\n",
       "\\begin{tabular}{r|lllllll}\n",
       "  & date\\_block\\_num & shop\\_id & item\\_id & item\\_category\\_id & item\\_price & item\\_cnt\\_day & total\\_price\\\\\n",
       "  & <int> & <int> & <int> & <int> & <dbl> & <dbl> & <dbl>\\\\\n",
       "\\hline\n",
       "\t1 & 0 & 59 & 22154 & 37 &  999.00 &  1 &  999.00\\\\\n",
       "\t2 & 0 & 25 &  2552 & 58 &  899.00 &  1 &  899.00\\\\\n",
       "\t3 & 0 & 25 &  2552 & 58 &  899.00 & -1 & -899.00\\\\\n",
       "\t4 & 0 & 25 &  2554 & 58 & 1709.05 &  1 & 1709.05\\\\\n",
       "\t5 & 0 & 25 &  2555 & 56 & 1099.00 &  1 & 1099.00\\\\\n",
       "\t6 & 0 & 25 &  2564 & 59 &  349.00 &  1 &  349.00\\\\\n",
       "\\end{tabular}\n"
      ],
      "text/markdown": [
       "\n",
       "A data.frame: 6 × 7\n",
       "\n",
       "| <!--/--> | date_block_num &lt;int&gt; | shop_id &lt;int&gt; | item_id &lt;int&gt; | item_category_id &lt;int&gt; | item_price &lt;dbl&gt; | item_cnt_day &lt;dbl&gt; | total_price &lt;dbl&gt; |\n",
       "|---|---|---|---|---|---|---|---|\n",
       "| 1 | 0 | 59 | 22154 | 37 |  999.00 |  1 |  999.00 |\n",
       "| 2 | 0 | 25 |  2552 | 58 |  899.00 |  1 |  899.00 |\n",
       "| 3 | 0 | 25 |  2552 | 58 |  899.00 | -1 | -899.00 |\n",
       "| 4 | 0 | 25 |  2554 | 58 | 1709.05 |  1 | 1709.05 |\n",
       "| 5 | 0 | 25 |  2555 | 56 | 1099.00 |  1 | 1099.00 |\n",
       "| 6 | 0 | 25 |  2564 | 59 |  349.00 |  1 |  349.00 |\n",
       "\n"
      ],
      "text/plain": [
       "  date_block_num shop_id item_id item_category_id item_price item_cnt_day\n",
       "1 0              59      22154   37                999.00     1          \n",
       "2 0              25       2552   58                899.00     1          \n",
       "3 0              25       2552   58                899.00    -1          \n",
       "4 0              25       2554   58               1709.05     1          \n",
       "5 0              25       2555   56               1099.00     1          \n",
       "6 0              25       2564   59                349.00     1          \n",
       "  total_price\n",
       "1  999.00    \n",
       "2  899.00    \n",
       "3 -899.00    \n",
       "4 1709.05    \n",
       "5 1099.00    \n",
       "6  349.00    "
      ]
     },
     "metadata": {},
     "output_type": "display_data"
    }
   ],
   "source": [
    "sales_train_enhanced = sales_train_enhanced %>%\n",
    "    mutate(total_price = item_price * item_cnt_day)\n",
    "head(sales_train_enhanced)"
   ]
  },
  {
   "cell_type": "markdown",
   "id": "c0b79f5f",
   "metadata": {},
   "source": [
    "Now, let's summarize the sales at month level:"
   ]
  },
  {
   "cell_type": "code",
   "execution_count": 9,
   "id": "4d1a496d",
   "metadata": {},
   "outputs": [
    {
     "name": "stderr",
     "output_type": "stream",
     "text": [
      "\u001b[1m\u001b[22m`summarise()` has grouped output by 'date_block_num', 'shop_id', 'item_id'. You can override using the `.groups`\n",
      "argument.\n"
     ]
    },
    {
     "data": {
      "text/html": [
       "<table class=\"dataframe\">\n",
       "<caption>A grouped_df: 6 × 6</caption>\n",
       "<thead>\n",
       "\t<tr><th scope=col>date_block_num</th><th scope=col>shop_id</th><th scope=col>item_id</th><th scope=col>item_category_id</th><th scope=col>item_cnt_month</th><th scope=col>total_price</th></tr>\n",
       "\t<tr><th scope=col>&lt;int&gt;</th><th scope=col>&lt;int&gt;</th><th scope=col>&lt;int&gt;</th><th scope=col>&lt;int&gt;</th><th scope=col>&lt;dbl&gt;</th><th scope=col>&lt;dbl&gt;</th></tr>\n",
       "</thead>\n",
       "<tbody>\n",
       "\t<tr><td>0</td><td>0</td><td>32</td><td>40</td><td>6</td><td>1326</td></tr>\n",
       "\t<tr><td>0</td><td>0</td><td>33</td><td>37</td><td>3</td><td>1041</td></tr>\n",
       "\t<tr><td>0</td><td>0</td><td>35</td><td>40</td><td>1</td><td> 247</td></tr>\n",
       "\t<tr><td>0</td><td>0</td><td>43</td><td>40</td><td>1</td><td> 221</td></tr>\n",
       "\t<tr><td>0</td><td>0</td><td>51</td><td>57</td><td>2</td><td> 257</td></tr>\n",
       "\t<tr><td>0</td><td>0</td><td>61</td><td>43</td><td>1</td><td> 195</td></tr>\n",
       "</tbody>\n",
       "</table>\n"
      ],
      "text/latex": [
       "A grouped\\_df: 6 × 6\n",
       "\\begin{tabular}{llllll}\n",
       " date\\_block\\_num & shop\\_id & item\\_id & item\\_category\\_id & item\\_cnt\\_month & total\\_price\\\\\n",
       " <int> & <int> & <int> & <int> & <dbl> & <dbl>\\\\\n",
       "\\hline\n",
       "\t 0 & 0 & 32 & 40 & 6 & 1326\\\\\n",
       "\t 0 & 0 & 33 & 37 & 3 & 1041\\\\\n",
       "\t 0 & 0 & 35 & 40 & 1 &  247\\\\\n",
       "\t 0 & 0 & 43 & 40 & 1 &  221\\\\\n",
       "\t 0 & 0 & 51 & 57 & 2 &  257\\\\\n",
       "\t 0 & 0 & 61 & 43 & 1 &  195\\\\\n",
       "\\end{tabular}\n"
      ],
      "text/markdown": [
       "\n",
       "A grouped_df: 6 × 6\n",
       "\n",
       "| date_block_num &lt;int&gt; | shop_id &lt;int&gt; | item_id &lt;int&gt; | item_category_id &lt;int&gt; | item_cnt_month &lt;dbl&gt; | total_price &lt;dbl&gt; |\n",
       "|---|---|---|---|---|---|\n",
       "| 0 | 0 | 32 | 40 | 6 | 1326 |\n",
       "| 0 | 0 | 33 | 37 | 3 | 1041 |\n",
       "| 0 | 0 | 35 | 40 | 1 |  247 |\n",
       "| 0 | 0 | 43 | 40 | 1 |  221 |\n",
       "| 0 | 0 | 51 | 57 | 2 |  257 |\n",
       "| 0 | 0 | 61 | 43 | 1 |  195 |\n",
       "\n"
      ],
      "text/plain": [
       "  date_block_num shop_id item_id item_category_id item_cnt_month total_price\n",
       "1 0              0       32      40               6              1326       \n",
       "2 0              0       33      37               3              1041       \n",
       "3 0              0       35      40               1               247       \n",
       "4 0              0       43      40               1               221       \n",
       "5 0              0       51      57               2               257       \n",
       "6 0              0       61      43               1               195       "
      ]
     },
     "metadata": {},
     "output_type": "display_data"
    }
   ],
   "source": [
    "sales_train_enhanced = sales_train_enhanced %>%\n",
    "    group_by(date_block_num, shop_id, item_id, item_category_id) %>%\n",
    "    summarize(\n",
    "        item_cnt_month = sum(item_cnt_day), \n",
    "        total_price = sum(total_price))\n",
    "head(sales_train_enhanced)"
   ]
  },
  {
   "cell_type": "markdown",
   "id": "f1ffa51b",
   "metadata": {},
   "source": [
    "As we the goal is to predict a continuous value, we will start working with Linear Regression model. As shop_id, item_id and item_category_id are categorical features, and not really numeric ones, the rule of thumb would be \"encode\" them as numeric columns indicating if that feature is available or not for the case (one hot encoding). \n",
    "\n",
    "But before that, let's \"play\" with regression using those features as they are (as if they were numeric variables)"
   ]
  },
  {
   "cell_type": "markdown",
   "id": "9b1b96a8",
   "metadata": {},
   "source": [
    "## 1st attempt: simple linear regression model using categorical variables as numeric"
   ]
  },
  {
   "cell_type": "code",
   "execution_count": 10,
   "id": "27d9e30f",
   "metadata": {},
   "outputs": [
    {
     "data": {
      "text/plain": [
       "\n",
       "Call:\n",
       "lm(formula = item_cnt_month ~ date_block_num + shop_id + item_id + \n",
       "    item_category_id, data = sales_train_enhanced)\n",
       "\n",
       "Residuals:\n",
       "    Min      1Q  Median      3Q     Max \n",
       " -24.09   -1.27   -1.16   -0.24 2250.46 \n",
       "\n",
       "Coefficients:\n",
       "                     Estimate   Std. Error t value             Pr(>|t|)    \n",
       "(Intercept)       2.633243865  0.025758473 102.228 < 0.0000000000000002 ***\n",
       "date_block_num    0.002405658  0.000714768   3.366             0.000764 ***\n",
       "shop_id           0.000379968  0.000412574   0.921             0.357066    \n",
       "item_id          -0.000009407  0.000001144  -8.220 < 0.0000000000000002 ***\n",
       "item_category_id -0.007542083  0.000437428 -17.242 < 0.0000000000000002 ***\n",
       "---\n",
       "Signif. codes:  0 '***' 0.001 '**' 0.01 '*' 0.05 '.' 0.1 ' ' 1\n",
       "\n",
       "Residual standard error: 8.649 on 1609119 degrees of freedom\n",
       "Multiple R-squared:  0.000312,\tAdjusted R-squared:  0.0003095 \n",
       "F-statistic: 125.5 on 4 and 1609119 DF,  p-value: < 0.00000000000000022\n"
      ]
     },
     "metadata": {},
     "output_type": "display_data"
    }
   ],
   "source": [
    "first_attempt = lm(item_cnt_month ~ date_block_num + shop_id + item_id + item_category_id, sales_train_enhanced)\n",
    "summary(first_attempt)"
   ]
  },
  {
   "cell_type": "markdown",
   "id": "a2c185fe",
   "metadata": {},
   "source": [
    "Before using the trained model to predict our test dataset, we need to apply the same transformations we have applied to our train set. Mainly we will need to add date_block_num (the next month, thus, the max of date_block_num + 1) and add the item_category_id."
   ]
  },
  {
   "cell_type": "code",
   "execution_count": 11,
   "id": "dc75af96",
   "metadata": {},
   "outputs": [
    {
     "data": {
      "text/html": [
       "<table class=\"dataframe\">\n",
       "<caption>A data.frame: 6 × 5</caption>\n",
       "<thead>\n",
       "\t<tr><th></th><th scope=col>ID</th><th scope=col>date_block_num</th><th scope=col>shop_id</th><th scope=col>item_id</th><th scope=col>item_category_id</th></tr>\n",
       "\t<tr><th></th><th scope=col>&lt;int&gt;</th><th scope=col>&lt;dbl&gt;</th><th scope=col>&lt;int&gt;</th><th scope=col>&lt;int&gt;</th><th scope=col>&lt;int&gt;</th></tr>\n",
       "</thead>\n",
       "<tbody>\n",
       "\t<tr><th scope=row>1</th><td>0</td><td>34</td><td>5</td><td>5037</td><td>19</td></tr>\n",
       "\t<tr><th scope=row>2</th><td>1</td><td>34</td><td>5</td><td>5320</td><td>55</td></tr>\n",
       "\t<tr><th scope=row>3</th><td>2</td><td>34</td><td>5</td><td>5233</td><td>19</td></tr>\n",
       "\t<tr><th scope=row>4</th><td>3</td><td>34</td><td>5</td><td>5232</td><td>23</td></tr>\n",
       "\t<tr><th scope=row>5</th><td>4</td><td>34</td><td>5</td><td>5268</td><td>20</td></tr>\n",
       "\t<tr><th scope=row>6</th><td>5</td><td>34</td><td>5</td><td>5039</td><td>23</td></tr>\n",
       "</tbody>\n",
       "</table>\n"
      ],
      "text/latex": [
       "A data.frame: 6 × 5\n",
       "\\begin{tabular}{r|lllll}\n",
       "  & ID & date\\_block\\_num & shop\\_id & item\\_id & item\\_category\\_id\\\\\n",
       "  & <int> & <dbl> & <int> & <int> & <int>\\\\\n",
       "\\hline\n",
       "\t1 & 0 & 34 & 5 & 5037 & 19\\\\\n",
       "\t2 & 1 & 34 & 5 & 5320 & 55\\\\\n",
       "\t3 & 2 & 34 & 5 & 5233 & 19\\\\\n",
       "\t4 & 3 & 34 & 5 & 5232 & 23\\\\\n",
       "\t5 & 4 & 34 & 5 & 5268 & 20\\\\\n",
       "\t6 & 5 & 34 & 5 & 5039 & 23\\\\\n",
       "\\end{tabular}\n"
      ],
      "text/markdown": [
       "\n",
       "A data.frame: 6 × 5\n",
       "\n",
       "| <!--/--> | ID &lt;int&gt; | date_block_num &lt;dbl&gt; | shop_id &lt;int&gt; | item_id &lt;int&gt; | item_category_id &lt;int&gt; |\n",
       "|---|---|---|---|---|---|\n",
       "| 1 | 0 | 34 | 5 | 5037 | 19 |\n",
       "| 2 | 1 | 34 | 5 | 5320 | 55 |\n",
       "| 3 | 2 | 34 | 5 | 5233 | 19 |\n",
       "| 4 | 3 | 34 | 5 | 5232 | 23 |\n",
       "| 5 | 4 | 34 | 5 | 5268 | 20 |\n",
       "| 6 | 5 | 34 | 5 | 5039 | 23 |\n",
       "\n"
      ],
      "text/plain": [
       "  ID date_block_num shop_id item_id item_category_id\n",
       "1 0  34             5       5037    19              \n",
       "2 1  34             5       5320    55              \n",
       "3 2  34             5       5233    19              \n",
       "4 3  34             5       5232    23              \n",
       "5 4  34             5       5268    20              \n",
       "6 5  34             5       5039    23              "
      ]
     },
     "metadata": {},
     "output_type": "display_data"
    }
   ],
   "source": [
    "sales_test_1st_attempt = sales_test\n",
    "sales_test_1st_attempt$date_block_num = max(sales_train_enhanced$date_block_num) + 1\n",
    "sales_test_1st_attempt = sales_test_1st_attempt %>%\n",
    "    inner_join(items, by = \"item_id\") %>%\n",
    "    select(ID, date_block_num, shop_id, item_id, item_category_id)\n",
    "head(sales_test_1st_attempt)"
   ]
  },
  {
   "cell_type": "markdown",
   "id": "76792934",
   "metadata": {},
   "source": [
    "Now let's predict using the linear regression model generated"
   ]
  },
  {
   "cell_type": "code",
   "execution_count": 12,
   "id": "16763acf",
   "metadata": {},
   "outputs": [
    {
     "data": {
      "text/html": [
       "<table class=\"dataframe\">\n",
       "<caption>A data.frame: 6 × 6</caption>\n",
       "<thead>\n",
       "\t<tr><th></th><th scope=col>ID</th><th scope=col>date_block_num</th><th scope=col>shop_id</th><th scope=col>item_id</th><th scope=col>item_category_id</th><th scope=col>item_cnt_month</th></tr>\n",
       "\t<tr><th></th><th scope=col>&lt;int&gt;</th><th scope=col>&lt;dbl&gt;</th><th scope=col>&lt;int&gt;</th><th scope=col>&lt;int&gt;</th><th scope=col>&lt;int&gt;</th><th scope=col>&lt;dbl&gt;</th></tr>\n",
       "</thead>\n",
       "<tbody>\n",
       "\t<tr><th scope=row>1</th><td>0</td><td>34</td><td>5</td><td>5037</td><td>19</td><td>2.526254</td></tr>\n",
       "\t<tr><th scope=row>2</th><td>1</td><td>34</td><td>5</td><td>5320</td><td>55</td><td>2.252077</td></tr>\n",
       "\t<tr><th scope=row>3</th><td>2</td><td>34</td><td>5</td><td>5233</td><td>19</td><td>2.524410</td></tr>\n",
       "\t<tr><th scope=row>4</th><td>3</td><td>34</td><td>5</td><td>5232</td><td>23</td><td>2.494251</td></tr>\n",
       "\t<tr><th scope=row>5</th><td>4</td><td>34</td><td>5</td><td>5268</td><td>20</td><td>2.516539</td></tr>\n",
       "\t<tr><th scope=row>6</th><td>5</td><td>34</td><td>5</td><td>5039</td><td>23</td><td>2.496067</td></tr>\n",
       "</tbody>\n",
       "</table>\n"
      ],
      "text/latex": [
       "A data.frame: 6 × 6\n",
       "\\begin{tabular}{r|llllll}\n",
       "  & ID & date\\_block\\_num & shop\\_id & item\\_id & item\\_category\\_id & item\\_cnt\\_month\\\\\n",
       "  & <int> & <dbl> & <int> & <int> & <int> & <dbl>\\\\\n",
       "\\hline\n",
       "\t1 & 0 & 34 & 5 & 5037 & 19 & 2.526254\\\\\n",
       "\t2 & 1 & 34 & 5 & 5320 & 55 & 2.252077\\\\\n",
       "\t3 & 2 & 34 & 5 & 5233 & 19 & 2.524410\\\\\n",
       "\t4 & 3 & 34 & 5 & 5232 & 23 & 2.494251\\\\\n",
       "\t5 & 4 & 34 & 5 & 5268 & 20 & 2.516539\\\\\n",
       "\t6 & 5 & 34 & 5 & 5039 & 23 & 2.496067\\\\\n",
       "\\end{tabular}\n"
      ],
      "text/markdown": [
       "\n",
       "A data.frame: 6 × 6\n",
       "\n",
       "| <!--/--> | ID &lt;int&gt; | date_block_num &lt;dbl&gt; | shop_id &lt;int&gt; | item_id &lt;int&gt; | item_category_id &lt;int&gt; | item_cnt_month &lt;dbl&gt; |\n",
       "|---|---|---|---|---|---|---|\n",
       "| 1 | 0 | 34 | 5 | 5037 | 19 | 2.526254 |\n",
       "| 2 | 1 | 34 | 5 | 5320 | 55 | 2.252077 |\n",
       "| 3 | 2 | 34 | 5 | 5233 | 19 | 2.524410 |\n",
       "| 4 | 3 | 34 | 5 | 5232 | 23 | 2.494251 |\n",
       "| 5 | 4 | 34 | 5 | 5268 | 20 | 2.516539 |\n",
       "| 6 | 5 | 34 | 5 | 5039 | 23 | 2.496067 |\n",
       "\n"
      ],
      "text/plain": [
       "  ID date_block_num shop_id item_id item_category_id item_cnt_month\n",
       "1 0  34             5       5037    19               2.526254      \n",
       "2 1  34             5       5320    55               2.252077      \n",
       "3 2  34             5       5233    19               2.524410      \n",
       "4 3  34             5       5232    23               2.494251      \n",
       "5 4  34             5       5268    20               2.516539      \n",
       "6 5  34             5       5039    23               2.496067      "
      ]
     },
     "metadata": {},
     "output_type": "display_data"
    }
   ],
   "source": [
    "sales_test_1st_attempt = cbind(sales_test_1st_attempt, \n",
    "                               predict(first_attempt, sales_test_1st_attempt))\n",
    "colnames(sales_test_1st_attempt) = c(\"ID\", \"date_block_num\", \"shop_id\", \"item_id\", \"item_category_id\", \"item_cnt_month\")\n",
    "head(sales_test_1st_attempt)"
   ]
  },
  {
   "cell_type": "markdown",
   "id": "02f94890",
   "metadata": {},
   "source": [
    "Now, we create the submission file"
   ]
  },
  {
   "cell_type": "code",
   "execution_count": 13,
   "id": "4f459e1a",
   "metadata": {},
   "outputs": [],
   "source": [
    "write.csv(sales_test_1st_attempt[, c(\"ID\", \"item_cnt_month\")], \"1st_attempt.csv\", row.names = FALSE)"
   ]
  },
  {
   "attachments": {
    "image.png": {
     "image/png": "[encoded data removed]"
    }
   },
   "cell_type": "markdown",
   "id": "29acd4f6",
   "metadata": {},
   "source": [
    "As expected, this way of doing regression was not that accurate. After submitting the score was 2.330 and put us around position 13500 our of 14600\n",
    "\n",
    "![image.png](attachment:image.png)"
   ]
  },
  {
   "cell_type": "markdown",
   "id": "9f81a0fa",
   "metadata": {},
   "source": [
    "Let's now try to generate the prediction using XGBoost"
   ]
  },
  {
   "cell_type": "markdown",
   "id": "d73c038f",
   "metadata": {},
   "source": [
    "## 2nd attempt: XGBoost regression\n",
    "\n",
    "As XGBoost works with trees, we still don't need to encode our categorical variables. Let's start checking how it goes with basic setting and without twerking hyper-parameters. "
   ]
  },
  {
   "cell_type": "code",
   "execution_count": 14,
   "id": "7cba7ba9",
   "metadata": {},
   "outputs": [],
   "source": [
    "suppressMessages(suppressWarnings(require(xgboost)))"
   ]
  },
  {
   "cell_type": "code",
   "execution_count": 15,
   "id": "f3b32df9",
   "metadata": {},
   "outputs": [
    {
     "name": "stdout",
     "output_type": "stream",
     "text": [
      "##### xgb.Booster\n",
      "raw: 22.5 Kb \n",
      "call:\n",
      "  xgb.train(params = params, data = dtrain, nrounds = nrounds, \n",
      "    watchlist = watchlist, verbose = verbose, print_every_n = print_every_n, \n",
      "    early_stopping_rounds = early_stopping_rounds, maximize = maximize, \n",
      "    save_period = save_period, save_name = save_name, xgb_model = xgb_model, \n",
      "    callbacks = callbacks, max.depth = 1)\n",
      "params (as set within xgb.train):\n",
      "  max_depth = \"1\", validate_parameters = \"1\"\n",
      "xgb.attributes:\n",
      "  niter\n",
      "callbacks:\n",
      "  cb.evaluation.log()\n",
      "# of features: 4 \n",
      "niter: 25\n",
      "nfeatures : 4 \n",
      "evaluation_log:\n",
      "    iter train_rmse\n",
      "       1   8.725652\n",
      "       2   8.671492\n",
      "---                \n",
      "      24   8.545318\n",
      "      25   8.542213\n"
     ]
    }
   ],
   "source": [
    "sales_train_enhanced_2nd_attempt = data.frame(\n",
    "    sales_train_enhanced[, c(\"date_block_num\", \"shop_id\", \"item_id\", \"item_category_id\", \"item_cnt_month\")])\n",
    "train_x = data.matrix(sales_train_enhanced_2nd_attempt[, -5])\n",
    "train_y = sales_train_enhanced_2nd_attempt[, 5]\n",
    "\n",
    "xgb_train = xgb.DMatrix(data = train_x, label = train_y)\n",
    "xgbc = xgboost(data = xgb_train, max.depth = 1, nrounds = 25, verbose = 0)\n",
    "print(xgbc)"
   ]
  },
  {
   "cell_type": "markdown",
   "id": "8c7802f5",
   "metadata": {},
   "source": [
    "Now we prepare our test set, predict it and generate the file for submission"
   ]
  },
  {
   "cell_type": "code",
   "execution_count": 16,
   "id": "4ac477dd",
   "metadata": {},
   "outputs": [
    {
     "data": {
      "text/html": [
       "<table class=\"dataframe\">\n",
       "<caption>A data.frame: 6 × 5</caption>\n",
       "<thead>\n",
       "\t<tr><th></th><th scope=col>ID</th><th scope=col>date_block_num</th><th scope=col>shop_id</th><th scope=col>item_id</th><th scope=col>item_category_id</th></tr>\n",
       "\t<tr><th></th><th scope=col>&lt;int&gt;</th><th scope=col>&lt;dbl&gt;</th><th scope=col>&lt;int&gt;</th><th scope=col>&lt;int&gt;</th><th scope=col>&lt;int&gt;</th></tr>\n",
       "</thead>\n",
       "<tbody>\n",
       "\t<tr><th scope=row>1</th><td>0</td><td>34</td><td>5</td><td>5037</td><td>19</td></tr>\n",
       "\t<tr><th scope=row>2</th><td>1</td><td>34</td><td>5</td><td>5320</td><td>55</td></tr>\n",
       "\t<tr><th scope=row>3</th><td>2</td><td>34</td><td>5</td><td>5233</td><td>19</td></tr>\n",
       "\t<tr><th scope=row>4</th><td>3</td><td>34</td><td>5</td><td>5232</td><td>23</td></tr>\n",
       "\t<tr><th scope=row>5</th><td>4</td><td>34</td><td>5</td><td>5268</td><td>20</td></tr>\n",
       "\t<tr><th scope=row>6</th><td>5</td><td>34</td><td>5</td><td>5039</td><td>23</td></tr>\n",
       "</tbody>\n",
       "</table>\n"
      ],
      "text/latex": [
       "A data.frame: 6 × 5\n",
       "\\begin{tabular}{r|lllll}\n",
       "  & ID & date\\_block\\_num & shop\\_id & item\\_id & item\\_category\\_id\\\\\n",
       "  & <int> & <dbl> & <int> & <int> & <int>\\\\\n",
       "\\hline\n",
       "\t1 & 0 & 34 & 5 & 5037 & 19\\\\\n",
       "\t2 & 1 & 34 & 5 & 5320 & 55\\\\\n",
       "\t3 & 2 & 34 & 5 & 5233 & 19\\\\\n",
       "\t4 & 3 & 34 & 5 & 5232 & 23\\\\\n",
       "\t5 & 4 & 34 & 5 & 5268 & 20\\\\\n",
       "\t6 & 5 & 34 & 5 & 5039 & 23\\\\\n",
       "\\end{tabular}\n"
      ],
      "text/markdown": [
       "\n",
       "A data.frame: 6 × 5\n",
       "\n",
       "| <!--/--> | ID &lt;int&gt; | date_block_num &lt;dbl&gt; | shop_id &lt;int&gt; | item_id &lt;int&gt; | item_category_id &lt;int&gt; |\n",
       "|---|---|---|---|---|---|\n",
       "| 1 | 0 | 34 | 5 | 5037 | 19 |\n",
       "| 2 | 1 | 34 | 5 | 5320 | 55 |\n",
       "| 3 | 2 | 34 | 5 | 5233 | 19 |\n",
       "| 4 | 3 | 34 | 5 | 5232 | 23 |\n",
       "| 5 | 4 | 34 | 5 | 5268 | 20 |\n",
       "| 6 | 5 | 34 | 5 | 5039 | 23 |\n",
       "\n"
      ],
      "text/plain": [
       "  ID date_block_num shop_id item_id item_category_id\n",
       "1 0  34             5       5037    19              \n",
       "2 1  34             5       5320    55              \n",
       "3 2  34             5       5233    19              \n",
       "4 3  34             5       5232    23              \n",
       "5 4  34             5       5268    20              \n",
       "6 5  34             5       5039    23              "
      ]
     },
     "metadata": {},
     "output_type": "display_data"
    }
   ],
   "source": [
    "sales_test_2nd_attempt = sales_test\n",
    "sales_test_2nd_attempt$date_block_num = max(sales_train_enhanced$date_block_num) + 1\n",
    "sales_test_2nd_attempt = sales_test_2nd_attempt %>%\n",
    "    inner_join(items, by = \"item_id\") %>%\n",
    "    select(ID, date_block_num, shop_id, item_id, item_category_id)\n",
    "head(sales_test_2nd_attempt)"
   ]
  },
  {
   "cell_type": "code",
   "execution_count": 17,
   "id": "cf3c1f82",
   "metadata": {},
   "outputs": [],
   "source": [
    "test_x = data.matrix(sales_test_2nd_attempt[, -1])\n",
    "xgb_test = xgb.DMatrix(data = test_x)\n",
    "pred_y = predict(xgbc, xgb_test)"
   ]
  },
  {
   "cell_type": "code",
   "execution_count": 18,
   "id": "dfc1a4fd",
   "metadata": {},
   "outputs": [
    {
     "data": {
      "text/html": [
       "<table class=\"dataframe\">\n",
       "<caption>A data.frame: 6 × 6</caption>\n",
       "<thead>\n",
       "\t<tr><th></th><th scope=col>ID</th><th scope=col>date_block_num</th><th scope=col>shop_id</th><th scope=col>item_id</th><th scope=col>item_category_id</th><th scope=col>item_cnt_month</th></tr>\n",
       "\t<tr><th></th><th scope=col>&lt;int&gt;</th><th scope=col>&lt;dbl&gt;</th><th scope=col>&lt;int&gt;</th><th scope=col>&lt;int&gt;</th><th scope=col>&lt;int&gt;</th><th scope=col>&lt;dbl&gt;</th></tr>\n",
       "</thead>\n",
       "<tbody>\n",
       "\t<tr><th scope=row>1</th><td>0</td><td>34</td><td>5</td><td>5037</td><td>19</td><td>2.721828</td></tr>\n",
       "\t<tr><th scope=row>2</th><td>1</td><td>34</td><td>5</td><td>5320</td><td>55</td><td>1.860077</td></tr>\n",
       "\t<tr><th scope=row>3</th><td>2</td><td>34</td><td>5</td><td>5233</td><td>19</td><td>2.721828</td></tr>\n",
       "\t<tr><th scope=row>4</th><td>3</td><td>34</td><td>5</td><td>5232</td><td>23</td><td>2.721828</td></tr>\n",
       "\t<tr><th scope=row>5</th><td>4</td><td>34</td><td>5</td><td>5268</td><td>20</td><td>2.721828</td></tr>\n",
       "\t<tr><th scope=row>6</th><td>5</td><td>34</td><td>5</td><td>5039</td><td>23</td><td>2.721828</td></tr>\n",
       "</tbody>\n",
       "</table>\n"
      ],
      "text/latex": [
       "A data.frame: 6 × 6\n",
       "\\begin{tabular}{r|llllll}\n",
       "  & ID & date\\_block\\_num & shop\\_id & item\\_id & item\\_category\\_id & item\\_cnt\\_month\\\\\n",
       "  & <int> & <dbl> & <int> & <int> & <int> & <dbl>\\\\\n",
       "\\hline\n",
       "\t1 & 0 & 34 & 5 & 5037 & 19 & 2.721828\\\\\n",
       "\t2 & 1 & 34 & 5 & 5320 & 55 & 1.860077\\\\\n",
       "\t3 & 2 & 34 & 5 & 5233 & 19 & 2.721828\\\\\n",
       "\t4 & 3 & 34 & 5 & 5232 & 23 & 2.721828\\\\\n",
       "\t5 & 4 & 34 & 5 & 5268 & 20 & 2.721828\\\\\n",
       "\t6 & 5 & 34 & 5 & 5039 & 23 & 2.721828\\\\\n",
       "\\end{tabular}\n"
      ],
      "text/markdown": [
       "\n",
       "A data.frame: 6 × 6\n",
       "\n",
       "| <!--/--> | ID &lt;int&gt; | date_block_num &lt;dbl&gt; | shop_id &lt;int&gt; | item_id &lt;int&gt; | item_category_id &lt;int&gt; | item_cnt_month &lt;dbl&gt; |\n",
       "|---|---|---|---|---|---|---|\n",
       "| 1 | 0 | 34 | 5 | 5037 | 19 | 2.721828 |\n",
       "| 2 | 1 | 34 | 5 | 5320 | 55 | 1.860077 |\n",
       "| 3 | 2 | 34 | 5 | 5233 | 19 | 2.721828 |\n",
       "| 4 | 3 | 34 | 5 | 5232 | 23 | 2.721828 |\n",
       "| 5 | 4 | 34 | 5 | 5268 | 20 | 2.721828 |\n",
       "| 6 | 5 | 34 | 5 | 5039 | 23 | 2.721828 |\n",
       "\n"
      ],
      "text/plain": [
       "  ID date_block_num shop_id item_id item_category_id item_cnt_month\n",
       "1 0  34             5       5037    19               2.721828      \n",
       "2 1  34             5       5320    55               1.860077      \n",
       "3 2  34             5       5233    19               2.721828      \n",
       "4 3  34             5       5232    23               2.721828      \n",
       "5 4  34             5       5268    20               2.721828      \n",
       "6 5  34             5       5039    23               2.721828      "
      ]
     },
     "metadata": {},
     "output_type": "display_data"
    }
   ],
   "source": [
    "sales_test_2nd_attempt = cbind(sales_test_2nd_attempt, \n",
    "                               pred_y)\n",
    "colnames(sales_test_2nd_attempt) = c(\"ID\", \"date_block_num\", \"shop_id\", \"item_id\", \"item_category_id\", \"item_cnt_month\")\n",
    "head(sales_test_2nd_attempt)"
   ]
  },
  {
   "cell_type": "code",
   "execution_count": 19,
   "id": "599e2fa3",
   "metadata": {},
   "outputs": [],
   "source": [
    "write.csv(sales_test_2nd_attempt[, c(\"ID\", \"item_cnt_month\")], \"2nd_attempt.csv\", row.names = FALSE)"
   ]
  },
  {
   "attachments": {
    "image.png": {
     "image/png": "[encoded data removed]"
    }
   },
   "cell_type": "markdown",
   "id": "8af655eb",
   "metadata": {},
   "source": [
    "We could improve a little bit our score with the second attempt using XGBoost, but not much and we are still around position 13500 of the ranking:\n",
    "\n",
    "![image.png](attachment:image.png)"
   ]
  },
  {
   "cell_type": "markdown",
   "id": "d900162c",
   "metadata": {},
   "source": [
    "As stated on the challenge \"...the list of shops and products slightly changes every month.\". The fact that we do not have data for some months for given shop and item can create biasis when generating our linear regression. So, we are going to fill for every month with sales for every shop and item we need to predict, using 0 for items sold and price."
   ]
  },
  {
   "cell_type": "markdown",
   "id": "7860ca01",
   "metadata": {},
   "source": [
    "## 3rd attempt: simple linear regression + dummy sales"
   ]
  },
  {
   "cell_type": "code",
   "execution_count": 20,
   "id": "12dc8d36",
   "metadata": {},
   "outputs": [
    {
     "data": {
      "text/html": [
       "7282800"
      ],
      "text/latex": [
       "7282800"
      ],
      "text/markdown": [
       "7282800"
      ],
      "text/plain": [
       "[1] 7282800"
      ]
     },
     "metadata": {},
     "output_type": "display_data"
    },
    {
     "data": {
      "text/html": [
       "8291765"
      ],
      "text/latex": [
       "8291765"
      ],
      "text/markdown": [
       "8291765"
      ],
      "text/plain": [
       "[1] 8291765"
      ]
     },
     "metadata": {},
     "output_type": "display_data"
    }
   ],
   "source": [
    "dummy = expand.grid(unique(sales_train_enhanced$date_block_num), \n",
    "                    unique(sales_test$shop_id), \n",
    "                    unique(sales_test$item_id))\n",
    "colnames(dummy) = c(\"date_block_num\", \"shop_id\", \"item_id\")\n",
    "dummy = dummy %>%\n",
    "    inner_join(items, by = \"item_id\") %>%\n",
    "    select(date_block_num, shop_id, item_id, item_category_id)\n",
    "nrow(dummy)\n",
    "dummy = dummy %>%\n",
    "    full_join(sales_train_enhanced, by = c(\"date_block_num\", \"shop_id\", \"item_id\", \"item_category_id\")) %>%\n",
    "    mutate(\n",
    "        item_cnt_month = ifelse(is.na(item_cnt_month), 0, item_cnt_month),\n",
    "        total_price = ifelse(is.na(total_price), 0, total_price)) #%>%\n",
    "nrow(dummy)\n",
    "sales_train_enhanced = dummy"
   ]
  },
  {
   "cell_type": "code",
   "execution_count": 21,
   "id": "11607612",
   "metadata": {},
   "outputs": [
    {
     "data": {
      "text/plain": [
       "\n",
       "Call:\n",
       "lm(formula = item_cnt_month ~ date_block_num + shop_id + item_id + \n",
       "    item_category_id, data = sales_train_enhanced_3rd_attempt)\n",
       "\n",
       "Residuals:\n",
       "    Min      1Q  Median      3Q     Max \n",
       " -22.28   -0.51   -0.38   -0.22 2252.38 \n",
       "\n",
       "Coefficients:\n",
       "                      Estimate    Std. Error t value             Pr(>|t|)    \n",
       "(Intercept)       0.8492665979  0.0053458970  158.86 < 0.0000000000000002 ***\n",
       "date_block_num   -0.0049043371  0.0001390682  -35.27 < 0.0000000000000002 ***\n",
       "shop_id           0.0014293050  0.0000779761   18.33 < 0.0000000000000002 ***\n",
       "item_id          -0.0000012348  0.0000002253   -5.48         0.0000000425 ***\n",
       "item_category_id -0.0079564944  0.0000845864  -94.06 < 0.0000000000000002 ***\n",
       "---\n",
       "Signif. codes:  0 '***' 0.001 '**' 0.01 '*' 0.05 '.' 0.1 ' ' 1\n",
       "\n",
       "Residual standard error: 3.912 on 8291760 degrees of freedom\n",
       "Multiple R-squared:  0.001391,\tAdjusted R-squared:  0.001391 \n",
       "F-statistic:  2888 on 4 and 8291760 DF,  p-value: < 0.00000000000000022\n"
      ]
     },
     "metadata": {},
     "output_type": "display_data"
    }
   ],
   "source": [
    "sales_train_enhanced_3rd_attempt = sales_train_enhanced\n",
    "model_3rd_attempt = lm(item_cnt_month ~ date_block_num + shop_id + item_id + item_category_id, \n",
    "                       sales_train_enhanced_3rd_attempt)\n",
    "summary(model_3rd_attempt)"
   ]
  },
  {
   "cell_type": "markdown",
   "id": "598f9486",
   "metadata": {},
   "source": [
    "Now we prepare our test dataset, predict and submit to see what we get"
   ]
  },
  {
   "cell_type": "code",
   "execution_count": 22,
   "id": "d1012923",
   "metadata": {},
   "outputs": [
    {
     "data": {
      "text/html": [
       "<table class=\"dataframe\">\n",
       "<caption>A data.frame: 6 × 5</caption>\n",
       "<thead>\n",
       "\t<tr><th></th><th scope=col>ID</th><th scope=col>date_block_num</th><th scope=col>shop_id</th><th scope=col>item_id</th><th scope=col>item_category_id</th></tr>\n",
       "\t<tr><th></th><th scope=col>&lt;int&gt;</th><th scope=col>&lt;dbl&gt;</th><th scope=col>&lt;int&gt;</th><th scope=col>&lt;int&gt;</th><th scope=col>&lt;int&gt;</th></tr>\n",
       "</thead>\n",
       "<tbody>\n",
       "\t<tr><th scope=row>1</th><td>0</td><td>34</td><td>5</td><td>5037</td><td>19</td></tr>\n",
       "\t<tr><th scope=row>2</th><td>1</td><td>34</td><td>5</td><td>5320</td><td>55</td></tr>\n",
       "\t<tr><th scope=row>3</th><td>2</td><td>34</td><td>5</td><td>5233</td><td>19</td></tr>\n",
       "\t<tr><th scope=row>4</th><td>3</td><td>34</td><td>5</td><td>5232</td><td>23</td></tr>\n",
       "\t<tr><th scope=row>5</th><td>4</td><td>34</td><td>5</td><td>5268</td><td>20</td></tr>\n",
       "\t<tr><th scope=row>6</th><td>5</td><td>34</td><td>5</td><td>5039</td><td>23</td></tr>\n",
       "</tbody>\n",
       "</table>\n"
      ],
      "text/latex": [
       "A data.frame: 6 × 5\n",
       "\\begin{tabular}{r|lllll}\n",
       "  & ID & date\\_block\\_num & shop\\_id & item\\_id & item\\_category\\_id\\\\\n",
       "  & <int> & <dbl> & <int> & <int> & <int>\\\\\n",
       "\\hline\n",
       "\t1 & 0 & 34 & 5 & 5037 & 19\\\\\n",
       "\t2 & 1 & 34 & 5 & 5320 & 55\\\\\n",
       "\t3 & 2 & 34 & 5 & 5233 & 19\\\\\n",
       "\t4 & 3 & 34 & 5 & 5232 & 23\\\\\n",
       "\t5 & 4 & 34 & 5 & 5268 & 20\\\\\n",
       "\t6 & 5 & 34 & 5 & 5039 & 23\\\\\n",
       "\\end{tabular}\n"
      ],
      "text/markdown": [
       "\n",
       "A data.frame: 6 × 5\n",
       "\n",
       "| <!--/--> | ID &lt;int&gt; | date_block_num &lt;dbl&gt; | shop_id &lt;int&gt; | item_id &lt;int&gt; | item_category_id &lt;int&gt; |\n",
       "|---|---|---|---|---|---|\n",
       "| 1 | 0 | 34 | 5 | 5037 | 19 |\n",
       "| 2 | 1 | 34 | 5 | 5320 | 55 |\n",
       "| 3 | 2 | 34 | 5 | 5233 | 19 |\n",
       "| 4 | 3 | 34 | 5 | 5232 | 23 |\n",
       "| 5 | 4 | 34 | 5 | 5268 | 20 |\n",
       "| 6 | 5 | 34 | 5 | 5039 | 23 |\n",
       "\n"
      ],
      "text/plain": [
       "  ID date_block_num shop_id item_id item_category_id\n",
       "1 0  34             5       5037    19              \n",
       "2 1  34             5       5320    55              \n",
       "3 2  34             5       5233    19              \n",
       "4 3  34             5       5232    23              \n",
       "5 4  34             5       5268    20              \n",
       "6 5  34             5       5039    23              "
      ]
     },
     "metadata": {},
     "output_type": "display_data"
    }
   ],
   "source": [
    "sales_test_3rd_attempt = sales_test\n",
    "sales_test_3rd_attempt$date_block_num = max(sales_train_enhanced$date_block_num) + 1\n",
    "sales_test_3rd_attempt = sales_test_3rd_attempt %>%\n",
    "    inner_join(items, by = \"item_id\") %>%\n",
    "    select(ID, date_block_num, shop_id, item_id, item_category_id)\n",
    "head(sales_test_3rd_attempt)"
   ]
  },
  {
   "cell_type": "code",
   "execution_count": 23,
   "id": "4b02c342",
   "metadata": {},
   "outputs": [
    {
     "data": {
      "text/html": [
       "<table class=\"dataframe\">\n",
       "<caption>A data.frame: 6 × 6</caption>\n",
       "<thead>\n",
       "\t<tr><th></th><th scope=col>ID</th><th scope=col>date_block_num</th><th scope=col>shop_id</th><th scope=col>item_id</th><th scope=col>item_category_id</th><th scope=col>item_cnt_month</th></tr>\n",
       "\t<tr><th></th><th scope=col>&lt;int&gt;</th><th scope=col>&lt;dbl&gt;</th><th scope=col>&lt;int&gt;</th><th scope=col>&lt;int&gt;</th><th scope=col>&lt;int&gt;</th><th scope=col>&lt;dbl&gt;</th></tr>\n",
       "</thead>\n",
       "<tbody>\n",
       "\t<tr><th scope=row>1</th><td>0</td><td>34</td><td>5</td><td>5037</td><td>19</td><td>0.5322727</td></tr>\n",
       "\t<tr><th scope=row>2</th><td>1</td><td>34</td><td>5</td><td>5320</td><td>55</td><td>0.2454895</td></tr>\n",
       "\t<tr><th scope=row>3</th><td>2</td><td>34</td><td>5</td><td>5233</td><td>19</td><td>0.5320307</td></tr>\n",
       "\t<tr><th scope=row>4</th><td>3</td><td>34</td><td>5</td><td>5232</td><td>23</td><td>0.5002059</td></tr>\n",
       "\t<tr><th scope=row>5</th><td>4</td><td>34</td><td>5</td><td>5268</td><td>20</td><td>0.5240310</td></tr>\n",
       "\t<tr><th scope=row>6</th><td>5</td><td>34</td><td>5</td><td>5039</td><td>23</td><td>0.5004443</td></tr>\n",
       "</tbody>\n",
       "</table>\n"
      ],
      "text/latex": [
       "A data.frame: 6 × 6\n",
       "\\begin{tabular}{r|llllll}\n",
       "  & ID & date\\_block\\_num & shop\\_id & item\\_id & item\\_category\\_id & item\\_cnt\\_month\\\\\n",
       "  & <int> & <dbl> & <int> & <int> & <int> & <dbl>\\\\\n",
       "\\hline\n",
       "\t1 & 0 & 34 & 5 & 5037 & 19 & 0.5322727\\\\\n",
       "\t2 & 1 & 34 & 5 & 5320 & 55 & 0.2454895\\\\\n",
       "\t3 & 2 & 34 & 5 & 5233 & 19 & 0.5320307\\\\\n",
       "\t4 & 3 & 34 & 5 & 5232 & 23 & 0.5002059\\\\\n",
       "\t5 & 4 & 34 & 5 & 5268 & 20 & 0.5240310\\\\\n",
       "\t6 & 5 & 34 & 5 & 5039 & 23 & 0.5004443\\\\\n",
       "\\end{tabular}\n"
      ],
      "text/markdown": [
       "\n",
       "A data.frame: 6 × 6\n",
       "\n",
       "| <!--/--> | ID &lt;int&gt; | date_block_num &lt;dbl&gt; | shop_id &lt;int&gt; | item_id &lt;int&gt; | item_category_id &lt;int&gt; | item_cnt_month &lt;dbl&gt; |\n",
       "|---|---|---|---|---|---|---|\n",
       "| 1 | 0 | 34 | 5 | 5037 | 19 | 0.5322727 |\n",
       "| 2 | 1 | 34 | 5 | 5320 | 55 | 0.2454895 |\n",
       "| 3 | 2 | 34 | 5 | 5233 | 19 | 0.5320307 |\n",
       "| 4 | 3 | 34 | 5 | 5232 | 23 | 0.5002059 |\n",
       "| 5 | 4 | 34 | 5 | 5268 | 20 | 0.5240310 |\n",
       "| 6 | 5 | 34 | 5 | 5039 | 23 | 0.5004443 |\n",
       "\n"
      ],
      "text/plain": [
       "  ID date_block_num shop_id item_id item_category_id item_cnt_month\n",
       "1 0  34             5       5037    19               0.5322727     \n",
       "2 1  34             5       5320    55               0.2454895     \n",
       "3 2  34             5       5233    19               0.5320307     \n",
       "4 3  34             5       5232    23               0.5002059     \n",
       "5 4  34             5       5268    20               0.5240310     \n",
       "6 5  34             5       5039    23               0.5004443     "
      ]
     },
     "metadata": {},
     "output_type": "display_data"
    }
   ],
   "source": [
    "sales_test_3rd_attempt = cbind(sales_test_3rd_attempt, \n",
    "                               predict(model_3rd_attempt, sales_test_3rd_attempt))\n",
    "colnames(sales_test_3rd_attempt) = c(\"ID\", \"date_block_num\", \"shop_id\", \"item_id\", \n",
    "                                     \"item_category_id\", \"item_cnt_month\")\n",
    "head(sales_test_3rd_attempt)"
   ]
  },
  {
   "cell_type": "code",
   "execution_count": 24,
   "id": "bd6225f1",
   "metadata": {},
   "outputs": [],
   "source": [
    "write.csv(sales_test_3rd_attempt[, c(\"ID\", \"item_cnt_month\")], \"3rd_attempt.csv\", row.names = FALSE)"
   ]
  },
  {
   "attachments": {
    "3rd_attempt.png": {
     "image/png": "[encoded data removed]"
    }
   },
   "cell_type": "markdown",
   "id": "12d71662",
   "metadata": {},
   "source": [
    "Wow! Just by adding the missing \"sales\" make our score increase from 2.295 to 1.214, which pumped us up to position around 9600\n",
    "\n",
    "![3rd_attempt.png](attachment:3rd_attempt.png)"
   ]
  },
  {
   "cell_type": "markdown",
   "id": "2d2f3568",
   "metadata": {},
   "source": [
    "## 4th attempt: adding 1 to date_block_num\n",
    "\n",
    "We know (from Linear Regression class) that predictors with too much zero values can generate biases when estimating the predictors. So, we are going to add 1 to the predictor variable that contains the month sequence, just to remove this potential bias. We are also going to remove item_category_id from the predictor set."
   ]
  },
  {
   "cell_type": "code",
   "execution_count": 25,
   "id": "5eecf3e6",
   "metadata": {},
   "outputs": [
    {
     "data": {
      "text/html": [
       "<table class=\"dataframe\">\n",
       "<caption>A data.frame: 6 × 6</caption>\n",
       "<thead>\n",
       "\t<tr><th></th><th scope=col>date_block_num</th><th scope=col>shop_id</th><th scope=col>item_id</th><th scope=col>item_category_id</th><th scope=col>item_cnt_month</th><th scope=col>total_price</th></tr>\n",
       "\t<tr><th></th><th scope=col>&lt;dbl&gt;</th><th scope=col>&lt;int&gt;</th><th scope=col>&lt;int&gt;</th><th scope=col>&lt;int&gt;</th><th scope=col>&lt;dbl&gt;</th><th scope=col>&lt;dbl&gt;</th></tr>\n",
       "</thead>\n",
       "<tbody>\n",
       "\t<tr><th scope=row>1</th><td>1</td><td>5</td><td>5037</td><td>19</td><td>0</td><td>0</td></tr>\n",
       "\t<tr><th scope=row>2</th><td>2</td><td>5</td><td>5037</td><td>19</td><td>0</td><td>0</td></tr>\n",
       "\t<tr><th scope=row>3</th><td>3</td><td>5</td><td>5037</td><td>19</td><td>0</td><td>0</td></tr>\n",
       "\t<tr><th scope=row>4</th><td>4</td><td>5</td><td>5037</td><td>19</td><td>0</td><td>0</td></tr>\n",
       "\t<tr><th scope=row>5</th><td>5</td><td>5</td><td>5037</td><td>19</td><td>0</td><td>0</td></tr>\n",
       "\t<tr><th scope=row>6</th><td>6</td><td>5</td><td>5037</td><td>19</td><td>0</td><td>0</td></tr>\n",
       "</tbody>\n",
       "</table>\n"
      ],
      "text/latex": [
       "A data.frame: 6 × 6\n",
       "\\begin{tabular}{r|llllll}\n",
       "  & date\\_block\\_num & shop\\_id & item\\_id & item\\_category\\_id & item\\_cnt\\_month & total\\_price\\\\\n",
       "  & <dbl> & <int> & <int> & <int> & <dbl> & <dbl>\\\\\n",
       "\\hline\n",
       "\t1 & 1 & 5 & 5037 & 19 & 0 & 0\\\\\n",
       "\t2 & 2 & 5 & 5037 & 19 & 0 & 0\\\\\n",
       "\t3 & 3 & 5 & 5037 & 19 & 0 & 0\\\\\n",
       "\t4 & 4 & 5 & 5037 & 19 & 0 & 0\\\\\n",
       "\t5 & 5 & 5 & 5037 & 19 & 0 & 0\\\\\n",
       "\t6 & 6 & 5 & 5037 & 19 & 0 & 0\\\\\n",
       "\\end{tabular}\n"
      ],
      "text/markdown": [
       "\n",
       "A data.frame: 6 × 6\n",
       "\n",
       "| <!--/--> | date_block_num &lt;dbl&gt; | shop_id &lt;int&gt; | item_id &lt;int&gt; | item_category_id &lt;int&gt; | item_cnt_month &lt;dbl&gt; | total_price &lt;dbl&gt; |\n",
       "|---|---|---|---|---|---|---|\n",
       "| 1 | 1 | 5 | 5037 | 19 | 0 | 0 |\n",
       "| 2 | 2 | 5 | 5037 | 19 | 0 | 0 |\n",
       "| 3 | 3 | 5 | 5037 | 19 | 0 | 0 |\n",
       "| 4 | 4 | 5 | 5037 | 19 | 0 | 0 |\n",
       "| 5 | 5 | 5 | 5037 | 19 | 0 | 0 |\n",
       "| 6 | 6 | 5 | 5037 | 19 | 0 | 0 |\n",
       "\n"
      ],
      "text/plain": [
       "  date_block_num shop_id item_id item_category_id item_cnt_month total_price\n",
       "1 1              5       5037    19               0              0          \n",
       "2 2              5       5037    19               0              0          \n",
       "3 3              5       5037    19               0              0          \n",
       "4 4              5       5037    19               0              0          \n",
       "5 5              5       5037    19               0              0          \n",
       "6 6              5       5037    19               0              0          "
      ]
     },
     "metadata": {},
     "output_type": "display_data"
    }
   ],
   "source": [
    "sales_train_enhanced$date_block_num = sales_train_enhanced$date_block_num + 1\n",
    "head(sales_train_enhanced)"
   ]
  },
  {
   "cell_type": "code",
   "execution_count": 26,
   "id": "5b85ace1",
   "metadata": {},
   "outputs": [
    {
     "data": {
      "text/plain": [
       "\n",
       "Call:\n",
       "lm(formula = item_cnt_month ~ date_block_num + shop_id + item_id, \n",
       "    data = sales_train_enhanced_4th_attempt)\n",
       "\n",
       "Residuals:\n",
       "    Min      1Q  Median      3Q     Max \n",
       " -22.46   -0.48   -0.41   -0.33 2252.68 \n",
       "\n",
       "Coefficients:\n",
       "                    Estimate    Std. Error t value            Pr(>|t|)    \n",
       "(Intercept)     0.5565550189  0.0043819507  127.01 <0.0000000000000002 ***\n",
       "date_block_num -0.0051589734  0.0001391160  -37.08 <0.0000000000000002 ***\n",
       "shop_id         0.0014356023  0.0000780177   18.40 <0.0000000000000002 ***\n",
       "item_id        -0.0000068204  0.0000002175  -31.36 <0.0000000000000002 ***\n",
       "---\n",
       "Signif. codes:  0 '***' 0.001 '**' 0.01 '*' 0.05 '.' 0.1 ' ' 1\n",
       "\n",
       "Residual standard error: 3.914 on 8291761 degrees of freedom\n",
       "Multiple R-squared:  0.0003258,\tAdjusted R-squared:  0.0003254 \n",
       "F-statistic: 900.7 on 3 and 8291761 DF,  p-value: < 0.00000000000000022\n"
      ]
     },
     "metadata": {},
     "output_type": "display_data"
    }
   ],
   "source": [
    "sales_train_enhanced_4th_attempt = sales_train_enhanced\n",
    "model_4th_attempt = lm(item_cnt_month ~ date_block_num + shop_id + item_id, \n",
    "                       sales_train_enhanced_4th_attempt)\n",
    "summary(model_4th_attempt)"
   ]
  },
  {
   "cell_type": "markdown",
   "id": "84585d3b",
   "metadata": {},
   "source": [
    "Then again we prepare our test dataset, predict and submit to see what we get"
   ]
  },
  {
   "cell_type": "code",
   "execution_count": 27,
   "id": "d6c9c7bb",
   "metadata": {},
   "outputs": [
    {
     "data": {
      "text/html": [
       "<table class=\"dataframe\">\n",
       "<caption>A data.frame: 6 × 4</caption>\n",
       "<thead>\n",
       "\t<tr><th></th><th scope=col>ID</th><th scope=col>date_block_num</th><th scope=col>shop_id</th><th scope=col>item_id</th></tr>\n",
       "\t<tr><th></th><th scope=col>&lt;int&gt;</th><th scope=col>&lt;dbl&gt;</th><th scope=col>&lt;int&gt;</th><th scope=col>&lt;int&gt;</th></tr>\n",
       "</thead>\n",
       "<tbody>\n",
       "\t<tr><th scope=row>1</th><td>0</td><td>35</td><td>5</td><td>5037</td></tr>\n",
       "\t<tr><th scope=row>2</th><td>1</td><td>35</td><td>5</td><td>5320</td></tr>\n",
       "\t<tr><th scope=row>3</th><td>2</td><td>35</td><td>5</td><td>5233</td></tr>\n",
       "\t<tr><th scope=row>4</th><td>3</td><td>35</td><td>5</td><td>5232</td></tr>\n",
       "\t<tr><th scope=row>5</th><td>4</td><td>35</td><td>5</td><td>5268</td></tr>\n",
       "\t<tr><th scope=row>6</th><td>5</td><td>35</td><td>5</td><td>5039</td></tr>\n",
       "</tbody>\n",
       "</table>\n"
      ],
      "text/latex": [
       "A data.frame: 6 × 4\n",
       "\\begin{tabular}{r|llll}\n",
       "  & ID & date\\_block\\_num & shop\\_id & item\\_id\\\\\n",
       "  & <int> & <dbl> & <int> & <int>\\\\\n",
       "\\hline\n",
       "\t1 & 0 & 35 & 5 & 5037\\\\\n",
       "\t2 & 1 & 35 & 5 & 5320\\\\\n",
       "\t3 & 2 & 35 & 5 & 5233\\\\\n",
       "\t4 & 3 & 35 & 5 & 5232\\\\\n",
       "\t5 & 4 & 35 & 5 & 5268\\\\\n",
       "\t6 & 5 & 35 & 5 & 5039\\\\\n",
       "\\end{tabular}\n"
      ],
      "text/markdown": [
       "\n",
       "A data.frame: 6 × 4\n",
       "\n",
       "| <!--/--> | ID &lt;int&gt; | date_block_num &lt;dbl&gt; | shop_id &lt;int&gt; | item_id &lt;int&gt; |\n",
       "|---|---|---|---|---|\n",
       "| 1 | 0 | 35 | 5 | 5037 |\n",
       "| 2 | 1 | 35 | 5 | 5320 |\n",
       "| 3 | 2 | 35 | 5 | 5233 |\n",
       "| 4 | 3 | 35 | 5 | 5232 |\n",
       "| 5 | 4 | 35 | 5 | 5268 |\n",
       "| 6 | 5 | 35 | 5 | 5039 |\n",
       "\n"
      ],
      "text/plain": [
       "  ID date_block_num shop_id item_id\n",
       "1 0  35             5       5037   \n",
       "2 1  35             5       5320   \n",
       "3 2  35             5       5233   \n",
       "4 3  35             5       5232   \n",
       "5 4  35             5       5268   \n",
       "6 5  35             5       5039   "
      ]
     },
     "metadata": {},
     "output_type": "display_data"
    }
   ],
   "source": [
    "sales_test_4th_attempt = sales_test\n",
    "sales_test_4th_attempt$date_block_num = max(sales_train_enhanced$date_block_num) + 1\n",
    "sales_test_4th_attempt = sales_test_4th_attempt %>%\n",
    "    inner_join(items, by = \"item_id\") %>%\n",
    "    select(ID, date_block_num, shop_id, item_id)\n",
    "head(sales_test_4th_attempt)"
   ]
  },
  {
   "cell_type": "code",
   "execution_count": 28,
   "id": "2648970a",
   "metadata": {},
   "outputs": [
    {
     "data": {
      "text/html": [
       "<table class=\"dataframe\">\n",
       "<caption>A data.frame: 6 × 5</caption>\n",
       "<thead>\n",
       "\t<tr><th></th><th scope=col>ID</th><th scope=col>date_block_num</th><th scope=col>shop_id</th><th scope=col>item_id</th><th scope=col>item_cnt_month</th></tr>\n",
       "\t<tr><th></th><th scope=col>&lt;int&gt;</th><th scope=col>&lt;dbl&gt;</th><th scope=col>&lt;int&gt;</th><th scope=col>&lt;int&gt;</th><th scope=col>&lt;dbl&gt;</th></tr>\n",
       "</thead>\n",
       "<tbody>\n",
       "\t<tr><th scope=row>1</th><td>0</td><td>35</td><td>5</td><td>5037</td><td>0.3488148</td></tr>\n",
       "\t<tr><th scope=row>2</th><td>1</td><td>35</td><td>5</td><td>5320</td><td>0.3468847</td></tr>\n",
       "\t<tr><th scope=row>3</th><td>2</td><td>35</td><td>5</td><td>5233</td><td>0.3474781</td></tr>\n",
       "\t<tr><th scope=row>4</th><td>3</td><td>35</td><td>5</td><td>5232</td><td>0.3474849</td></tr>\n",
       "\t<tr><th scope=row>5</th><td>4</td><td>35</td><td>5</td><td>5268</td><td>0.3472393</td></tr>\n",
       "\t<tr><th scope=row>6</th><td>5</td><td>35</td><td>5</td><td>5039</td><td>0.3488012</td></tr>\n",
       "</tbody>\n",
       "</table>\n"
      ],
      "text/latex": [
       "A data.frame: 6 × 5\n",
       "\\begin{tabular}{r|lllll}\n",
       "  & ID & date\\_block\\_num & shop\\_id & item\\_id & item\\_cnt\\_month\\\\\n",
       "  & <int> & <dbl> & <int> & <int> & <dbl>\\\\\n",
       "\\hline\n",
       "\t1 & 0 & 35 & 5 & 5037 & 0.3488148\\\\\n",
       "\t2 & 1 & 35 & 5 & 5320 & 0.3468847\\\\\n",
       "\t3 & 2 & 35 & 5 & 5233 & 0.3474781\\\\\n",
       "\t4 & 3 & 35 & 5 & 5232 & 0.3474849\\\\\n",
       "\t5 & 4 & 35 & 5 & 5268 & 0.3472393\\\\\n",
       "\t6 & 5 & 35 & 5 & 5039 & 0.3488012\\\\\n",
       "\\end{tabular}\n"
      ],
      "text/markdown": [
       "\n",
       "A data.frame: 6 × 5\n",
       "\n",
       "| <!--/--> | ID &lt;int&gt; | date_block_num &lt;dbl&gt; | shop_id &lt;int&gt; | item_id &lt;int&gt; | item_cnt_month &lt;dbl&gt; |\n",
       "|---|---|---|---|---|---|\n",
       "| 1 | 0 | 35 | 5 | 5037 | 0.3488148 |\n",
       "| 2 | 1 | 35 | 5 | 5320 | 0.3468847 |\n",
       "| 3 | 2 | 35 | 5 | 5233 | 0.3474781 |\n",
       "| 4 | 3 | 35 | 5 | 5232 | 0.3474849 |\n",
       "| 5 | 4 | 35 | 5 | 5268 | 0.3472393 |\n",
       "| 6 | 5 | 35 | 5 | 5039 | 0.3488012 |\n",
       "\n"
      ],
      "text/plain": [
       "  ID date_block_num shop_id item_id item_cnt_month\n",
       "1 0  35             5       5037    0.3488148     \n",
       "2 1  35             5       5320    0.3468847     \n",
       "3 2  35             5       5233    0.3474781     \n",
       "4 3  35             5       5232    0.3474849     \n",
       "5 4  35             5       5268    0.3472393     \n",
       "6 5  35             5       5039    0.3488012     "
      ]
     },
     "metadata": {},
     "output_type": "display_data"
    }
   ],
   "source": [
    "sales_test_4th_attempt = cbind(sales_test_4th_attempt, \n",
    "                               predict(model_4th_attempt, sales_test_4th_attempt))\n",
    "colnames(sales_test_4th_attempt) = c(\"ID\", \"date_block_num\", \"shop_id\", \"item_id\", \"item_cnt_month\")\n",
    "head(sales_test_4th_attempt)"
   ]
  },
  {
   "cell_type": "code",
   "execution_count": 29,
   "id": "201e4033",
   "metadata": {},
   "outputs": [],
   "source": [
    "write.csv(sales_test_4th_attempt[, c(\"ID\", \"item_cnt_month\")], \"4th_attempt.csv\", row.names = FALSE)"
   ]
  },
  {
   "attachments": {
    "image.png": {
     "image/png": "[encoded data removed]"
    }
   },
   "cell_type": "markdown",
   "id": "adf5621e",
   "metadata": {},
   "source": [
    "The applied changes did not enhance the score:\n",
    "\n",
    "![image.png](attachment:image.png)\n",
    "\n",
    "Let's try again with XGBoost after we have added the dummy sales for missing months"
   ]
  },
  {
   "cell_type": "markdown",
   "id": "ee73d3c7",
   "metadata": {},
   "source": [
    "## 5th attempt: XGBoost after feature enhancement"
   ]
  },
  {
   "cell_type": "code",
   "execution_count": 30,
   "id": "9fc48c93",
   "metadata": {},
   "outputs": [
    {
     "name": "stdout",
     "output_type": "stream",
     "text": [
      "##### xgb.Booster\n",
      "raw: 21.5 Kb \n",
      "call:\n",
      "  xgb.train(params = params, data = dtrain, nrounds = nrounds, \n",
      "    watchlist = watchlist, verbose = verbose, print_every_n = print_every_n, \n",
      "    early_stopping_rounds = early_stopping_rounds, maximize = maximize, \n",
      "    save_period = save_period, save_name = save_name, xgb_model = xgb_model, \n",
      "    callbacks = callbacks, max.depth = 1)\n",
      "params (as set within xgb.train):\n",
      "  max_depth = \"1\", validate_parameters = \"1\"\n",
      "xgb.attributes:\n",
      "  niter\n",
      "callbacks:\n",
      "  cb.evaluation.log()\n",
      "# of features: 4 \n",
      "niter: 25\n",
      "nfeatures : 4 \n",
      "evaluation_log:\n",
      "    iter train_rmse\n",
      "       1   3.911308\n",
      "       2   3.909487\n",
      "---                \n",
      "      24   3.899263\n",
      "      25   3.899040\n"
     ]
    }
   ],
   "source": [
    "sales_train_enhanced_5th_attempt = data.frame(\n",
    "    sales_train_enhanced[, c(\"date_block_num\", \"shop_id\", \"item_id\", \"item_category_id\", \"item_cnt_month\")])\n",
    "train_x = data.matrix(sales_train_enhanced_5th_attempt[, -5])\n",
    "train_y = sales_train_enhanced_5th_attempt[, 5]\n",
    "\n",
    "xgb_train = xgb.DMatrix(data = train_x, label = train_y)\n",
    "xgbc = xgboost(data = xgb_train, max.depth = 1, nrounds = 25, verbose = 0)\n",
    "print(xgbc)"
   ]
  },
  {
   "cell_type": "markdown",
   "id": "ea9f6dc9",
   "metadata": {},
   "source": [
    "Now we prepare our training set, predict it and generate the file for submission"
   ]
  },
  {
   "cell_type": "code",
   "execution_count": 31,
   "id": "c6dea443",
   "metadata": {},
   "outputs": [
    {
     "data": {
      "text/html": [
       "<table class=\"dataframe\">\n",
       "<caption>A data.frame: 6 × 5</caption>\n",
       "<thead>\n",
       "\t<tr><th></th><th scope=col>ID</th><th scope=col>date_block_num</th><th scope=col>shop_id</th><th scope=col>item_id</th><th scope=col>item_category_id</th></tr>\n",
       "\t<tr><th></th><th scope=col>&lt;int&gt;</th><th scope=col>&lt;dbl&gt;</th><th scope=col>&lt;int&gt;</th><th scope=col>&lt;int&gt;</th><th scope=col>&lt;int&gt;</th></tr>\n",
       "</thead>\n",
       "<tbody>\n",
       "\t<tr><th scope=row>1</th><td>0</td><td>35</td><td>5</td><td>5037</td><td>19</td></tr>\n",
       "\t<tr><th scope=row>2</th><td>1</td><td>35</td><td>5</td><td>5320</td><td>55</td></tr>\n",
       "\t<tr><th scope=row>3</th><td>2</td><td>35</td><td>5</td><td>5233</td><td>19</td></tr>\n",
       "\t<tr><th scope=row>4</th><td>3</td><td>35</td><td>5</td><td>5232</td><td>23</td></tr>\n",
       "\t<tr><th scope=row>5</th><td>4</td><td>35</td><td>5</td><td>5268</td><td>20</td></tr>\n",
       "\t<tr><th scope=row>6</th><td>5</td><td>35</td><td>5</td><td>5039</td><td>23</td></tr>\n",
       "</tbody>\n",
       "</table>\n"
      ],
      "text/latex": [
       "A data.frame: 6 × 5\n",
       "\\begin{tabular}{r|lllll}\n",
       "  & ID & date\\_block\\_num & shop\\_id & item\\_id & item\\_category\\_id\\\\\n",
       "  & <int> & <dbl> & <int> & <int> & <int>\\\\\n",
       "\\hline\n",
       "\t1 & 0 & 35 & 5 & 5037 & 19\\\\\n",
       "\t2 & 1 & 35 & 5 & 5320 & 55\\\\\n",
       "\t3 & 2 & 35 & 5 & 5233 & 19\\\\\n",
       "\t4 & 3 & 35 & 5 & 5232 & 23\\\\\n",
       "\t5 & 4 & 35 & 5 & 5268 & 20\\\\\n",
       "\t6 & 5 & 35 & 5 & 5039 & 23\\\\\n",
       "\\end{tabular}\n"
      ],
      "text/markdown": [
       "\n",
       "A data.frame: 6 × 5\n",
       "\n",
       "| <!--/--> | ID &lt;int&gt; | date_block_num &lt;dbl&gt; | shop_id &lt;int&gt; | item_id &lt;int&gt; | item_category_id &lt;int&gt; |\n",
       "|---|---|---|---|---|---|\n",
       "| 1 | 0 | 35 | 5 | 5037 | 19 |\n",
       "| 2 | 1 | 35 | 5 | 5320 | 55 |\n",
       "| 3 | 2 | 35 | 5 | 5233 | 19 |\n",
       "| 4 | 3 | 35 | 5 | 5232 | 23 |\n",
       "| 5 | 4 | 35 | 5 | 5268 | 20 |\n",
       "| 6 | 5 | 35 | 5 | 5039 | 23 |\n",
       "\n"
      ],
      "text/plain": [
       "  ID date_block_num shop_id item_id item_category_id\n",
       "1 0  35             5       5037    19              \n",
       "2 1  35             5       5320    55              \n",
       "3 2  35             5       5233    19              \n",
       "4 3  35             5       5232    23              \n",
       "5 4  35             5       5268    20              \n",
       "6 5  35             5       5039    23              "
      ]
     },
     "metadata": {},
     "output_type": "display_data"
    }
   ],
   "source": [
    "sales_test_5th_attempt = sales_test\n",
    "sales_test_5th_attempt$date_block_num = max(sales_train_enhanced$date_block_num) + 1\n",
    "sales_test_5th_attempt = sales_test_5th_attempt %>%\n",
    "    inner_join(items, by = \"item_id\") %>%\n",
    "    select(ID, date_block_num, shop_id, item_id, item_category_id)\n",
    "head(sales_test_5th_attempt)"
   ]
  },
  {
   "cell_type": "code",
   "execution_count": 32,
   "id": "3a444d29",
   "metadata": {},
   "outputs": [],
   "source": [
    "test_x = data.matrix(sales_test_5th_attempt[, -1])\n",
    "xgb_test = xgb.DMatrix(data = test_x)\n",
    "pred_y = predict(xgbc, xgb_test)"
   ]
  },
  {
   "cell_type": "code",
   "execution_count": 33,
   "id": "9b94aa90",
   "metadata": {},
   "outputs": [
    {
     "data": {
      "text/html": [
       "<table class=\"dataframe\">\n",
       "<caption>A data.frame: 6 × 6</caption>\n",
       "<thead>\n",
       "\t<tr><th></th><th scope=col>ID</th><th scope=col>date_block_num</th><th scope=col>shop_id</th><th scope=col>item_id</th><th scope=col>item_category_id</th><th scope=col>item_cnt_month</th></tr>\n",
       "\t<tr><th></th><th scope=col>&lt;int&gt;</th><th scope=col>&lt;dbl&gt;</th><th scope=col>&lt;int&gt;</th><th scope=col>&lt;int&gt;</th><th scope=col>&lt;int&gt;</th><th scope=col>&lt;dbl&gt;</th></tr>\n",
       "</thead>\n",
       "<tbody>\n",
       "\t<tr><th scope=row>1</th><td>0</td><td>35</td><td>5</td><td>5037</td><td>19</td><td>0.7006335</td></tr>\n",
       "\t<tr><th scope=row>2</th><td>1</td><td>35</td><td>5</td><td>5320</td><td>55</td><td>0.2125038</td></tr>\n",
       "\t<tr><th scope=row>3</th><td>2</td><td>35</td><td>5</td><td>5233</td><td>19</td><td>0.7006335</td></tr>\n",
       "\t<tr><th scope=row>4</th><td>3</td><td>35</td><td>5</td><td>5232</td><td>23</td><td>0.7006335</td></tr>\n",
       "\t<tr><th scope=row>5</th><td>4</td><td>35</td><td>5</td><td>5268</td><td>20</td><td>0.7006335</td></tr>\n",
       "\t<tr><th scope=row>6</th><td>5</td><td>35</td><td>5</td><td>5039</td><td>23</td><td>0.7006335</td></tr>\n",
       "</tbody>\n",
       "</table>\n"
      ],
      "text/latex": [
       "A data.frame: 6 × 6\n",
       "\\begin{tabular}{r|llllll}\n",
       "  & ID & date\\_block\\_num & shop\\_id & item\\_id & item\\_category\\_id & item\\_cnt\\_month\\\\\n",
       "  & <int> & <dbl> & <int> & <int> & <int> & <dbl>\\\\\n",
       "\\hline\n",
       "\t1 & 0 & 35 & 5 & 5037 & 19 & 0.7006335\\\\\n",
       "\t2 & 1 & 35 & 5 & 5320 & 55 & 0.2125038\\\\\n",
       "\t3 & 2 & 35 & 5 & 5233 & 19 & 0.7006335\\\\\n",
       "\t4 & 3 & 35 & 5 & 5232 & 23 & 0.7006335\\\\\n",
       "\t5 & 4 & 35 & 5 & 5268 & 20 & 0.7006335\\\\\n",
       "\t6 & 5 & 35 & 5 & 5039 & 23 & 0.7006335\\\\\n",
       "\\end{tabular}\n"
      ],
      "text/markdown": [
       "\n",
       "A data.frame: 6 × 6\n",
       "\n",
       "| <!--/--> | ID &lt;int&gt; | date_block_num &lt;dbl&gt; | shop_id &lt;int&gt; | item_id &lt;int&gt; | item_category_id &lt;int&gt; | item_cnt_month &lt;dbl&gt; |\n",
       "|---|---|---|---|---|---|---|\n",
       "| 1 | 0 | 35 | 5 | 5037 | 19 | 0.7006335 |\n",
       "| 2 | 1 | 35 | 5 | 5320 | 55 | 0.2125038 |\n",
       "| 3 | 2 | 35 | 5 | 5233 | 19 | 0.7006335 |\n",
       "| 4 | 3 | 35 | 5 | 5232 | 23 | 0.7006335 |\n",
       "| 5 | 4 | 35 | 5 | 5268 | 20 | 0.7006335 |\n",
       "| 6 | 5 | 35 | 5 | 5039 | 23 | 0.7006335 |\n",
       "\n"
      ],
      "text/plain": [
       "  ID date_block_num shop_id item_id item_category_id item_cnt_month\n",
       "1 0  35             5       5037    19               0.7006335     \n",
       "2 1  35             5       5320    55               0.2125038     \n",
       "3 2  35             5       5233    19               0.7006335     \n",
       "4 3  35             5       5232    23               0.7006335     \n",
       "5 4  35             5       5268    20               0.7006335     \n",
       "6 5  35             5       5039    23               0.7006335     "
      ]
     },
     "metadata": {},
     "output_type": "display_data"
    }
   ],
   "source": [
    "sales_test_5th_attempt = cbind(sales_test_5th_attempt, \n",
    "                               pred_y)\n",
    "colnames(sales_test_5th_attempt) = c(\"ID\", \"date_block_num\", \"shop_id\", \"item_id\", \n",
    "                                     \"item_category_id\", \"item_cnt_month\")\n",
    "head(sales_test_5th_attempt)"
   ]
  },
  {
   "cell_type": "code",
   "execution_count": 34,
   "id": "830d693e",
   "metadata": {},
   "outputs": [],
   "source": [
    "write.csv(sales_test_5th_attempt[, c(\"ID\", \"item_cnt_month\")], \"5th_attempt.csv\", row.names = FALSE)"
   ]
  },
  {
   "attachments": {
    "image.png": {
     "image/png": "[encoded data removed]"
    }
   },
   "cell_type": "markdown",
   "id": "34721b58",
   "metadata": {},
   "source": [
    "The attempt using XGBoost enhanced our performance a little bit, moving us up around 100 positions on the ranking:\n",
    "\n",
    "![image.png](attachment:image.png)"
   ]
  },
  {
   "cell_type": "markdown",
   "id": "10be0da4",
   "metadata": {},
   "source": [
    "## Conclusion\n",
    "\n",
    "Througout this project we have shown some of the most common steps when developing a machine learning model using R, such as:\n",
    "\n",
    "* Data Analysis\n",
    "* Data preparation (including feature engineering)\n",
    "* Models training and evaluation\n",
    "\n",
    "For sure we could have gone further, such as converting the categorical features on columns (one hot enconding) and/or experimented with XGBoost hyper-parameters. Or even try out other models (such as Random Forest). \n",
    "\n",
    "But for the purpose of the course, which is getting familiarized with Data Analysis using R, this is enough to show the content learned during the semester. "
   ]
  },
  {
   "cell_type": "code",
   "execution_count": null,
   "id": "e533503a",
   "metadata": {},
   "outputs": [],
   "source": []
  }
 ],
 "metadata": {
  "kernelspec": {
   "display_name": "R",
   "language": "R",
   "name": "ir"
  },
  "language_info": {
   "codemirror_mode": "r",
   "file_extension": ".r",
   "mimetype": "text/x-r-source",
   "name": "R",
   "pygments_lexer": "r",
   "version": "4.1.1"
  }
 },
 "nbformat": 4,
 "nbformat_minor": 5
}
